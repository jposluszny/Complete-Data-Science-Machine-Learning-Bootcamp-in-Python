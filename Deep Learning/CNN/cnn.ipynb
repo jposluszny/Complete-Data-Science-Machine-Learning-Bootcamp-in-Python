{
 "cells": [
  {
   "cell_type": "markdown",
   "metadata": {
    "colab_type": "text",
    "id": "3Q_g4U1V4GTl"
   },
   "source": [
    "# Deep Learning with TensorFlow"
   ]
  },
  {
   "cell_type": "markdown",
   "metadata": {
    "colab_type": "text",
    "id": "sz-klQ2l4GTn"
   },
   "source": [
    "![Namespace Logo](../labs.png)"
   ]
  },
  {
   "cell_type": "code",
   "execution_count": null,
   "metadata": {
    "colab": {},
    "colab_type": "code",
    "id": "X_yvOS2d4GTo"
   },
   "outputs": [],
   "source": [
    "import tensorflow as tf\n",
    "from tensorflow.keras import Sequential\n",
    "from tensorflow.keras.layers import Dense,Conv2D,MaxPooling2D,Flatten,Reshape"
   ]
  },
  {
   "cell_type": "code",
   "execution_count": null,
   "metadata": {
    "colab": {},
    "colab_type": "code",
    "id": "Qzv-Lci_4GTv"
   },
   "outputs": [],
   "source": [
    "mnist = tf.keras.datasets.mnist\n",
    "\n",
    "(x_train, y_train), (x_test, y_test) = mnist.load_data()\n",
    "x_train, x_test = x_train / 255.0, x_test / 255.0\n",
    "validation_data = x_test, y_test"
   ]
  },
  {
   "cell_type": "code",
   "execution_count": null,
   "metadata": {
    "colab": {
     "base_uri": "https://localhost:8080/",
     "height": 34
    },
    "colab_type": "code",
    "id": "Ys-B2xPi4GT4",
    "outputId": "66b17ca7-73fa-4385-907c-9f72e8ec3715"
   },
   "outputs": [
    {
     "data": {
      "text/plain": [
       "(60000, 28, 28)"
      ]
     },
     "execution_count": 54,
     "metadata": {
      "tags": []
     },
     "output_type": "execute_result"
    }
   ],
   "source": [
    "x_train.shape"
   ]
  },
  {
   "cell_type": "code",
   "execution_count": null,
   "metadata": {
    "colab": {
     "base_uri": "https://localhost:8080/",
     "height": 34
    },
    "colab_type": "code",
    "id": "eJumFdTs4GT-",
    "outputId": "6a0dd753-3b7f-414f-f512-6661362a3cd7"
   },
   "outputs": [
    {
     "data": {
      "text/plain": [
       "3"
      ]
     },
     "execution_count": 55,
     "metadata": {
      "tags": []
     },
     "output_type": "execute_result"
    }
   ],
   "source": [
    "x_train.ndim"
   ]
  },
  {
   "cell_type": "code",
   "execution_count": null,
   "metadata": {
    "colab": {
     "base_uri": "https://localhost:8080/",
     "height": 265
    },
    "colab_type": "code",
    "id": "uCdft4C75fGQ",
    "outputId": "5d1f9018-d4c7-42f9-a650-ffb6d0f041e1"
   },
   "outputs": [
    {
     "data": {
      "image/png": "[encoded data removed]",
      "text/plain": [
       "<Figure size 432x288 with 1 Axes>"
      ]
     },
     "metadata": {
      "needs_background": "light",
      "tags": []
     },
     "output_type": "display_data"
    }
   ],
   "source": [
    "import matplotlib.pyplot as plt\n",
    "image = x_train[2]\n",
    "fig = plt.figure\n",
    "plt.imshow(image, cmap='gray')\n",
    "plt.show()"
   ]
  },
  {
   "cell_type": "code",
   "execution_count": null,
   "metadata": {
    "colab": {},
    "colab_type": "code",
    "id": "GEwqSfJp4GUH"
   },
   "outputs": [],
   "source": [
    "model = Sequential([\n",
    "    Reshape((28, 28, 1)),\n",
    "    Conv2D(filters=32,kernel_size=(3,3), activation='relu'),\n",
    "    MaxPooling2D(pool_size=(2,2)),\n",
    "    Flatten(),\n",
    "    Dense(128, activation='relu'),\n",
    "    Dense(10, activation='softmax')\n",
    "])"
   ]
  },
  {
   "cell_type": "code",
   "execution_count": null,
   "metadata": {
    "colab": {},
    "colab_type": "code",
    "id": "_rh-4g-84GUN"
   },
   "outputs": [],
   "source": [
    "model.compile(optimizer='sgd',\n",
    "              loss='sparse_categorical_crossentropy',\n",
    "              metrics=['accuracy',])\n"
   ]
  },
  {
   "cell_type": "code",
   "execution_count": null,
   "metadata": {
    "colab": {
     "base_uri": "https://localhost:8080/",
     "height": 204
    },
    "colab_type": "code",
    "id": "19DcoJsF4GUT",
    "outputId": "82ed4766-17d1-4614-dcc3-24d4972464bb"
   },
   "outputs": [
    {
     "name": "stdout",
     "output_type": "stream",
     "text": [
      "Epoch 1/5\n",
      "1875/1875 [==============================] - 34s 18ms/step - loss: 0.4818 - accuracy: 0.8699 - val_loss: 0.2363 - val_accuracy: 0.9326\n",
      "Epoch 2/5\n",
      "1875/1875 [==============================] - 33s 18ms/step - loss: 0.2182 - accuracy: 0.9361 - val_loss: 0.1704 - val_accuracy: 0.9504\n",
      "Epoch 3/5\n",
      "1875/1875 [==============================] - 33s 18ms/step - loss: 0.1622 - accuracy: 0.9524 - val_loss: 0.1365 - val_accuracy: 0.9602\n",
      "Epoch 4/5\n",
      "1875/1875 [==============================] - 33s 18ms/step - loss: 0.1317 - accuracy: 0.9616 - val_loss: 0.1197 - val_accuracy: 0.9640\n",
      "Epoch 5/5\n",
      "1875/1875 [==============================] - 33s 18ms/step - loss: 0.1112 - accuracy: 0.9670 - val_loss: 0.1028 - val_accuracy: 0.9686\n"
     ]
    },
    {
     "data": {
      "text/plain": [
       "<tensorflow.python.keras.callbacks.History at 0x7ff7dabe15f8>"
      ]
     },
     "execution_count": 59,
     "metadata": {
      "tags": []
     },
     "output_type": "execute_result"
    }
   ],
   "source": [
    "model.fit(x=x_train,\n",
    "                    y=y_train,\n",
    "                    epochs=5,\n",
    "                    validation_data=validation_data)"
   ]
  },
  {
   "cell_type": "code",
   "execution_count": null,
   "metadata": {
    "colab": {},
    "colab_type": "code",
    "id": "rMO-bnBH4GUY"
   },
   "outputs": [],
   "source": [
    "predictions = model.predict(x_test)"
   ]
  },
  {
   "cell_type": "code",
   "execution_count": null,
   "metadata": {
    "colab": {
     "base_uri": "https://localhost:8080/",
     "height": 238
    },
    "colab_type": "code",
    "id": "tg3Sz3d5ouuu",
    "outputId": "ded739db-6cb2-4229-fe7b-cec7e0957911"
   },
   "outputs": [
    {
     "data": {
      "text/plain": [
       "array([[0.00000309, 0.00000004, 0.00002918, ..., 0.9994236 , 0.00000094,\n",
       "        0.00003856],\n",
       "       [0.00000443, 0.00006745, 0.99077225, ..., 0.        , 0.00012383,\n",
       "        0.        ],\n",
       "       [0.000013  , 0.9969079 , 0.00056935, ..., 0.00097468, 0.00076945,\n",
       "        0.0000461 ],\n",
       "       ...,\n",
       "       [0.00000002, 0.00000002, 0.00000007, ..., 0.00008334, 0.00011955,\n",
       "        0.00278369],\n",
       "       [0.0000015 , 0.0000022 , 0.        , ..., 0.00000005, 0.00026677,\n",
       "        0.00000002],\n",
       "       [0.00000122, 0.00000002, 0.0000285 , ..., 0.        , 0.00000069,\n",
       "        0.00000001]], dtype=float32)"
      ]
     },
     "execution_count": 61,
     "metadata": {
      "tags": []
     },
     "output_type": "execute_result"
    }
   ],
   "source": [
    "predictions"
   ]
  },
  {
   "cell_type": "code",
   "execution_count": null,
   "metadata": {
    "colab": {
     "base_uri": "https://localhost:8080/",
     "height": 51
    },
    "colab_type": "code",
    "id": "zEMCbLWU4GUc",
    "outputId": "e4f570db-f153-4aed-a016-3c8f3a564545"
   },
   "outputs": [
    {
     "name": "stdout",
     "output_type": "stream",
     "text": [
      "313/313 [==============================] - 2s 6ms/step - loss: 0.1028 - accuracy: 0.9686\n"
     ]
    },
    {
     "data": {
      "text/plain": [
       "[0.10282061994075775, 0.9685999751091003]"
      ]
     },
     "execution_count": 62,
     "metadata": {
      "tags": []
     },
     "output_type": "execute_result"
    }
   ],
   "source": [
    "model.evaluate(x_test,y_test)"
   ]
  },
  {
   "cell_type": "code",
   "execution_count": null,
   "metadata": {
    "colab": {
     "base_uri": "https://localhost:8080/",
     "height": 265
    },
    "colab_type": "code",
    "id": "1It3yo2GuI7o",
    "outputId": "7032fe4c-d0da-44f9-bd50-7add2177a53b"
   },
   "outputs": [
    {
     "data": {
      "image/png": "[encoded data removed]",
      "text/plain": [
       "<Figure size 432x288 with 1 Axes>"
      ]
     },
     "metadata": {
      "needs_background": "light",
      "tags": []
     },
     "output_type": "display_data"
    }
   ],
   "source": [
    "image = x_test[2]\n",
    "fig = plt.figure\n",
    "plt.imshow(image, cmap='gray')\n",
    "plt.show()"
   ]
  },
  {
   "cell_type": "code",
   "execution_count": null,
   "metadata": {
    "colab": {
     "base_uri": "https://localhost:8080/",
     "height": 68
    },
    "colab_type": "code",
    "id": "jxD_LqL99w2x",
    "outputId": "f0e822f7-bda4-4d9f-963c-8559cc58f423"
   },
   "outputs": [
    {
     "data": {
      "text/plain": [
       "array([ 0.00129986, 99.69079   ,  0.05693461,  0.02304512,  0.00972882,\n",
       "        0.02957785,  0.00959038,  0.09746827,  0.07694504,  0.00461044],\n",
       "      dtype=float32)"
      ]
     },
     "execution_count": 64,
     "metadata": {
      "tags": []
     },
     "output_type": "execute_result"
    }
   ],
   "source": [
    "import numpy as np\n",
    "np.set_printoptions(suppress=True)\n",
    "predictions[2]*100"
   ]
  },
  {
   "cell_type": "code",
   "execution_count": null,
   "metadata": {
    "colab": {
     "base_uri": "https://localhost:8080/",
     "height": 265
    },
    "colab_type": "code",
    "id": "KWte8xd_9HgS",
    "outputId": "1cc4374b-3148-4a65-9342-0c3759a5413a"
   },
   "outputs": [
    {
     "data": {
      "image/png": "[encoded data removed]",
      "text/plain": [
       "<Figure size 432x288 with 1 Axes>"
      ]
     },
     "metadata": {
      "needs_background": "light",
      "tags": []
     },
     "output_type": "display_data"
    }
   ],
   "source": [
    "image = x_test[0]\n",
    "fig = plt.figure\n",
    "plt.imshow(image, cmap='gray')\n",
    "plt.show()"
   ]
  },
  {
   "cell_type": "code",
   "execution_count": null,
   "metadata": {
    "colab": {
     "base_uri": "https://localhost:8080/",
     "height": 68
    },
    "colab_type": "code",
    "id": "ohZaGwJx-sRD",
    "outputId": "c4a6aaaf-c74d-461b-f182-44f3ad7b5672"
   },
   "outputs": [
    {
     "data": {
      "text/plain": [
       "array([ 0.00030867,  0.0000036 ,  0.00291794,  0.05044061,  0.00000036,\n",
       "        0.00001352,  0.        , 99.94236   ,  0.00009354,  0.00385628],\n",
       "      dtype=float32)"
      ]
     },
     "execution_count": 66,
     "metadata": {
      "tags": []
     },
     "output_type": "execute_result"
    }
   ],
   "source": [
    "import numpy as np\n",
    "np.set_printoptions(suppress=True)\n",
    "predictions[0]*100"
   ]
  },
  {
   "cell_type": "code",
   "execution_count": null,
   "metadata": {
    "colab": {
     "base_uri": "https://localhost:8080/",
     "height": 265
    },
    "colab_type": "code",
    "id": "S7uHW3AU-wlZ",
    "outputId": "3ce17262-d6ae-44d9-8fb6-28ff527288e8"
   },
   "outputs": [
    {
     "data": {
      "image/png": "[encoded data removed]",
      "text/plain": [
       "<Figure size 432x288 with 1 Axes>"
      ]
     },
     "metadata": {
      "needs_background": "light",
      "tags": []
     },
     "output_type": "display_data"
    }
   ],
   "source": [
    "image = x_test[6]\n",
    "fig = plt.figure\n",
    "plt.imshow(image, cmap='gray')\n",
    "plt.show()"
   ]
  },
  {
   "cell_type": "code",
   "execution_count": null,
   "metadata": {
    "colab": {
     "base_uri": "https://localhost:8080/",
     "height": 68
    },
    "colab_type": "code",
    "id": "_6hIC3KEBTOZ",
    "outputId": "fcb58690-d588-465a-940b-6fce00ed3153"
   },
   "outputs": [
    {
     "data": {
      "text/plain": [
       "array([ 0.00000098,  0.00000517,  0.00000173,  0.00125382, 99.76233   ,\n",
       "        0.00086058,  0.00003622,  0.01537303,  0.19144201,  0.02870652],\n",
       "      dtype=float32)"
      ]
     },
     "execution_count": 68,
     "metadata": {
      "tags": []
     },
     "output_type": "execute_result"
    }
   ],
   "source": [
    "import numpy as np\n",
    "np.set_printoptions(suppress=True)\n",
    "predictions[6]*100"
   ]
  },
  {
   "cell_type": "markdown",
   "metadata": {
    "colab": {},
    "colab_type": "code",
    "id": "K1ORWzQmBZ_I"
   },
   "source": [
    "Happy Learning!"
   ]
  }
 ],
 "metadata": {
  "colab": {
   "name": "cnn.ipynb",
   "provenance": []
  },
  "kernelspec": {
   "display_name": "Python 3",
   "language": "python",
   "name": "python3"
  },
  "language_info": {
   "codemirror_mode": {
    "name": "ipython",
    "version": 3
   },
   "file_extension": ".py",
   "mimetype": "text/x-python",
   "name": "python",
   "nbconvert_exporter": "python",
   "pygments_lexer": "ipython3",
   "version": "3.8.2"
  }
 },
 "nbformat": 4,
 "nbformat_minor": 4
}
