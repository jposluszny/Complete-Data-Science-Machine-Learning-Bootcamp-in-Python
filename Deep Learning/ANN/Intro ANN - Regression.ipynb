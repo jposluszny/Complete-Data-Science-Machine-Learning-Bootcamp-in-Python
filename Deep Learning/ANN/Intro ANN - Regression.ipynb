{
 "cells": [
  {
   "cell_type": "markdown",
   "metadata": {},
   "source": [
    "# Deep Learning with TensorFlow"
   ]
  },
  {
   "cell_type": "markdown",
   "metadata": {},
   "source": [
    "![Namespace Logo](../labs.png)"
   ]
  },
  {
   "cell_type": "markdown",
   "metadata": {},
   "source": [
    "[Install Tensorflow 2 ](https://www.tensorflow.org/install)"
   ]
  },
  {
   "cell_type": "code",
   "execution_count": 1,
   "metadata": {},
   "outputs": [],
   "source": [
    "import pandas as pd\n",
    "import matplotlib.pyplot as plt\n",
    "import seaborn as sns\n",
    "import numpy as np\n",
    "df = pd.read_csv('sales.csv')"
   ]
  },
  {
   "cell_type": "code",
   "execution_count": 2,
   "metadata": {},
   "outputs": [
    {
     "data": {
      "text/html": [
       "<div>\n",
       "<style scoped>\n",
       "    .dataframe tbody tr th:only-of-type {\n",
       "        vertical-align: middle;\n",
       "    }\n",
       "\n",
       "    .dataframe tbody tr th {\n",
       "        vertical-align: top;\n",
       "    }\n",
       "\n",
       "    .dataframe thead th {\n",
       "        text-align: right;\n",
       "    }\n",
       "</style>\n",
       "<table border=\"1\" class=\"dataframe\">\n",
       "  <thead>\n",
       "    <tr style=\"text-align: right;\">\n",
       "      <th></th>\n",
       "      <th>Feature 1</th>\n",
       "      <th>Feature 2</th>\n",
       "      <th>Feature 3</th>\n",
       "      <th>Feature 4</th>\n",
       "      <th>Feature 5</th>\n",
       "      <th>Price</th>\n",
       "    </tr>\n",
       "  </thead>\n",
       "  <tbody>\n",
       "    <tr>\n",
       "      <th>0</th>\n",
       "      <td>561.985028</td>\n",
       "      <td>732.353911</td>\n",
       "      <td>617.229697</td>\n",
       "      <td>557.960379</td>\n",
       "      <td>433.822515</td>\n",
       "      <td>17626.615604</td>\n",
       "    </tr>\n",
       "    <tr>\n",
       "      <th>1</th>\n",
       "      <td>661.395572</td>\n",
       "      <td>448.089304</td>\n",
       "      <td>913.175553</td>\n",
       "      <td>986.790667</td>\n",
       "      <td>392.644115</td>\n",
       "      <td>22918.339944</td>\n",
       "    </tr>\n",
       "    <tr>\n",
       "      <th>2</th>\n",
       "      <td>810.726439</td>\n",
       "      <td>541.588398</td>\n",
       "      <td>581.677631</td>\n",
       "      <td>947.810958</td>\n",
       "      <td>72.740924</td>\n",
       "      <td>19844.766068</td>\n",
       "    </tr>\n",
       "    <tr>\n",
       "      <th>3</th>\n",
       "      <td>89.220403</td>\n",
       "      <td>20.703639</td>\n",
       "      <td>852.602722</td>\n",
       "      <td>796.832513</td>\n",
       "      <td>890.892440</td>\n",
       "      <td>14745.282522</td>\n",
       "    </tr>\n",
       "    <tr>\n",
       "      <th>4</th>\n",
       "      <td>1002.105182</td>\n",
       "      <td>818.338370</td>\n",
       "      <td>472.554867</td>\n",
       "      <td>799.261877</td>\n",
       "      <td>121.113012</td>\n",
       "      <td>15104.316428</td>\n",
       "    </tr>\n",
       "  </tbody>\n",
       "</table>\n",
       "</div>"
      ],
      "text/plain": [
       "     Feature 1   Feature 2   Feature 3   Feature 4   Feature 5         Price\n",
       "0   561.985028  732.353911  617.229697  557.960379  433.822515  17626.615604\n",
       "1   661.395572  448.089304  913.175553  986.790667  392.644115  22918.339944\n",
       "2   810.726439  541.588398  581.677631  947.810958   72.740924  19844.766068\n",
       "3    89.220403   20.703639  852.602722  796.832513  890.892440  14745.282522\n",
       "4  1002.105182  818.338370  472.554867  799.261877  121.113012  15104.316428"
      ]
     },
     "execution_count": 2,
     "metadata": {},
     "output_type": "execute_result"
    }
   ],
   "source": [
    "df.head()"
   ]
  },
  {
   "cell_type": "code",
   "execution_count": 3,
   "metadata": {},
   "outputs": [],
   "source": [
    "X = df.drop(['Price'],axis=1)"
   ]
  },
  {
   "cell_type": "code",
   "execution_count": 4,
   "metadata": {},
   "outputs": [],
   "source": [
    "y = df['Price']"
   ]
  },
  {
   "cell_type": "code",
   "execution_count": 5,
   "metadata": {},
   "outputs": [],
   "source": [
    "from sklearn.model_selection import train_test_split"
   ]
  },
  {
   "cell_type": "code",
   "execution_count": 6,
   "metadata": {},
   "outputs": [],
   "source": [
    "X_train, X_test, y_train, y_test = train_test_split(X, y, test_size=0.30, random_state=101)"
   ]
  },
  {
   "cell_type": "markdown",
   "metadata": {},
   "source": [
    "# Data Preprocessing"
   ]
  },
  {
   "cell_type": "code",
   "execution_count": 7,
   "metadata": {},
   "outputs": [],
   "source": [
    "from sklearn.preprocessing import MinMaxScaler"
   ]
  },
  {
   "cell_type": "code",
   "execution_count": 8,
   "metadata": {},
   "outputs": [],
   "source": [
    "sc = MinMaxScaler()"
   ]
  },
  {
   "cell_type": "code",
   "execution_count": 9,
   "metadata": {},
   "outputs": [
    {
     "data": {
      "text/plain": [
       "MinMaxScaler()"
      ]
     },
     "execution_count": 9,
     "metadata": {},
     "output_type": "execute_result"
    }
   ],
   "source": [
    "sc.fit(X_train)"
   ]
  },
  {
   "cell_type": "code",
   "execution_count": 10,
   "metadata": {},
   "outputs": [],
   "source": [
    "X_train= sc.transform(X_train)"
   ]
  },
  {
   "cell_type": "code",
   "execution_count": 11,
   "metadata": {},
   "outputs": [],
   "source": [
    "X_test = sc.transform(X_test)"
   ]
  },
  {
   "cell_type": "markdown",
   "metadata": {},
   "source": [
    "# Building the Model"
   ]
  },
  {
   "cell_type": "code",
   "execution_count": 12,
   "metadata": {},
   "outputs": [],
   "source": [
    "from tensorflow import keras\n",
    "from tensorflow.keras import Sequential\n",
    "from tensorflow.keras.layers import Dense"
   ]
  },
  {
   "cell_type": "code",
   "execution_count": 13,
   "metadata": {},
   "outputs": [
    {
     "data": {
      "text/html": [
       "<div>\n",
       "<style scoped>\n",
       "    .dataframe tbody tr th:only-of-type {\n",
       "        vertical-align: middle;\n",
       "    }\n",
       "\n",
       "    .dataframe tbody tr th {\n",
       "        vertical-align: top;\n",
       "    }\n",
       "\n",
       "    .dataframe thead th {\n",
       "        text-align: right;\n",
       "    }\n",
       "</style>\n",
       "<table border=\"1\" class=\"dataframe\">\n",
       "  <thead>\n",
       "    <tr style=\"text-align: right;\">\n",
       "      <th></th>\n",
       "      <th>Feature 1</th>\n",
       "      <th>Feature 2</th>\n",
       "      <th>Feature 3</th>\n",
       "      <th>Feature 4</th>\n",
       "      <th>Feature 5</th>\n",
       "      <th>Price</th>\n",
       "    </tr>\n",
       "  </thead>\n",
       "  <tbody>\n",
       "    <tr>\n",
       "      <th>0</th>\n",
       "      <td>561.985028</td>\n",
       "      <td>732.353911</td>\n",
       "      <td>617.229697</td>\n",
       "      <td>557.960379</td>\n",
       "      <td>433.822515</td>\n",
       "      <td>17626.615604</td>\n",
       "    </tr>\n",
       "    <tr>\n",
       "      <th>1</th>\n",
       "      <td>661.395572</td>\n",
       "      <td>448.089304</td>\n",
       "      <td>913.175553</td>\n",
       "      <td>986.790667</td>\n",
       "      <td>392.644115</td>\n",
       "      <td>22918.339944</td>\n",
       "    </tr>\n",
       "    <tr>\n",
       "      <th>2</th>\n",
       "      <td>810.726439</td>\n",
       "      <td>541.588398</td>\n",
       "      <td>581.677631</td>\n",
       "      <td>947.810958</td>\n",
       "      <td>72.740924</td>\n",
       "      <td>19844.766068</td>\n",
       "    </tr>\n",
       "    <tr>\n",
       "      <th>3</th>\n",
       "      <td>89.220403</td>\n",
       "      <td>20.703639</td>\n",
       "      <td>852.602722</td>\n",
       "      <td>796.832513</td>\n",
       "      <td>890.892440</td>\n",
       "      <td>14745.282522</td>\n",
       "    </tr>\n",
       "    <tr>\n",
       "      <th>4</th>\n",
       "      <td>1002.105182</td>\n",
       "      <td>818.338370</td>\n",
       "      <td>472.554867</td>\n",
       "      <td>799.261877</td>\n",
       "      <td>121.113012</td>\n",
       "      <td>15104.316428</td>\n",
       "    </tr>\n",
       "  </tbody>\n",
       "</table>\n",
       "</div>"
      ],
      "text/plain": [
       "     Feature 1   Feature 2   Feature 3   Feature 4   Feature 5         Price\n",
       "0   561.985028  732.353911  617.229697  557.960379  433.822515  17626.615604\n",
       "1   661.395572  448.089304  913.175553  986.790667  392.644115  22918.339944\n",
       "2   810.726439  541.588398  581.677631  947.810958   72.740924  19844.766068\n",
       "3    89.220403   20.703639  852.602722  796.832513  890.892440  14745.282522\n",
       "4  1002.105182  818.338370  472.554867  799.261877  121.113012  15104.316428"
      ]
     },
     "execution_count": 13,
     "metadata": {},
     "output_type": "execute_result"
    }
   ],
   "source": [
    "df.head()"
   ]
  },
  {
   "cell_type": "code",
   "execution_count": 14,
   "metadata": {},
   "outputs": [],
   "source": [
    "my_model = Sequential()\n",
    "my_model.add(Dense(5,activation='relu',input_dim=5))\n",
    "my_model.add(Dense(5,activation='relu'))\n",
    "my_model.add(Dense(5,activation='relu'))\n",
    "my_model.add(Dense(1,activation=keras.activations.linear))\n",
    "my_model.compile(optimizer='adam', loss='mean_squared_error',metrics=['mse'])"
   ]
  },
  {
   "cell_type": "code",
   "execution_count": 15,
   "metadata": {},
   "outputs": [],
   "source": [
    "model = Sequential(\n",
    "        [\n",
    "        Dense(5,activation='relu',input_dim=5),\n",
    "        Dense(5,activation='relu'),\n",
    "        Dense(5,activation='relu'),\n",
    "        Dense(1,activation=keras.activations.linear)\n",
    "        ]\n",
    ")\n"
   ]
  },
  {
   "cell_type": "code",
   "execution_count": 16,
   "metadata": {},
   "outputs": [],
   "source": [
    "model.compile(optimizer='adam', loss='mean_squared_error',metrics=['mse'])\n",
    "# batch_size: Number of samples per gradient update, defaults to 32"
   ]
  },
  {
   "cell_type": "code",
   "execution_count": 17,
   "metadata": {},
   "outputs": [
    {
     "name": "stdout",
     "output_type": "stream",
     "text": [
      "Epoch 1/100\n",
      "175/175 [==============================] - 0s 2ms/step - loss: 240293968.0000 - mse: 240293968.0000 - val_loss: 237830560.0000 - val_mse: 237830560.0000\n",
      "Epoch 2/100\n",
      "175/175 [==============================] - 0s 1ms/step - loss: 240233184.0000 - mse: 240233184.0000 - val_loss: 237619840.0000 - val_mse: 237619840.0000\n",
      "Epoch 3/100\n",
      "175/175 [==============================] - 0s 1ms/step - loss: 239284080.0000 - mse: 239284080.0000 - val_loss: 235536800.0000 - val_mse: 235536800.0000\n",
      "Epoch 4/100\n",
      "175/175 [==============================] - 0s 1ms/step - loss: 235167792.0000 - mse: 235167792.0000 - val_loss: 229020208.0000 - val_mse: 229020208.0000\n",
      "Epoch 5/100\n",
      "175/175 [==============================] - 0s 1ms/step - loss: 225231520.0000 - mse: 225231520.0000 - val_loss: 215489232.0000 - val_mse: 215489232.0000\n",
      "Epoch 6/100\n",
      "175/175 [==============================] - 0s 2ms/step - loss: 207218800.0000 - mse: 207218800.0000 - val_loss: 193167184.0000 - val_mse: 193167184.0000\n",
      "Epoch 7/100\n",
      "175/175 [==============================] - 0s 2ms/step - loss: 180116048.0000 - mse: 180116048.0000 - val_loss: 162146672.0000 - val_mse: 162146672.0000\n",
      "Epoch 8/100\n",
      "175/175 [==============================] - 0s 2ms/step - loss: 145164672.0000 - mse: 145164672.0000 - val_loss: 124798088.0000 - val_mse: 124798088.0000\n",
      "Epoch 9/100\n",
      "175/175 [==============================] - 0s 2ms/step - loss: 106299776.0000 - mse: 106299776.0000 - val_loss: 86413448.0000 - val_mse: 86413448.0000\n",
      "Epoch 10/100\n",
      "175/175 [==============================] - 0s 2ms/step - loss: 69525264.0000 - mse: 69525264.0000 - val_loss: 53457684.0000 - val_mse: 53457684.0000\n",
      "Epoch 11/100\n",
      "175/175 [==============================] - 0s 1ms/step - loss: 40939068.0000 - mse: 40939068.0000 - val_loss: 30465676.0000 - val_mse: 30465676.0000\n",
      "Epoch 12/100\n",
      "175/175 [==============================] - 0s 2ms/step - loss: 23468270.0000 - mse: 23468270.0000 - val_loss: 18532634.0000 - val_mse: 18532634.0000\n",
      "Epoch 13/100\n",
      "175/175 [==============================] - 0s 1ms/step - loss: 15451041.0000 - mse: 15451041.0000 - val_loss: 13965164.0000 - val_mse: 13965164.0000\n",
      "Epoch 14/100\n",
      "175/175 [==============================] - 0s 1ms/step - loss: 12759395.0000 - mse: 12759395.0000 - val_loss: 12679433.0000 - val_mse: 12679433.0000\n",
      "Epoch 15/100\n",
      "175/175 [==============================] - 0s 2ms/step - loss: 12048447.0000 - mse: 12048447.0000 - val_loss: 12340988.0000 - val_mse: 12340988.0000\n",
      "Epoch 16/100\n",
      "175/175 [==============================] - 0s 2ms/step - loss: 11818823.0000 - mse: 11818823.0000 - val_loss: 12183739.0000 - val_mse: 12183739.0000\n",
      "Epoch 17/100\n",
      "175/175 [==============================] - 0s 2ms/step - loss: 11680966.0000 - mse: 11680966.0000 - val_loss: 12045988.0000 - val_mse: 12045988.0000\n",
      "Epoch 18/100\n",
      "175/175 [==============================] - 0s 2ms/step - loss: 11551322.0000 - mse: 11551322.0000 - val_loss: 11908522.0000 - val_mse: 11908522.0000\n",
      "Epoch 19/100\n",
      "175/175 [==============================] - 0s 2ms/step - loss: 11412772.0000 - mse: 11412772.0000 - val_loss: 11762820.0000 - val_mse: 11762820.0000\n",
      "Epoch 20/100\n",
      "175/175 [==============================] - 1s 4ms/step - loss: 11272915.0000 - mse: 11272915.0000 - val_loss: 11611950.0000 - val_mse: 11611950.0000\n",
      "Epoch 21/100\n",
      "175/175 [==============================] - 1s 4ms/step - loss: 11124367.0000 - mse: 11124367.0000 - val_loss: 11455675.0000 - val_mse: 11455675.0000\n",
      "Epoch 22/100\n",
      "175/175 [==============================] - 1s 3ms/step - loss: 10973386.0000 - mse: 10973386.0000 - val_loss: 11292974.0000 - val_mse: 11292974.0000\n",
      "Epoch 23/100\n",
      "175/175 [==============================] - 1s 3ms/step - loss: 10816357.0000 - mse: 10816357.0000 - val_loss: 11127544.0000 - val_mse: 11127544.0000\n",
      "Epoch 24/100\n",
      "175/175 [==============================] - 0s 3ms/step - loss: 10656665.0000 - mse: 10656665.0000 - val_loss: 10957505.0000 - val_mse: 10957505.0000\n",
      "Epoch 25/100\n",
      "175/175 [==============================] - 1s 4ms/step - loss: 10494111.0000 - mse: 10494111.0000 - val_loss: 10785332.0000 - val_mse: 10785332.0000\n",
      "Epoch 26/100\n",
      "175/175 [==============================] - 1s 3ms/step - loss: 10327624.0000 - mse: 10327624.0000 - val_loss: 10605928.0000 - val_mse: 10605928.0000\n",
      "Epoch 27/100\n",
      "175/175 [==============================] - 0s 3ms/step - loss: 10159641.0000 - mse: 10159641.0000 - val_loss: 10427919.0000 - val_mse: 10427919.0000\n",
      "Epoch 28/100\n",
      "175/175 [==============================] - 0s 2ms/step - loss: 9990876.0000 - mse: 9990876.0000 - val_loss: 10248665.0000 - val_mse: 10248665.0000\n",
      "Epoch 29/100\n",
      "175/175 [==============================] - 0s 2ms/step - loss: 9823340.0000 - mse: 9823340.0000 - val_loss: 10071388.0000 - val_mse: 10071388.0000\n",
      "Epoch 30/100\n",
      "175/175 [==============================] - 0s 2ms/step - loss: 9652807.0000 - mse: 9652807.0000 - val_loss: 9891455.0000 - val_mse: 9891455.0000\n",
      "Epoch 31/100\n",
      "175/175 [==============================] - 1s 3ms/step - loss: 9484107.0000 - mse: 9484107.0000 - val_loss: 9708995.0000 - val_mse: 9708995.0000\n",
      "Epoch 32/100\n",
      "175/175 [==============================] - 1s 3ms/step - loss: 9314841.0000 - mse: 9314841.0000 - val_loss: 9530235.0000 - val_mse: 9530235.0000\n",
      "Epoch 33/100\n",
      "175/175 [==============================] - 0s 3ms/step - loss: 9151448.0000 - mse: 9151448.0000 - val_loss: 9354403.0000 - val_mse: 9354403.0000\n",
      "Epoch 34/100\n",
      "175/175 [==============================] - 1s 4ms/step - loss: 8991070.0000 - mse: 8991070.0000 - val_loss: 9182565.0000 - val_mse: 9182565.0000\n",
      "Epoch 35/100\n",
      "175/175 [==============================] - 1s 3ms/step - loss: 8828754.0000 - mse: 8828754.0000 - val_loss: 9014208.0000 - val_mse: 9014208.0000\n",
      "Epoch 36/100\n",
      "175/175 [==============================] - 0s 3ms/step - loss: 8674843.0000 - mse: 8674843.0000 - val_loss: 8846683.0000 - val_mse: 8846683.0000\n",
      "Epoch 37/100\n",
      "175/175 [==============================] - 0s 3ms/step - loss: 8523035.0000 - mse: 8523035.0000 - val_loss: 8682732.0000 - val_mse: 8682732.0000\n",
      "Epoch 38/100\n",
      "175/175 [==============================] - 1s 3ms/step - loss: 8380469.5000 - mse: 8380469.5000 - val_loss: 8526610.0000 - val_mse: 8526610.0000\n",
      "Epoch 39/100\n",
      "175/175 [==============================] - 1s 4ms/step - loss: 8238233.5000 - mse: 8238233.5000 - val_loss: 8377884.5000 - val_mse: 8377884.5000\n",
      "Epoch 40/100\n",
      "175/175 [==============================] - 0s 2ms/step - loss: 8100867.0000 - mse: 8100867.0000 - val_loss: 8229044.5000 - val_mse: 8229044.5000\n",
      "Epoch 41/100\n",
      "175/175 [==============================] - 0s 2ms/step - loss: 7974118.5000 - mse: 7974118.5000 - val_loss: 8088590.5000 - val_mse: 8088590.5000\n",
      "Epoch 42/100\n",
      "175/175 [==============================] - 0s 2ms/step - loss: 7847019.0000 - mse: 7847019.0000 - val_loss: 7954720.0000 - val_mse: 7954720.0000\n",
      "Epoch 43/100\n",
      "175/175 [==============================] - 0s 2ms/step - loss: 7731597.0000 - mse: 7731597.0000 - val_loss: 7828162.0000 - val_mse: 7828162.0000\n",
      "Epoch 44/100\n",
      "175/175 [==============================] - 0s 2ms/step - loss: 7618678.0000 - mse: 7618678.0000 - val_loss: 7707216.5000 - val_mse: 7707216.5000\n",
      "Epoch 45/100\n",
      "175/175 [==============================] - 0s 1ms/step - loss: 7514384.0000 - mse: 7514384.0000 - val_loss: 7588736.0000 - val_mse: 7588736.0000\n",
      "Epoch 46/100\n",
      "175/175 [==============================] - 0s 2ms/step - loss: 7416677.0000 - mse: 7416677.0000 - val_loss: 7477461.0000 - val_mse: 7477461.0000\n",
      "Epoch 47/100\n",
      "175/175 [==============================] - 0s 2ms/step - loss: 7326960.0000 - mse: 7326960.0000 - val_loss: 7374911.5000 - val_mse: 7374911.5000\n",
      "Epoch 48/100\n",
      "175/175 [==============================] - 0s 2ms/step - loss: 7238959.0000 - mse: 7238959.0000 - val_loss: 7278977.5000 - val_mse: 7278977.5000\n",
      "Epoch 49/100\n",
      "175/175 [==============================] - 0s 1ms/step - loss: 7156214.0000 - mse: 7156214.0000 - val_loss: 7191566.0000 - val_mse: 7191566.0000\n",
      "Epoch 50/100\n",
      "175/175 [==============================] - 0s 2ms/step - loss: 7083997.5000 - mse: 7083997.5000 - val_loss: 7110534.5000 - val_mse: 7110534.5000\n",
      "Epoch 51/100\n",
      "175/175 [==============================] - 0s 2ms/step - loss: 7013841.0000 - mse: 7013841.0000 - val_loss: 7030624.0000 - val_mse: 7030624.0000\n",
      "Epoch 52/100\n",
      "175/175 [==============================] - 0s 1ms/step - loss: 6954292.5000 - mse: 6954292.5000 - val_loss: 6956256.0000 - val_mse: 6956256.0000\n",
      "Epoch 53/100\n",
      "175/175 [==============================] - 0s 1ms/step - loss: 6896894.0000 - mse: 6896894.0000 - val_loss: 6891367.0000 - val_mse: 6891367.0000\n",
      "Epoch 54/100\n",
      "175/175 [==============================] - 0s 1ms/step - loss: 6843400.0000 - mse: 6843400.0000 - val_loss: 6829873.5000 - val_mse: 6829873.5000\n",
      "Epoch 55/100\n",
      "175/175 [==============================] - 0s 1ms/step - loss: 6797670.5000 - mse: 6797670.5000 - val_loss: 6774848.5000 - val_mse: 6774848.5000\n",
      "Epoch 56/100\n",
      "175/175 [==============================] - 0s 1ms/step - loss: 6756379.0000 - mse: 6756379.0000 - val_loss: 6722959.5000 - val_mse: 6722959.5000\n",
      "Epoch 57/100\n",
      "175/175 [==============================] - 0s 1ms/step - loss: 6714453.5000 - mse: 6714453.5000 - val_loss: 6679919.0000 - val_mse: 6679919.0000\n",
      "Epoch 58/100\n",
      "175/175 [==============================] - 0s 1ms/step - loss: 6682519.5000 - mse: 6682519.5000 - val_loss: 6636150.5000 - val_mse: 6636150.5000\n",
      "Epoch 59/100\n",
      "175/175 [==============================] - 0s 1ms/step - loss: 6648718.5000 - mse: 6648718.5000 - val_loss: 6596557.5000 - val_mse: 6596557.5000\n",
      "Epoch 60/100\n",
      "175/175 [==============================] - 0s 1ms/step - loss: 6622084.5000 - mse: 6622084.5000 - val_loss: 6567289.5000 - val_mse: 6567289.5000\n",
      "Epoch 61/100\n",
      "175/175 [==============================] - 0s 1ms/step - loss: 6597153.5000 - mse: 6597153.5000 - val_loss: 6534077.5000 - val_mse: 6534077.5000\n",
      "Epoch 62/100\n",
      "175/175 [==============================] - 0s 1ms/step - loss: 6572866.0000 - mse: 6572866.0000 - val_loss: 6501545.0000 - val_mse: 6501545.0000\n",
      "Epoch 63/100\n",
      "175/175 [==============================] - 0s 1ms/step - loss: 6549936.5000 - mse: 6549936.5000 - val_loss: 6483948.5000 - val_mse: 6483948.5000\n",
      "Epoch 64/100\n",
      "175/175 [==============================] - 0s 1ms/step - loss: 6535470.0000 - mse: 6535470.0000 - val_loss: 6450609.0000 - val_mse: 6450609.0000\n",
      "Epoch 65/100\n",
      "175/175 [==============================] - 0s 1ms/step - loss: 6516689.0000 - mse: 6516689.0000 - val_loss: 6428477.5000 - val_mse: 6428477.5000\n",
      "Epoch 66/100\n",
      "175/175 [==============================] - 0s 2ms/step - loss: 6502945.0000 - mse: 6502945.0000 - val_loss: 6408219.0000 - val_mse: 6408219.0000\n",
      "Epoch 67/100\n",
      "175/175 [==============================] - 0s 1ms/step - loss: 6486711.0000 - mse: 6486711.0000 - val_loss: 6393934.5000 - val_mse: 6393934.5000\n",
      "Epoch 68/100\n",
      "175/175 [==============================] - 0s 1ms/step - loss: 6469502.0000 - mse: 6469502.0000 - val_loss: 6376237.5000 - val_mse: 6376237.5000\n",
      "Epoch 69/100\n",
      "175/175 [==============================] - 0s 2ms/step - loss: 6460204.5000 - mse: 6460204.5000 - val_loss: 6359362.0000 - val_mse: 6359362.0000\n",
      "Epoch 70/100\n",
      "175/175 [==============================] - 0s 2ms/step - loss: 6445082.5000 - mse: 6445082.5000 - val_loss: 6348179.0000 - val_mse: 6348179.0000\n",
      "Epoch 71/100\n",
      "175/175 [==============================] - 1s 3ms/step - loss: 6438632.5000 - mse: 6438632.5000 - val_loss: 6332002.0000 - val_mse: 6332002.0000\n",
      "Epoch 72/100\n",
      "175/175 [==============================] - 0s 2ms/step - loss: 6431136.0000 - mse: 6431136.0000 - val_loss: 6319312.5000 - val_mse: 6319312.5000\n",
      "Epoch 73/100\n",
      "175/175 [==============================] - 0s 2ms/step - loss: 6423009.5000 - mse: 6423009.5000 - val_loss: 6310045.5000 - val_mse: 6310045.5000\n",
      "Epoch 74/100\n",
      "175/175 [==============================] - 0s 1ms/step - loss: 6412468.0000 - mse: 6412468.0000 - val_loss: 6306574.5000 - val_mse: 6306574.5000\n",
      "Epoch 75/100\n",
      "175/175 [==============================] - 0s 1ms/step - loss: 6405219.5000 - mse: 6405219.5000 - val_loss: 6291765.5000 - val_mse: 6291765.5000\n",
      "Epoch 76/100\n",
      "175/175 [==============================] - 0s 1ms/step - loss: 6399059.5000 - mse: 6399059.5000 - val_loss: 6280163.5000 - val_mse: 6280163.5000\n",
      "Epoch 77/100\n",
      "175/175 [==============================] - 0s 1ms/step - loss: 6392394.5000 - mse: 6392394.5000 - val_loss: 6273654.0000 - val_mse: 6273654.0000\n",
      "Epoch 78/100\n",
      "175/175 [==============================] - 0s 1ms/step - loss: 6386465.5000 - mse: 6386465.5000 - val_loss: 6268561.5000 - val_mse: 6268561.5000\n",
      "Epoch 79/100\n",
      "175/175 [==============================] - 0s 2ms/step - loss: 6382140.0000 - mse: 6382140.0000 - val_loss: 6258320.0000 - val_mse: 6258320.0000\n",
      "Epoch 80/100\n",
      "175/175 [==============================] - 0s 1ms/step - loss: 6376214.0000 - mse: 6376214.0000 - val_loss: 6252258.5000 - val_mse: 6252258.5000\n",
      "Epoch 81/100\n",
      "175/175 [==============================] - 0s 1ms/step - loss: 6369908.5000 - mse: 6369908.5000 - val_loss: 6248759.5000 - val_mse: 6248759.5000\n",
      "Epoch 82/100\n",
      "175/175 [==============================] - 0s 1ms/step - loss: 6365796.0000 - mse: 6365796.0000 - val_loss: 6242942.5000 - val_mse: 6242942.5000\n",
      "Epoch 83/100\n",
      "175/175 [==============================] - 0s 2ms/step - loss: 6360950.0000 - mse: 6360950.0000 - val_loss: 6236672.5000 - val_mse: 6236672.5000\n",
      "Epoch 84/100\n",
      "175/175 [==============================] - 0s 1ms/step - loss: 6361870.5000 - mse: 6361870.5000 - val_loss: 6231558.0000 - val_mse: 6231558.0000\n",
      "Epoch 85/100\n",
      "175/175 [==============================] - 0s 2ms/step - loss: 6351625.5000 - mse: 6351625.5000 - val_loss: 6229829.5000 - val_mse: 6229829.5000\n",
      "Epoch 86/100\n",
      "175/175 [==============================] - 0s 2ms/step - loss: 6350671.5000 - mse: 6350671.5000 - val_loss: 6225088.5000 - val_mse: 6225088.5000\n",
      "Epoch 87/100\n",
      "175/175 [==============================] - 0s 2ms/step - loss: 6348612.0000 - mse: 6348612.0000 - val_loss: 6229361.5000 - val_mse: 6229361.5000\n",
      "Epoch 88/100\n",
      "175/175 [==============================] - 0s 2ms/step - loss: 6345369.0000 - mse: 6345369.0000 - val_loss: 6219406.0000 - val_mse: 6219406.0000\n",
      "Epoch 89/100\n",
      "175/175 [==============================] - 0s 1ms/step - loss: 6339399.0000 - mse: 6339399.0000 - val_loss: 6214153.0000 - val_mse: 6214153.0000\n",
      "Epoch 90/100\n",
      "175/175 [==============================] - 0s 2ms/step - loss: 6339249.0000 - mse: 6339249.0000 - val_loss: 6210482.5000 - val_mse: 6210482.5000\n",
      "Epoch 91/100\n",
      "175/175 [==============================] - 0s 1ms/step - loss: 6338730.5000 - mse: 6338730.5000 - val_loss: 6208116.5000 - val_mse: 6208116.5000\n",
      "Epoch 92/100\n",
      "175/175 [==============================] - 0s 1ms/step - loss: 6332691.5000 - mse: 6332691.5000 - val_loss: 6209905.5000 - val_mse: 6209905.5000\n",
      "Epoch 93/100\n",
      "175/175 [==============================] - 0s 1ms/step - loss: 6331215.0000 - mse: 6331215.0000 - val_loss: 6202818.0000 - val_mse: 6202818.0000\n",
      "Epoch 94/100\n",
      "175/175 [==============================] - 0s 2ms/step - loss: 6330262.0000 - mse: 6330262.0000 - val_loss: 6200293.5000 - val_mse: 6200293.5000\n",
      "Epoch 95/100\n",
      "175/175 [==============================] - 0s 1ms/step - loss: 6326999.0000 - mse: 6326999.0000 - val_loss: 6199496.5000 - val_mse: 6199496.5000\n",
      "Epoch 96/100\n",
      "175/175 [==============================] - 0s 1ms/step - loss: 6325966.5000 - mse: 6325966.5000 - val_loss: 6196085.0000 - val_mse: 6196085.0000\n",
      "Epoch 97/100\n",
      "175/175 [==============================] - 0s 1ms/step - loss: 6323079.5000 - mse: 6323079.5000 - val_loss: 6196824.0000 - val_mse: 6196824.0000\n",
      "Epoch 98/100\n",
      "175/175 [==============================] - 0s 1ms/step - loss: 6320941.5000 - mse: 6320941.5000 - val_loss: 6193266.0000 - val_mse: 6193266.0000\n",
      "Epoch 99/100\n",
      "175/175 [==============================] - 0s 1ms/step - loss: 6318114.5000 - mse: 6318114.5000 - val_loss: 6194090.5000 - val_mse: 6194090.5000\n",
      "Epoch 100/100\n",
      "175/175 [==============================] - 0s 1ms/step - loss: 6317509.0000 - mse: 6317509.0000 - val_loss: 6189770.5000 - val_mse: 6189770.5000\n"
     ]
    }
   ],
   "source": [
    "history = model.fit(X_train,y_train,epochs=100,validation_split = 0.2)"
   ]
  },
  {
   "cell_type": "markdown",
   "metadata": {},
   "source": [
    "## Model Evaluation"
   ]
  },
  {
   "cell_type": "code",
   "execution_count": 18,
   "metadata": {},
   "outputs": [],
   "source": [
    "from sklearn import metrics"
   ]
  },
  {
   "cell_type": "code",
   "execution_count": 19,
   "metadata": {},
   "outputs": [
    {
     "name": "stdout",
     "output_type": "stream",
     "text": [
      "MAE: 1899.2783299722357\n",
      "MSE: 6028271.121583031\n",
      "RMSE: 2455.253779466194\n"
     ]
    }
   ],
   "source": [
    "predictions = model.predict(X_test)\n",
    "print('MAE:', metrics.mean_absolute_error(y_test, predictions))\n",
    "print('MSE:', metrics.mean_squared_error(y_test, predictions))\n",
    "print('RMSE:', np.sqrt(metrics.mean_squared_error(y_test, predictions)))"
   ]
  },
  {
   "cell_type": "code",
   "execution_count": 20,
   "metadata": {},
   "outputs": [
    {
     "data": {
      "text/plain": [
       "(3000,)"
      ]
     },
     "execution_count": 20,
     "metadata": {},
     "output_type": "execute_result"
    }
   ],
   "source": [
    "y_test.shape"
   ]
  },
  {
   "cell_type": "code",
   "execution_count": 21,
   "metadata": {},
   "outputs": [
    {
     "data": {
      "text/plain": [
       "(3000, 1)"
      ]
     },
     "execution_count": 21,
     "metadata": {},
     "output_type": "execute_result"
    }
   ],
   "source": [
    "predictions.shape"
   ]
  },
  {
   "cell_type": "code",
   "execution_count": 22,
   "metadata": {},
   "outputs": [
    {
     "data": {
      "image/png": "[encoded data removed]",
      "text/plain": [
       "<Figure size 864x432 with 1 Axes>"
      ]
     },
     "metadata": {
      "needs_background": "light"
     },
     "output_type": "display_data"
    }
   ],
   "source": [
    "plt.figure(figsize=(12,6))\n",
    "sns.distplot((y_test-predictions.reshape(3000,)));"
   ]
  },
  {
   "cell_type": "markdown",
   "metadata": {},
   "source": [
    "# Plotting the Model Loss"
   ]
  },
  {
   "cell_type": "code",
   "execution_count": 23,
   "metadata": {},
   "outputs": [],
   "source": [
    "losses = pd.DataFrame(history.history)"
   ]
  },
  {
   "cell_type": "code",
   "execution_count": 24,
   "metadata": {},
   "outputs": [
    {
     "data": {
      "text/html": [
       "<div>\n",
       "<style scoped>\n",
       "    .dataframe tbody tr th:only-of-type {\n",
       "        vertical-align: middle;\n",
       "    }\n",
       "\n",
       "    .dataframe tbody tr th {\n",
       "        vertical-align: top;\n",
       "    }\n",
       "\n",
       "    .dataframe thead th {\n",
       "        text-align: right;\n",
       "    }\n",
       "</style>\n",
       "<table border=\"1\" class=\"dataframe\">\n",
       "  <thead>\n",
       "    <tr style=\"text-align: right;\">\n",
       "      <th></th>\n",
       "      <th>loss</th>\n",
       "      <th>mse</th>\n",
       "      <th>val_loss</th>\n",
       "      <th>val_mse</th>\n",
       "    </tr>\n",
       "  </thead>\n",
       "  <tbody>\n",
       "    <tr>\n",
       "      <th>0</th>\n",
       "      <td>240293968.0</td>\n",
       "      <td>240293968.0</td>\n",
       "      <td>237830560.0</td>\n",
       "      <td>237830560.0</td>\n",
       "    </tr>\n",
       "    <tr>\n",
       "      <th>1</th>\n",
       "      <td>240233184.0</td>\n",
       "      <td>240233184.0</td>\n",
       "      <td>237619840.0</td>\n",
       "      <td>237619840.0</td>\n",
       "    </tr>\n",
       "    <tr>\n",
       "      <th>2</th>\n",
       "      <td>239284080.0</td>\n",
       "      <td>239284080.0</td>\n",
       "      <td>235536800.0</td>\n",
       "      <td>235536800.0</td>\n",
       "    </tr>\n",
       "    <tr>\n",
       "      <th>3</th>\n",
       "      <td>235167792.0</td>\n",
       "      <td>235167792.0</td>\n",
       "      <td>229020208.0</td>\n",
       "      <td>229020208.0</td>\n",
       "    </tr>\n",
       "    <tr>\n",
       "      <th>4</th>\n",
       "      <td>225231520.0</td>\n",
       "      <td>225231520.0</td>\n",
       "      <td>215489232.0</td>\n",
       "      <td>215489232.0</td>\n",
       "    </tr>\n",
       "    <tr>\n",
       "      <th>...</th>\n",
       "      <td>...</td>\n",
       "      <td>...</td>\n",
       "      <td>...</td>\n",
       "      <td>...</td>\n",
       "    </tr>\n",
       "    <tr>\n",
       "      <th>95</th>\n",
       "      <td>6325966.5</td>\n",
       "      <td>6325966.5</td>\n",
       "      <td>6196085.0</td>\n",
       "      <td>6196085.0</td>\n",
       "    </tr>\n",
       "    <tr>\n",
       "      <th>96</th>\n",
       "      <td>6323079.5</td>\n",
       "      <td>6323079.5</td>\n",
       "      <td>6196824.0</td>\n",
       "      <td>6196824.0</td>\n",
       "    </tr>\n",
       "    <tr>\n",
       "      <th>97</th>\n",
       "      <td>6320941.5</td>\n",
       "      <td>6320941.5</td>\n",
       "      <td>6193266.0</td>\n",
       "      <td>6193266.0</td>\n",
       "    </tr>\n",
       "    <tr>\n",
       "      <th>98</th>\n",
       "      <td>6318114.5</td>\n",
       "      <td>6318114.5</td>\n",
       "      <td>6194090.5</td>\n",
       "      <td>6194090.5</td>\n",
       "    </tr>\n",
       "    <tr>\n",
       "      <th>99</th>\n",
       "      <td>6317509.0</td>\n",
       "      <td>6317509.0</td>\n",
       "      <td>6189770.5</td>\n",
       "      <td>6189770.5</td>\n",
       "    </tr>\n",
       "  </tbody>\n",
       "</table>\n",
       "<p>100 rows × 4 columns</p>\n",
       "</div>"
      ],
      "text/plain": [
       "           loss          mse     val_loss      val_mse\n",
       "0   240293968.0  240293968.0  237830560.0  237830560.0\n",
       "1   240233184.0  240233184.0  237619840.0  237619840.0\n",
       "2   239284080.0  239284080.0  235536800.0  235536800.0\n",
       "3   235167792.0  235167792.0  229020208.0  229020208.0\n",
       "4   225231520.0  225231520.0  215489232.0  215489232.0\n",
       "..          ...          ...          ...          ...\n",
       "95    6325966.5    6325966.5    6196085.0    6196085.0\n",
       "96    6323079.5    6323079.5    6196824.0    6196824.0\n",
       "97    6320941.5    6320941.5    6193266.0    6193266.0\n",
       "98    6318114.5    6318114.5    6194090.5    6194090.5\n",
       "99    6317509.0    6317509.0    6189770.5    6189770.5\n",
       "\n",
       "[100 rows x 4 columns]"
      ]
     },
     "execution_count": 24,
     "metadata": {},
     "output_type": "execute_result"
    }
   ],
   "source": [
    "losses"
   ]
  },
  {
   "cell_type": "code",
   "execution_count": 25,
   "metadata": {},
   "outputs": [
    {
     "data": {
      "text/plain": [
       "<matplotlib.legend.Legend at 0x7fa24c325890>"
      ]
     },
     "execution_count": 25,
     "metadata": {},
     "output_type": "execute_result"
    },
    {
     "data": {
      "image/png": "[encoded data removed]",
      "text/plain": [
       "<Figure size 576x432 with 1 Axes>"
      ]
     },
     "metadata": {
      "needs_background": "light"
     },
     "output_type": "display_data"
    }
   ],
   "source": [
    "plt.figure(figsize=(8,6))\n",
    "plt.xlabel('Epochs')\n",
    "plt.ylabel('Loss')\n",
    "losses['loss'].plot(label='Training Loss')\n",
    "losses['val_loss'].plot(label='Validation Loss')\n",
    "plt.legend(loc='center')"
   ]
  },
  {
   "cell_type": "markdown",
   "metadata": {},
   "source": [
    "Happy Learning!"
   ]
  }
 ],
 "metadata": {
  "kernelspec": {
   "display_name": "Python 3",
   "language": "python",
   "name": "python3"
  },
  "language_info": {
   "codemirror_mode": {
    "name": "ipython",
    "version": 3
   },
   "file_extension": ".py",
   "mimetype": "text/x-python",
   "name": "python",
   "nbconvert_exporter": "python",
   "pygments_lexer": "ipython3",
   "version": "3.8.2"
  }
 },
 "nbformat": 4,
 "nbformat_minor": 4
}
