{
 "cells": [
  {
   "cell_type": "markdown",
   "metadata": {},
   "source": [
    "# Deep Learning with TensorFlow"
   ]
  },
  {
   "cell_type": "markdown",
   "metadata": {},
   "source": [
    "![Namespace Logo](../labs.png)"
   ]
  },
  {
   "cell_type": "code",
   "execution_count": 1,
   "metadata": {},
   "outputs": [],
   "source": [
    "import pandas as pd\n",
    "import matplotlib.pyplot as plt\n",
    "import seaborn as sns"
   ]
  },
  {
   "cell_type": "code",
   "execution_count": 2,
   "metadata": {},
   "outputs": [],
   "source": [
    "df = pd.read_csv('transfusion.data')"
   ]
  },
  {
   "cell_type": "code",
   "execution_count": 3,
   "metadata": {},
   "outputs": [
    {
     "data": {
      "text/html": [
       "<div>\n",
       "<style scoped>\n",
       "    .dataframe tbody tr th:only-of-type {\n",
       "        vertical-align: middle;\n",
       "    }\n",
       "\n",
       "    .dataframe tbody tr th {\n",
       "        vertical-align: top;\n",
       "    }\n",
       "\n",
       "    .dataframe thead th {\n",
       "        text-align: right;\n",
       "    }\n",
       "</style>\n",
       "<table border=\"1\" class=\"dataframe\">\n",
       "  <thead>\n",
       "    <tr style=\"text-align: right;\">\n",
       "      <th></th>\n",
       "      <th>Recency (months)</th>\n",
       "      <th>Frequency (times)</th>\n",
       "      <th>Monetary (c.c. blood)</th>\n",
       "      <th>Time (months)</th>\n",
       "      <th>whether he/she donated blood in March 2007</th>\n",
       "    </tr>\n",
       "  </thead>\n",
       "  <tbody>\n",
       "    <tr>\n",
       "      <th>0</th>\n",
       "      <td>2</td>\n",
       "      <td>50</td>\n",
       "      <td>12500</td>\n",
       "      <td>98</td>\n",
       "      <td>1</td>\n",
       "    </tr>\n",
       "    <tr>\n",
       "      <th>1</th>\n",
       "      <td>0</td>\n",
       "      <td>13</td>\n",
       "      <td>3250</td>\n",
       "      <td>28</td>\n",
       "      <td>1</td>\n",
       "    </tr>\n",
       "    <tr>\n",
       "      <th>2</th>\n",
       "      <td>1</td>\n",
       "      <td>16</td>\n",
       "      <td>4000</td>\n",
       "      <td>35</td>\n",
       "      <td>1</td>\n",
       "    </tr>\n",
       "    <tr>\n",
       "      <th>3</th>\n",
       "      <td>2</td>\n",
       "      <td>20</td>\n",
       "      <td>5000</td>\n",
       "      <td>45</td>\n",
       "      <td>1</td>\n",
       "    </tr>\n",
       "    <tr>\n",
       "      <th>4</th>\n",
       "      <td>1</td>\n",
       "      <td>24</td>\n",
       "      <td>6000</td>\n",
       "      <td>77</td>\n",
       "      <td>0</td>\n",
       "    </tr>\n",
       "  </tbody>\n",
       "</table>\n",
       "</div>"
      ],
      "text/plain": [
       "   Recency (months)  Frequency (times)  Monetary (c.c. blood)  Time (months)  \\\n",
       "0                 2                 50                  12500             98   \n",
       "1                 0                 13                   3250             28   \n",
       "2                 1                 16                   4000             35   \n",
       "3                 2                 20                   5000             45   \n",
       "4                 1                 24                   6000             77   \n",
       "\n",
       "   whether he/she donated blood in March 2007  \n",
       "0                                           1  \n",
       "1                                           1  \n",
       "2                                           1  \n",
       "3                                           1  \n",
       "4                                           0  "
      ]
     },
     "execution_count": 3,
     "metadata": {},
     "output_type": "execute_result"
    }
   ],
   "source": [
    "df.head()"
   ]
  },
  {
   "cell_type": "code",
   "execution_count": 4,
   "metadata": {},
   "outputs": [
    {
     "data": {
      "text/html": [
       "<div>\n",
       "<style scoped>\n",
       "    .dataframe tbody tr th:only-of-type {\n",
       "        vertical-align: middle;\n",
       "    }\n",
       "\n",
       "    .dataframe tbody tr th {\n",
       "        vertical-align: top;\n",
       "    }\n",
       "\n",
       "    .dataframe thead th {\n",
       "        text-align: right;\n",
       "    }\n",
       "</style>\n",
       "<table border=\"1\" class=\"dataframe\">\n",
       "  <thead>\n",
       "    <tr style=\"text-align: right;\">\n",
       "      <th></th>\n",
       "      <th>Recency (months)</th>\n",
       "      <th>Frequency (times)</th>\n",
       "      <th>Monetary (c.c. blood)</th>\n",
       "      <th>Time (months)</th>\n",
       "      <th>whether he/she donated blood in March 2007</th>\n",
       "    </tr>\n",
       "  </thead>\n",
       "  <tbody>\n",
       "    <tr>\n",
       "      <th>count</th>\n",
       "      <td>748.000000</td>\n",
       "      <td>748.000000</td>\n",
       "      <td>748.000000</td>\n",
       "      <td>748.000000</td>\n",
       "      <td>748.000000</td>\n",
       "    </tr>\n",
       "    <tr>\n",
       "      <th>mean</th>\n",
       "      <td>9.506684</td>\n",
       "      <td>5.514706</td>\n",
       "      <td>1378.676471</td>\n",
       "      <td>34.282086</td>\n",
       "      <td>0.237968</td>\n",
       "    </tr>\n",
       "    <tr>\n",
       "      <th>std</th>\n",
       "      <td>8.095396</td>\n",
       "      <td>5.839307</td>\n",
       "      <td>1459.826781</td>\n",
       "      <td>24.376714</td>\n",
       "      <td>0.426124</td>\n",
       "    </tr>\n",
       "    <tr>\n",
       "      <th>min</th>\n",
       "      <td>0.000000</td>\n",
       "      <td>1.000000</td>\n",
       "      <td>250.000000</td>\n",
       "      <td>2.000000</td>\n",
       "      <td>0.000000</td>\n",
       "    </tr>\n",
       "    <tr>\n",
       "      <th>25%</th>\n",
       "      <td>2.750000</td>\n",
       "      <td>2.000000</td>\n",
       "      <td>500.000000</td>\n",
       "      <td>16.000000</td>\n",
       "      <td>0.000000</td>\n",
       "    </tr>\n",
       "    <tr>\n",
       "      <th>50%</th>\n",
       "      <td>7.000000</td>\n",
       "      <td>4.000000</td>\n",
       "      <td>1000.000000</td>\n",
       "      <td>28.000000</td>\n",
       "      <td>0.000000</td>\n",
       "    </tr>\n",
       "    <tr>\n",
       "      <th>75%</th>\n",
       "      <td>14.000000</td>\n",
       "      <td>7.000000</td>\n",
       "      <td>1750.000000</td>\n",
       "      <td>50.000000</td>\n",
       "      <td>0.000000</td>\n",
       "    </tr>\n",
       "    <tr>\n",
       "      <th>max</th>\n",
       "      <td>74.000000</td>\n",
       "      <td>50.000000</td>\n",
       "      <td>12500.000000</td>\n",
       "      <td>98.000000</td>\n",
       "      <td>1.000000</td>\n",
       "    </tr>\n",
       "  </tbody>\n",
       "</table>\n",
       "</div>"
      ],
      "text/plain": [
       "       Recency (months)  Frequency (times)  Monetary (c.c. blood)  \\\n",
       "count        748.000000         748.000000             748.000000   \n",
       "mean           9.506684           5.514706            1378.676471   \n",
       "std            8.095396           5.839307            1459.826781   \n",
       "min            0.000000           1.000000             250.000000   \n",
       "25%            2.750000           2.000000             500.000000   \n",
       "50%            7.000000           4.000000            1000.000000   \n",
       "75%           14.000000           7.000000            1750.000000   \n",
       "max           74.000000          50.000000           12500.000000   \n",
       "\n",
       "       Time (months)  whether he/she donated blood in March 2007  \n",
       "count     748.000000                                  748.000000  \n",
       "mean       34.282086                                    0.237968  \n",
       "std        24.376714                                    0.426124  \n",
       "min         2.000000                                    0.000000  \n",
       "25%        16.000000                                    0.000000  \n",
       "50%        28.000000                                    0.000000  \n",
       "75%        50.000000                                    0.000000  \n",
       "max        98.000000                                    1.000000  "
      ]
     },
     "execution_count": 4,
     "metadata": {},
     "output_type": "execute_result"
    }
   ],
   "source": [
    "df.describe()"
   ]
  },
  {
   "cell_type": "code",
   "execution_count": 5,
   "metadata": {},
   "outputs": [],
   "source": [
    "X = df.drop(['whether he/she donated blood in March 2007'],axis=1)"
   ]
  },
  {
   "cell_type": "code",
   "execution_count": 6,
   "metadata": {},
   "outputs": [],
   "source": [
    "y = df['whether he/she donated blood in March 2007']"
   ]
  },
  {
   "cell_type": "code",
   "execution_count": 7,
   "metadata": {},
   "outputs": [],
   "source": [
    "from sklearn.model_selection import train_test_split"
   ]
  },
  {
   "cell_type": "code",
   "execution_count": 8,
   "metadata": {},
   "outputs": [],
   "source": [
    "X_train, X_test, y_train, y_test = train_test_split(X, y, test_size=0.30, random_state=101)"
   ]
  },
  {
   "cell_type": "code",
   "execution_count": 9,
   "metadata": {},
   "outputs": [],
   "source": [
    "from sklearn.preprocessing import StandardScaler"
   ]
  },
  {
   "cell_type": "code",
   "execution_count": 10,
   "metadata": {},
   "outputs": [],
   "source": [
    "sc = StandardScaler()\n",
    "#normally distributed\n",
    "# transform the values to have a mean of 0 and a standard deviation of 1"
   ]
  },
  {
   "cell_type": "code",
   "execution_count": 11,
   "metadata": {},
   "outputs": [],
   "source": [
    "X_train = sc.fit_transform(X_train)"
   ]
  },
  {
   "cell_type": "code",
   "execution_count": 12,
   "metadata": {},
   "outputs": [],
   "source": [
    "X_test = sc.transform(X_test)"
   ]
  },
  {
   "cell_type": "code",
   "execution_count": 13,
   "metadata": {},
   "outputs": [],
   "source": [
    "from tensorflow import keras\n",
    "from tensorflow.keras.layers import Dense,Dropout"
   ]
  },
  {
   "cell_type": "code",
   "execution_count": 14,
   "metadata": {},
   "outputs": [],
   "source": [
    "model = keras.Sequential([\n",
    "    \n",
    "        Dense(20,activation='relu',input_dim=4),\n",
    "        Dense(15,activation='relu'),\n",
    "        Dropout(0.2),\n",
    "        Dense(25,activation='relu'),\n",
    "        Dense(1,activation=keras.activations.sigmoid)\n",
    "])\n"
   ]
  },
  {
   "cell_type": "code",
   "execution_count": 15,
   "metadata": {},
   "outputs": [],
   "source": [
    "model.compile(optimizer='adam', loss='binary_crossentropy',metrics=['accuracy'])"
   ]
  },
  {
   "cell_type": "code",
   "execution_count": 16,
   "metadata": {},
   "outputs": [],
   "source": [
    "from tensorflow.keras.callbacks import EarlyStopping"
   ]
  },
  {
   "cell_type": "code",
   "execution_count": 17,
   "metadata": {},
   "outputs": [],
   "source": [
    "callbacks = [\n",
    "            EarlyStopping(patience = 20,mode='max',monitor='accuracy')\n",
    "            ]"
   ]
  },
  {
   "cell_type": "code",
   "execution_count": 18,
   "metadata": {},
   "outputs": [
    {
     "name": "stdout",
     "output_type": "stream",
     "text": [
      "Epoch 1/600\n",
      "17/17 [==============================] - 0s 13ms/step - loss: 0.6968 - accuracy: 0.5277 - val_loss: 0.6650 - val_accuracy: 0.7600\n",
      "Epoch 2/600\n",
      "17/17 [==============================] - 0s 5ms/step - loss: 0.6516 - accuracy: 0.7495 - val_loss: 0.6222 - val_accuracy: 0.7556\n",
      "Epoch 3/600\n",
      "17/17 [==============================] - 0s 5ms/step - loss: 0.6138 - accuracy: 0.7648 - val_loss: 0.5808 - val_accuracy: 0.7467\n",
      "Epoch 4/600\n",
      "17/17 [==============================] - 0s 5ms/step - loss: 0.5693 - accuracy: 0.7801 - val_loss: 0.5503 - val_accuracy: 0.7467\n",
      "Epoch 5/600\n",
      "17/17 [==============================] - 0s 5ms/step - loss: 0.5433 - accuracy: 0.7744 - val_loss: 0.5219 - val_accuracy: 0.7511\n",
      "Epoch 6/600\n",
      "17/17 [==============================] - 0s 5ms/step - loss: 0.5144 - accuracy: 0.7744 - val_loss: 0.5032 - val_accuracy: 0.7556\n",
      "Epoch 7/600\n",
      "17/17 [==============================] - 0s 5ms/step - loss: 0.4967 - accuracy: 0.7801 - val_loss: 0.4921 - val_accuracy: 0.7600\n",
      "Epoch 8/600\n",
      "17/17 [==============================] - 0s 6ms/step - loss: 0.4867 - accuracy: 0.7859 - val_loss: 0.4817 - val_accuracy: 0.7600\n",
      "Epoch 9/600\n",
      "17/17 [==============================] - 0s 7ms/step - loss: 0.4873 - accuracy: 0.7686 - val_loss: 0.4731 - val_accuracy: 0.7600\n",
      "Epoch 10/600\n",
      "17/17 [==============================] - 0s 5ms/step - loss: 0.4799 - accuracy: 0.7801 - val_loss: 0.4694 - val_accuracy: 0.7644\n",
      "Epoch 11/600\n",
      "17/17 [==============================] - 0s 5ms/step - loss: 0.4758 - accuracy: 0.7839 - val_loss: 0.4688 - val_accuracy: 0.7778\n",
      "Epoch 12/600\n",
      "17/17 [==============================] - 0s 5ms/step - loss: 0.4700 - accuracy: 0.7801 - val_loss: 0.4658 - val_accuracy: 0.7644\n",
      "Epoch 13/600\n",
      "17/17 [==============================] - 0s 6ms/step - loss: 0.4657 - accuracy: 0.7801 - val_loss: 0.4669 - val_accuracy: 0.7778\n",
      "Epoch 14/600\n",
      "17/17 [==============================] - 0s 5ms/step - loss: 0.4771 - accuracy: 0.7801 - val_loss: 0.4633 - val_accuracy: 0.7822\n",
      "Epoch 15/600\n",
      "17/17 [==============================] - 0s 4ms/step - loss: 0.4724 - accuracy: 0.7801 - val_loss: 0.4612 - val_accuracy: 0.7822\n",
      "Epoch 16/600\n",
      "17/17 [==============================] - 0s 4ms/step - loss: 0.4748 - accuracy: 0.7782 - val_loss: 0.4610 - val_accuracy: 0.7778\n",
      "Epoch 17/600\n",
      "17/17 [==============================] - 0s 5ms/step - loss: 0.4735 - accuracy: 0.7878 - val_loss: 0.4616 - val_accuracy: 0.7778\n",
      "Epoch 18/600\n",
      "17/17 [==============================] - 0s 5ms/step - loss: 0.4671 - accuracy: 0.7782 - val_loss: 0.4615 - val_accuracy: 0.7822\n",
      "Epoch 19/600\n",
      "17/17 [==============================] - 0s 5ms/step - loss: 0.4662 - accuracy: 0.7763 - val_loss: 0.4621 - val_accuracy: 0.7822\n",
      "Epoch 20/600\n",
      "17/17 [==============================] - 0s 5ms/step - loss: 0.4668 - accuracy: 0.7916 - val_loss: 0.4605 - val_accuracy: 0.7822\n",
      "Epoch 21/600\n",
      "17/17 [==============================] - 0s 5ms/step - loss: 0.4680 - accuracy: 0.7897 - val_loss: 0.4601 - val_accuracy: 0.7867\n",
      "Epoch 22/600\n",
      "17/17 [==============================] - 0s 5ms/step - loss: 0.4721 - accuracy: 0.7859 - val_loss: 0.4631 - val_accuracy: 0.7822\n",
      "Epoch 23/600\n",
      "17/17 [==============================] - 0s 5ms/step - loss: 0.4626 - accuracy: 0.7878 - val_loss: 0.4611 - val_accuracy: 0.7778\n",
      "Epoch 24/600\n",
      "17/17 [==============================] - 0s 5ms/step - loss: 0.4593 - accuracy: 0.7897 - val_loss: 0.4636 - val_accuracy: 0.7778\n",
      "Epoch 25/600\n",
      "17/17 [==============================] - 0s 5ms/step - loss: 0.4743 - accuracy: 0.7839 - val_loss: 0.4621 - val_accuracy: 0.7778\n",
      "Epoch 26/600\n",
      "17/17 [==============================] - 0s 5ms/step - loss: 0.4640 - accuracy: 0.7744 - val_loss: 0.4626 - val_accuracy: 0.7689\n",
      "Epoch 27/600\n",
      "17/17 [==============================] - 0s 5ms/step - loss: 0.4662 - accuracy: 0.7820 - val_loss: 0.4613 - val_accuracy: 0.7778\n",
      "Epoch 28/600\n",
      "17/17 [==============================] - 0s 5ms/step - loss: 0.4712 - accuracy: 0.7878 - val_loss: 0.4601 - val_accuracy: 0.7822\n",
      "Epoch 29/600\n",
      "17/17 [==============================] - 0s 5ms/step - loss: 0.4639 - accuracy: 0.7859 - val_loss: 0.4591 - val_accuracy: 0.7778\n",
      "Epoch 30/600\n",
      "17/17 [==============================] - 0s 5ms/step - loss: 0.4588 - accuracy: 0.7878 - val_loss: 0.4579 - val_accuracy: 0.7822\n",
      "Epoch 31/600\n",
      "17/17 [==============================] - 0s 5ms/step - loss: 0.4633 - accuracy: 0.7935 - val_loss: 0.4574 - val_accuracy: 0.7822\n",
      "Epoch 32/600\n",
      "17/17 [==============================] - 0s 5ms/step - loss: 0.4633 - accuracy: 0.7820 - val_loss: 0.4598 - val_accuracy: 0.7822\n",
      "Epoch 33/600\n",
      "17/17 [==============================] - 0s 5ms/step - loss: 0.4655 - accuracy: 0.7859 - val_loss: 0.4593 - val_accuracy: 0.7867\n",
      "Epoch 34/600\n",
      "17/17 [==============================] - 0s 5ms/step - loss: 0.4686 - accuracy: 0.7820 - val_loss: 0.4598 - val_accuracy: 0.7822\n",
      "Epoch 35/600\n",
      "17/17 [==============================] - 0s 5ms/step - loss: 0.4566 - accuracy: 0.7859 - val_loss: 0.4592 - val_accuracy: 0.7778\n",
      "Epoch 36/600\n",
      "17/17 [==============================] - 0s 5ms/step - loss: 0.4753 - accuracy: 0.7839 - val_loss: 0.4606 - val_accuracy: 0.7822\n",
      "Epoch 37/600\n",
      "17/17 [==============================] - 0s 4ms/step - loss: 0.4653 - accuracy: 0.7801 - val_loss: 0.4598 - val_accuracy: 0.7822\n",
      "Epoch 38/600\n",
      "17/17 [==============================] - 0s 4ms/step - loss: 0.4647 - accuracy: 0.7820 - val_loss: 0.4576 - val_accuracy: 0.7911\n",
      "Epoch 39/600\n",
      "17/17 [==============================] - 0s 4ms/step - loss: 0.4639 - accuracy: 0.7878 - val_loss: 0.4575 - val_accuracy: 0.7822\n",
      "Epoch 40/600\n",
      "17/17 [==============================] - 0s 4ms/step - loss: 0.4689 - accuracy: 0.7935 - val_loss: 0.4577 - val_accuracy: 0.7867\n",
      "Epoch 41/600\n",
      "17/17 [==============================] - 0s 5ms/step - loss: 0.4636 - accuracy: 0.7801 - val_loss: 0.4583 - val_accuracy: 0.7867\n",
      "Epoch 42/600\n",
      "17/17 [==============================] - 0s 5ms/step - loss: 0.4688 - accuracy: 0.7820 - val_loss: 0.4570 - val_accuracy: 0.7911\n",
      "Epoch 43/600\n",
      "17/17 [==============================] - 0s 4ms/step - loss: 0.4685 - accuracy: 0.7897 - val_loss: 0.4582 - val_accuracy: 0.7867\n",
      "Epoch 44/600\n",
      "17/17 [==============================] - 0s 4ms/step - loss: 0.4537 - accuracy: 0.7973 - val_loss: 0.4562 - val_accuracy: 0.7956\n",
      "Epoch 45/600\n",
      "17/17 [==============================] - 0s 5ms/step - loss: 0.4679 - accuracy: 0.7820 - val_loss: 0.4559 - val_accuracy: 0.7911\n",
      "Epoch 46/600\n",
      "17/17 [==============================] - 0s 4ms/step - loss: 0.4708 - accuracy: 0.7820 - val_loss: 0.4554 - val_accuracy: 0.7867\n",
      "Epoch 47/600\n",
      "17/17 [==============================] - 0s 5ms/step - loss: 0.4605 - accuracy: 0.7954 - val_loss: 0.4562 - val_accuracy: 0.7956\n",
      "Epoch 48/600\n",
      "17/17 [==============================] - 0s 5ms/step - loss: 0.4653 - accuracy: 0.7897 - val_loss: 0.4567 - val_accuracy: 0.7956\n",
      "Epoch 49/600\n",
      "17/17 [==============================] - 0s 5ms/step - loss: 0.4615 - accuracy: 0.7897 - val_loss: 0.4549 - val_accuracy: 0.7911\n",
      "Epoch 50/600\n",
      "17/17 [==============================] - 0s 5ms/step - loss: 0.4610 - accuracy: 0.7801 - val_loss: 0.4549 - val_accuracy: 0.7956\n",
      "Epoch 51/600\n",
      "17/17 [==============================] - 0s 4ms/step - loss: 0.4574 - accuracy: 0.7859 - val_loss: 0.4541 - val_accuracy: 0.7911\n",
      "Epoch 52/600\n",
      "17/17 [==============================] - 0s 4ms/step - loss: 0.4625 - accuracy: 0.7839 - val_loss: 0.4564 - val_accuracy: 0.7956\n",
      "Epoch 53/600\n",
      "17/17 [==============================] - 0s 4ms/step - loss: 0.4594 - accuracy: 0.7954 - val_loss: 0.4554 - val_accuracy: 0.8000\n",
      "Epoch 54/600\n",
      "17/17 [==============================] - 0s 4ms/step - loss: 0.4536 - accuracy: 0.8011 - val_loss: 0.4574 - val_accuracy: 0.7911\n",
      "Epoch 55/600\n",
      "17/17 [==============================] - 0s 5ms/step - loss: 0.4554 - accuracy: 0.7992 - val_loss: 0.4567 - val_accuracy: 0.7911\n",
      "Epoch 56/600\n",
      "17/17 [==============================] - 0s 5ms/step - loss: 0.4564 - accuracy: 0.7839 - val_loss: 0.4559 - val_accuracy: 0.7911\n",
      "Epoch 57/600\n",
      "17/17 [==============================] - 0s 5ms/step - loss: 0.4572 - accuracy: 0.7820 - val_loss: 0.4543 - val_accuracy: 0.7956\n",
      "Epoch 58/600\n",
      "17/17 [==============================] - 0s 5ms/step - loss: 0.4557 - accuracy: 0.8069 - val_loss: 0.4528 - val_accuracy: 0.8089\n",
      "Epoch 59/600\n",
      "17/17 [==============================] - 0s 5ms/step - loss: 0.4650 - accuracy: 0.7859 - val_loss: 0.4538 - val_accuracy: 0.8089\n",
      "Epoch 60/600\n",
      "17/17 [==============================] - 0s 5ms/step - loss: 0.4556 - accuracy: 0.8031 - val_loss: 0.4531 - val_accuracy: 0.8089\n",
      "Epoch 61/600\n",
      "17/17 [==============================] - 0s 4ms/step - loss: 0.4585 - accuracy: 0.7878 - val_loss: 0.4537 - val_accuracy: 0.7956\n",
      "Epoch 62/600\n",
      "17/17 [==============================] - 0s 5ms/step - loss: 0.4638 - accuracy: 0.7878 - val_loss: 0.4541 - val_accuracy: 0.8044\n",
      "Epoch 63/600\n",
      "17/17 [==============================] - 0s 5ms/step - loss: 0.4569 - accuracy: 0.7973 - val_loss: 0.4519 - val_accuracy: 0.8089\n",
      "Epoch 64/600\n",
      "17/17 [==============================] - 0s 4ms/step - loss: 0.4622 - accuracy: 0.7935 - val_loss: 0.4515 - val_accuracy: 0.8089\n",
      "Epoch 65/600\n",
      "17/17 [==============================] - 0s 4ms/step - loss: 0.4582 - accuracy: 0.7801 - val_loss: 0.4532 - val_accuracy: 0.8089\n",
      "Epoch 66/600\n",
      "17/17 [==============================] - 0s 5ms/step - loss: 0.4587 - accuracy: 0.8088 - val_loss: 0.4537 - val_accuracy: 0.8089\n",
      "Epoch 67/600\n",
      "17/17 [==============================] - 0s 5ms/step - loss: 0.4618 - accuracy: 0.7992 - val_loss: 0.4549 - val_accuracy: 0.8000\n",
      "Epoch 68/600\n",
      "17/17 [==============================] - 0s 5ms/step - loss: 0.4630 - accuracy: 0.7859 - val_loss: 0.4543 - val_accuracy: 0.8044\n",
      "Epoch 69/600\n",
      "17/17 [==============================] - 0s 4ms/step - loss: 0.4599 - accuracy: 0.7916 - val_loss: 0.4537 - val_accuracy: 0.8089\n",
      "Epoch 70/600\n",
      "17/17 [==============================] - 0s 5ms/step - loss: 0.4586 - accuracy: 0.7916 - val_loss: 0.4537 - val_accuracy: 0.8000\n",
      "Epoch 71/600\n",
      "17/17 [==============================] - 0s 5ms/step - loss: 0.4589 - accuracy: 0.7878 - val_loss: 0.4524 - val_accuracy: 0.8044\n",
      "Epoch 72/600\n",
      "17/17 [==============================] - 0s 5ms/step - loss: 0.4604 - accuracy: 0.7935 - val_loss: 0.4551 - val_accuracy: 0.8000\n",
      "Epoch 73/600\n",
      "17/17 [==============================] - 0s 4ms/step - loss: 0.4541 - accuracy: 0.7935 - val_loss: 0.4542 - val_accuracy: 0.8044\n",
      "Epoch 74/600\n",
      "17/17 [==============================] - 0s 5ms/step - loss: 0.4583 - accuracy: 0.7992 - val_loss: 0.4531 - val_accuracy: 0.8089\n",
      "Epoch 75/600\n",
      "17/17 [==============================] - 0s 4ms/step - loss: 0.4609 - accuracy: 0.7839 - val_loss: 0.4532 - val_accuracy: 0.8044\n",
      "Epoch 76/600\n",
      "17/17 [==============================] - 0s 5ms/step - loss: 0.4558 - accuracy: 0.7973 - val_loss: 0.4528 - val_accuracy: 0.8044\n",
      "Epoch 77/600\n",
      "17/17 [==============================] - 0s 5ms/step - loss: 0.4636 - accuracy: 0.7935 - val_loss: 0.4528 - val_accuracy: 0.8133\n",
      "Epoch 78/600\n",
      "17/17 [==============================] - 0s 5ms/step - loss: 0.4554 - accuracy: 0.7954 - val_loss: 0.4551 - val_accuracy: 0.8044\n",
      "Epoch 79/600\n",
      "17/17 [==============================] - 0s 4ms/step - loss: 0.4558 - accuracy: 0.7973 - val_loss: 0.4545 - val_accuracy: 0.8044\n",
      "Epoch 80/600\n",
      "17/17 [==============================] - 0s 4ms/step - loss: 0.4562 - accuracy: 0.7992 - val_loss: 0.4555 - val_accuracy: 0.8044\n",
      "Epoch 81/600\n",
      "17/17 [==============================] - 0s 4ms/step - loss: 0.4576 - accuracy: 0.7954 - val_loss: 0.4555 - val_accuracy: 0.8044\n",
      "Epoch 82/600\n",
      "17/17 [==============================] - 0s 5ms/step - loss: 0.4511 - accuracy: 0.7992 - val_loss: 0.4548 - val_accuracy: 0.8044\n",
      "Epoch 83/600\n",
      "17/17 [==============================] - 0s 4ms/step - loss: 0.4588 - accuracy: 0.7954 - val_loss: 0.4542 - val_accuracy: 0.8044\n",
      "Epoch 84/600\n",
      "17/17 [==============================] - 0s 4ms/step - loss: 0.4559 - accuracy: 0.7916 - val_loss: 0.4528 - val_accuracy: 0.8089\n",
      "Epoch 85/600\n",
      "17/17 [==============================] - 0s 5ms/step - loss: 0.4572 - accuracy: 0.7954 - val_loss: 0.4523 - val_accuracy: 0.8089\n",
      "Epoch 86/600\n",
      "17/17 [==============================] - 0s 5ms/step - loss: 0.4560 - accuracy: 0.7954 - val_loss: 0.4530 - val_accuracy: 0.8089\n"
     ]
    }
   ],
   "source": [
    "history = model.fit(X_train,y_train,epochs=600,validation_data = (X_test,y_test),\n",
    "                    callbacks=callbacks)"
   ]
  },
  {
   "cell_type": "code",
   "execution_count": 19,
   "metadata": {},
   "outputs": [],
   "source": [
    "losses = pd.DataFrame(history.history)"
   ]
  },
  {
   "cell_type": "code",
   "execution_count": 20,
   "metadata": {},
   "outputs": [
    {
     "data": {
      "text/html": [
       "<div>\n",
       "<style scoped>\n",
       "    .dataframe tbody tr th:only-of-type {\n",
       "        vertical-align: middle;\n",
       "    }\n",
       "\n",
       "    .dataframe tbody tr th {\n",
       "        vertical-align: top;\n",
       "    }\n",
       "\n",
       "    .dataframe thead th {\n",
       "        text-align: right;\n",
       "    }\n",
       "</style>\n",
       "<table border=\"1\" class=\"dataframe\">\n",
       "  <thead>\n",
       "    <tr style=\"text-align: right;\">\n",
       "      <th></th>\n",
       "      <th>loss</th>\n",
       "      <th>accuracy</th>\n",
       "      <th>val_loss</th>\n",
       "      <th>val_accuracy</th>\n",
       "    </tr>\n",
       "  </thead>\n",
       "  <tbody>\n",
       "    <tr>\n",
       "      <th>0</th>\n",
       "      <td>0.696800</td>\n",
       "      <td>0.527725</td>\n",
       "      <td>0.665034</td>\n",
       "      <td>0.760000</td>\n",
       "    </tr>\n",
       "    <tr>\n",
       "      <th>1</th>\n",
       "      <td>0.651582</td>\n",
       "      <td>0.749522</td>\n",
       "      <td>0.622231</td>\n",
       "      <td>0.755556</td>\n",
       "    </tr>\n",
       "    <tr>\n",
       "      <th>2</th>\n",
       "      <td>0.613801</td>\n",
       "      <td>0.764818</td>\n",
       "      <td>0.580836</td>\n",
       "      <td>0.746667</td>\n",
       "    </tr>\n",
       "    <tr>\n",
       "      <th>3</th>\n",
       "      <td>0.569303</td>\n",
       "      <td>0.780115</td>\n",
       "      <td>0.550300</td>\n",
       "      <td>0.746667</td>\n",
       "    </tr>\n",
       "    <tr>\n",
       "      <th>4</th>\n",
       "      <td>0.543268</td>\n",
       "      <td>0.774379</td>\n",
       "      <td>0.521907</td>\n",
       "      <td>0.751111</td>\n",
       "    </tr>\n",
       "  </tbody>\n",
       "</table>\n",
       "</div>"
      ],
      "text/plain": [
       "       loss  accuracy  val_loss  val_accuracy\n",
       "0  0.696800  0.527725  0.665034      0.760000\n",
       "1  0.651582  0.749522  0.622231      0.755556\n",
       "2  0.613801  0.764818  0.580836      0.746667\n",
       "3  0.569303  0.780115  0.550300      0.746667\n",
       "4  0.543268  0.774379  0.521907      0.751111"
      ]
     },
     "execution_count": 20,
     "metadata": {},
     "output_type": "execute_result"
    }
   ],
   "source": [
    "losses.head()"
   ]
  },
  {
   "cell_type": "code",
   "execution_count": 35,
   "metadata": {},
   "outputs": [
    {
     "data": {
      "text/plain": [
       "<matplotlib.legend.Legend at 0x7f901013f850>"
      ]
     },
     "execution_count": 35,
     "metadata": {},
     "output_type": "execute_result"
    },
    {
     "data": {
      "image/png": "[encoded data removed]",
      "text/plain": [
       "<Figure size 576x432 with 1 Axes>"
      ]
     },
     "metadata": {
      "needs_background": "light"
     },
     "output_type": "display_data"
    }
   ],
   "source": [
    "plt.figure(figsize=(8,6))\n",
    "plt.xlabel('Epochs')\n",
    "plt.ylabel('Loss')\n",
    "losses['loss'].plot(label='Training Loss')\n",
    "losses['val_loss'].plot(label='Validation Loss')\n",
    "plt.legend(loc='center')"
   ]
  },
  {
   "cell_type": "code",
   "execution_count": 22,
   "metadata": {},
   "outputs": [
    {
     "name": "stdout",
     "output_type": "stream",
     "text": [
      "8/8 [==============================] - 0s 2ms/step - loss: 0.4530 - accuracy: 0.8089\n"
     ]
    },
    {
     "data": {
      "text/plain": [
       "[0.45298683643341064, 0.8088889122009277]"
      ]
     },
     "execution_count": 22,
     "metadata": {},
     "output_type": "execute_result"
    }
   ],
   "source": [
    "model.evaluate(X_test, y_test)"
   ]
  },
  {
   "cell_type": "code",
   "execution_count": 23,
   "metadata": {},
   "outputs": [],
   "source": [
    "predictions = model.predict(X_test)\n",
    "import numpy as np\n",
    "np.set_printoptions(suppress=True)"
   ]
  },
  {
   "cell_type": "code",
   "execution_count": 24,
   "metadata": {},
   "outputs": [],
   "source": [
    "predictions_df = pd.DataFrame(predictions.round(3),columns=['Prediction'])"
   ]
  },
  {
   "cell_type": "code",
   "execution_count": 25,
   "metadata": {},
   "outputs": [
    {
     "data": {
      "text/html": [
       "<div>\n",
       "<style scoped>\n",
       "    .dataframe tbody tr th:only-of-type {\n",
       "        vertical-align: middle;\n",
       "    }\n",
       "\n",
       "    .dataframe tbody tr th {\n",
       "        vertical-align: top;\n",
       "    }\n",
       "\n",
       "    .dataframe thead th {\n",
       "        text-align: right;\n",
       "    }\n",
       "</style>\n",
       "<table border=\"1\" class=\"dataframe\">\n",
       "  <thead>\n",
       "    <tr style=\"text-align: right;\">\n",
       "      <th></th>\n",
       "      <th>Prediction</th>\n",
       "    </tr>\n",
       "  </thead>\n",
       "  <tbody>\n",
       "    <tr>\n",
       "      <th>0</th>\n",
       "      <td>0.119</td>\n",
       "    </tr>\n",
       "    <tr>\n",
       "      <th>1</th>\n",
       "      <td>0.519</td>\n",
       "    </tr>\n",
       "    <tr>\n",
       "      <th>2</th>\n",
       "      <td>0.144</td>\n",
       "    </tr>\n",
       "    <tr>\n",
       "      <th>3</th>\n",
       "      <td>0.152</td>\n",
       "    </tr>\n",
       "    <tr>\n",
       "      <th>4</th>\n",
       "      <td>0.201</td>\n",
       "    </tr>\n",
       "  </tbody>\n",
       "</table>\n",
       "</div>"
      ],
      "text/plain": [
       "   Prediction\n",
       "0       0.119\n",
       "1       0.519\n",
       "2       0.144\n",
       "3       0.152\n",
       "4       0.201"
      ]
     },
     "execution_count": 25,
     "metadata": {},
     "output_type": "execute_result"
    }
   ],
   "source": [
    "predictions_df.head()"
   ]
  },
  {
   "cell_type": "code",
   "execution_count": 26,
   "metadata": {},
   "outputs": [
    {
     "name": "stdout",
     "output_type": "stream",
     "text": [
      "<class 'pandas.core.frame.DataFrame'>\n",
      "RangeIndex: 225 entries, 0 to 224\n",
      "Data columns (total 1 columns):\n",
      "Prediction    225 non-null float32\n",
      "dtypes: float32(1)\n",
      "memory usage: 1.0 KB\n"
     ]
    }
   ],
   "source": [
    " predictions_df.info()"
   ]
  },
  {
   "cell_type": "code",
   "execution_count": 27,
   "metadata": {},
   "outputs": [],
   "source": [
    "predictions_df['Row ID'] = range(0,225)"
   ]
  },
  {
   "cell_type": "code",
   "execution_count": 28,
   "metadata": {},
   "outputs": [
    {
     "data": {
      "text/html": [
       "<div>\n",
       "<style scoped>\n",
       "    .dataframe tbody tr th:only-of-type {\n",
       "        vertical-align: middle;\n",
       "    }\n",
       "\n",
       "    .dataframe tbody tr th {\n",
       "        vertical-align: top;\n",
       "    }\n",
       "\n",
       "    .dataframe thead th {\n",
       "        text-align: right;\n",
       "    }\n",
       "</style>\n",
       "<table border=\"1\" class=\"dataframe\">\n",
       "  <thead>\n",
       "    <tr style=\"text-align: right;\">\n",
       "      <th></th>\n",
       "      <th>Prediction</th>\n",
       "      <th>Row ID</th>\n",
       "    </tr>\n",
       "  </thead>\n",
       "  <tbody>\n",
       "    <tr>\n",
       "      <th>220</th>\n",
       "      <td>0.147</td>\n",
       "      <td>220</td>\n",
       "    </tr>\n",
       "    <tr>\n",
       "      <th>221</th>\n",
       "      <td>0.084</td>\n",
       "      <td>221</td>\n",
       "    </tr>\n",
       "    <tr>\n",
       "      <th>222</th>\n",
       "      <td>0.129</td>\n",
       "      <td>222</td>\n",
       "    </tr>\n",
       "    <tr>\n",
       "      <th>223</th>\n",
       "      <td>0.258</td>\n",
       "      <td>223</td>\n",
       "    </tr>\n",
       "    <tr>\n",
       "      <th>224</th>\n",
       "      <td>0.167</td>\n",
       "      <td>224</td>\n",
       "    </tr>\n",
       "  </tbody>\n",
       "</table>\n",
       "</div>"
      ],
      "text/plain": [
       "     Prediction  Row ID\n",
       "220       0.147     220\n",
       "221       0.084     221\n",
       "222       0.129     222\n",
       "223       0.258     223\n",
       "224       0.167     224"
      ]
     },
     "execution_count": 28,
     "metadata": {},
     "output_type": "execute_result"
    }
   ],
   "source": [
    "predictions_df.tail()"
   ]
  },
  {
   "cell_type": "code",
   "execution_count": 29,
   "metadata": {},
   "outputs": [
    {
     "data": {
      "text/plain": [
       "0.7329999804496765"
      ]
     },
     "execution_count": 29,
     "metadata": {},
     "output_type": "execute_result"
    }
   ],
   "source": [
    "predictions_df['Prediction'].max()"
   ]
  },
  {
   "cell_type": "code",
   "execution_count": 30,
   "metadata": {},
   "outputs": [
    {
     "data": {
      "text/plain": [
       "0.0"
      ]
     },
     "execution_count": 30,
     "metadata": {},
     "output_type": "execute_result"
    }
   ],
   "source": [
    "predictions_df['Prediction'].min()"
   ]
  },
  {
   "cell_type": "code",
   "execution_count": 31,
   "metadata": {},
   "outputs": [],
   "source": [
    "predictions = (predictions > 0.5)\n"
   ]
  },
  {
   "cell_type": "code",
   "execution_count": 32,
   "metadata": {},
   "outputs": [],
   "source": [
    "#predictions"
   ]
  },
  {
   "cell_type": "code",
   "execution_count": 33,
   "metadata": {},
   "outputs": [],
   "source": [
    "from sklearn.metrics import classification_report"
   ]
  },
  {
   "cell_type": "code",
   "execution_count": 34,
   "metadata": {},
   "outputs": [
    {
     "name": "stdout",
     "output_type": "stream",
     "text": [
      "              precision    recall  f1-score   support\n",
      "\n",
      "       False       0.95      0.82      0.88       195\n",
      "        True       0.39      0.73      0.51        30\n",
      "\n",
      "    accuracy                           0.81       225\n",
      "   macro avg       0.67      0.78      0.69       225\n",
      "weighted avg       0.88      0.81      0.83       225\n",
      "\n"
     ]
    }
   ],
   "source": [
    "print(classification_report(predictions.reshape(225,), y_test))"
   ]
  },
  {
   "cell_type": "markdown",
   "metadata": {},
   "source": [
    "Happy Learning!"
   ]
  }
 ],
 "metadata": {
  "kernelspec": {
   "display_name": "Python 3",
   "language": "python",
   "name": "python3"
  },
  "language_info": {
   "codemirror_mode": {
    "name": "ipython",
    "version": 3
   },
   "file_extension": ".py",
   "mimetype": "text/x-python",
   "name": "python",
   "nbconvert_exporter": "python",
   "pygments_lexer": "ipython3",
   "version": "3.8.2"
  }
 },
 "nbformat": 4,
 "nbformat_minor": 4
}
