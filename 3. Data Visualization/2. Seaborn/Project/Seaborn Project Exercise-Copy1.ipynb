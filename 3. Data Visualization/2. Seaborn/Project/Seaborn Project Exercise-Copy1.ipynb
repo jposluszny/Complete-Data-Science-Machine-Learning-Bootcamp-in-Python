{
 "cells": [
  {
   "cell_type": "markdown",
   "metadata": {},
   "source": [
    "# Seaborn - Data Visualization Project Exercise"
   ]
  },
  {
   "cell_type": "markdown",
   "metadata": {},
   "source": [
    "### Scroll to where the Seaborn Section Starts"
   ]
  },
  {
   "cell_type": "markdown",
   "metadata": {},
   "source": [
    "![Namespace Labs](../../../labs.png)"
   ]
  },
  {
   "cell_type": "code",
   "execution_count": 3,
   "metadata": {},
   "outputs": [],
   "source": [
    "import pandas as pd"
   ]
  },
  {
   "cell_type": "code",
   "execution_count": 4,
   "metadata": {},
   "outputs": [],
   "source": [
    "# Load in kiva_loans.csv as df\n",
    "df = pd.read_csv(\"../../kiva_loans.csv\")"
   ]
  },
  {
   "cell_type": "code",
   "execution_count": 5,
   "metadata": {},
   "outputs": [
    {
     "data": {
      "text/html": [
       "<div>\n",
       "<style scoped>\n",
       "    .dataframe tbody tr th:only-of-type {\n",
       "        vertical-align: middle;\n",
       "    }\n",
       "\n",
       "    .dataframe tbody tr th {\n",
       "        vertical-align: top;\n",
       "    }\n",
       "\n",
       "    .dataframe thead th {\n",
       "        text-align: right;\n",
       "    }\n",
       "</style>\n",
       "<table border=\"1\" class=\"dataframe\">\n",
       "  <thead>\n",
       "    <tr style=\"text-align: right;\">\n",
       "      <th></th>\n",
       "      <th>id</th>\n",
       "      <th>funded_amount</th>\n",
       "      <th>loan_amount</th>\n",
       "      <th>activity</th>\n",
       "      <th>sector</th>\n",
       "      <th>use</th>\n",
       "      <th>country_code</th>\n",
       "      <th>country</th>\n",
       "      <th>region</th>\n",
       "      <th>currency</th>\n",
       "      <th>partner_id</th>\n",
       "      <th>posted_time</th>\n",
       "      <th>disbursed_time</th>\n",
       "      <th>funded_time</th>\n",
       "      <th>term_in_months</th>\n",
       "      <th>lender_count</th>\n",
       "      <th>tags</th>\n",
       "      <th>borrower_genders</th>\n",
       "      <th>repayment_interval</th>\n",
       "      <th>date</th>\n",
       "    </tr>\n",
       "  </thead>\n",
       "  <tbody>\n",
       "    <tr>\n",
       "      <th>0</th>\n",
       "      <td>653051</td>\n",
       "      <td>300.0</td>\n",
       "      <td>300.0</td>\n",
       "      <td>Fruits &amp; Vegetables</td>\n",
       "      <td>Food</td>\n",
       "      <td>To buy seasonal, fresh fruits to sell.</td>\n",
       "      <td>PK</td>\n",
       "      <td>Pakistan</td>\n",
       "      <td>Lahore</td>\n",
       "      <td>PKR</td>\n",
       "      <td>247.0</td>\n",
       "      <td>2014-01-01 06:12:39+00:00</td>\n",
       "      <td>2013-12-17 08:00:00+00:00</td>\n",
       "      <td>2014-01-02 10:06:32+00:00</td>\n",
       "      <td>12.0</td>\n",
       "      <td>12</td>\n",
       "      <td>NaN</td>\n",
       "      <td>female</td>\n",
       "      <td>irregular</td>\n",
       "      <td>2014-01-01</td>\n",
       "    </tr>\n",
       "    <tr>\n",
       "      <th>1</th>\n",
       "      <td>653053</td>\n",
       "      <td>575.0</td>\n",
       "      <td>575.0</td>\n",
       "      <td>Rickshaw</td>\n",
       "      <td>Transportation</td>\n",
       "      <td>to repair and maintain the auto rickshaw used ...</td>\n",
       "      <td>PK</td>\n",
       "      <td>Pakistan</td>\n",
       "      <td>Lahore</td>\n",
       "      <td>PKR</td>\n",
       "      <td>247.0</td>\n",
       "      <td>2014-01-01 06:51:08+00:00</td>\n",
       "      <td>2013-12-17 08:00:00+00:00</td>\n",
       "      <td>2014-01-02 09:17:23+00:00</td>\n",
       "      <td>11.0</td>\n",
       "      <td>14</td>\n",
       "      <td>NaN</td>\n",
       "      <td>female, female</td>\n",
       "      <td>irregular</td>\n",
       "      <td>2014-01-01</td>\n",
       "    </tr>\n",
       "    <tr>\n",
       "      <th>2</th>\n",
       "      <td>653068</td>\n",
       "      <td>150.0</td>\n",
       "      <td>150.0</td>\n",
       "      <td>Transportation</td>\n",
       "      <td>Transportation</td>\n",
       "      <td>To repair their old cycle-van and buy another ...</td>\n",
       "      <td>IN</td>\n",
       "      <td>India</td>\n",
       "      <td>Maynaguri</td>\n",
       "      <td>INR</td>\n",
       "      <td>334.0</td>\n",
       "      <td>2014-01-01 09:58:07+00:00</td>\n",
       "      <td>2013-12-17 08:00:00+00:00</td>\n",
       "      <td>2014-01-01 16:01:36+00:00</td>\n",
       "      <td>43.0</td>\n",
       "      <td>6</td>\n",
       "      <td>user_favorite, user_favorite</td>\n",
       "      <td>female</td>\n",
       "      <td>bullet</td>\n",
       "      <td>2014-01-01</td>\n",
       "    </tr>\n",
       "    <tr>\n",
       "      <th>3</th>\n",
       "      <td>653063</td>\n",
       "      <td>200.0</td>\n",
       "      <td>200.0</td>\n",
       "      <td>Embroidery</td>\n",
       "      <td>Arts</td>\n",
       "      <td>to purchase an embroidery machine and a variet...</td>\n",
       "      <td>PK</td>\n",
       "      <td>Pakistan</td>\n",
       "      <td>Lahore</td>\n",
       "      <td>PKR</td>\n",
       "      <td>247.0</td>\n",
       "      <td>2014-01-01 08:03:11+00:00</td>\n",
       "      <td>2013-12-24 08:00:00+00:00</td>\n",
       "      <td>2014-01-01 13:00:00+00:00</td>\n",
       "      <td>11.0</td>\n",
       "      <td>8</td>\n",
       "      <td>NaN</td>\n",
       "      <td>female</td>\n",
       "      <td>irregular</td>\n",
       "      <td>2014-01-01</td>\n",
       "    </tr>\n",
       "    <tr>\n",
       "      <th>4</th>\n",
       "      <td>653084</td>\n",
       "      <td>400.0</td>\n",
       "      <td>400.0</td>\n",
       "      <td>Milk Sales</td>\n",
       "      <td>Food</td>\n",
       "      <td>to purchase one buffalo.</td>\n",
       "      <td>PK</td>\n",
       "      <td>Pakistan</td>\n",
       "      <td>Abdul Hakeem</td>\n",
       "      <td>PKR</td>\n",
       "      <td>245.0</td>\n",
       "      <td>2014-01-01 11:53:19+00:00</td>\n",
       "      <td>2013-12-17 08:00:00+00:00</td>\n",
       "      <td>2014-01-01 19:18:51+00:00</td>\n",
       "      <td>14.0</td>\n",
       "      <td>16</td>\n",
       "      <td>NaN</td>\n",
       "      <td>female</td>\n",
       "      <td>monthly</td>\n",
       "      <td>2014-01-01</td>\n",
       "    </tr>\n",
       "  </tbody>\n",
       "</table>\n",
       "</div>"
      ],
      "text/plain": [
       "       id  funded_amount  loan_amount             activity          sector  \\\n",
       "0  653051          300.0        300.0  Fruits & Vegetables            Food   \n",
       "1  653053          575.0        575.0             Rickshaw  Transportation   \n",
       "2  653068          150.0        150.0       Transportation  Transportation   \n",
       "3  653063          200.0        200.0           Embroidery            Arts   \n",
       "4  653084          400.0        400.0           Milk Sales            Food   \n",
       "\n",
       "                                                 use country_code   country  \\\n",
       "0            To buy seasonal, fresh fruits to sell.            PK  Pakistan   \n",
       "1  to repair and maintain the auto rickshaw used ...           PK  Pakistan   \n",
       "2  To repair their old cycle-van and buy another ...           IN     India   \n",
       "3  to purchase an embroidery machine and a variet...           PK  Pakistan   \n",
       "4                           to purchase one buffalo.           PK  Pakistan   \n",
       "\n",
       "         region currency  partner_id                posted_time  \\\n",
       "0        Lahore      PKR       247.0  2014-01-01 06:12:39+00:00   \n",
       "1        Lahore      PKR       247.0  2014-01-01 06:51:08+00:00   \n",
       "2     Maynaguri      INR       334.0  2014-01-01 09:58:07+00:00   \n",
       "3        Lahore      PKR       247.0  2014-01-01 08:03:11+00:00   \n",
       "4  Abdul Hakeem      PKR       245.0  2014-01-01 11:53:19+00:00   \n",
       "\n",
       "              disbursed_time                funded_time  term_in_months  \\\n",
       "0  2013-12-17 08:00:00+00:00  2014-01-02 10:06:32+00:00            12.0   \n",
       "1  2013-12-17 08:00:00+00:00  2014-01-02 09:17:23+00:00            11.0   \n",
       "2  2013-12-17 08:00:00+00:00  2014-01-01 16:01:36+00:00            43.0   \n",
       "3  2013-12-24 08:00:00+00:00  2014-01-01 13:00:00+00:00            11.0   \n",
       "4  2013-12-17 08:00:00+00:00  2014-01-01 19:18:51+00:00            14.0   \n",
       "\n",
       "   lender_count                          tags borrower_genders  \\\n",
       "0            12                           NaN           female   \n",
       "1            14                           NaN   female, female   \n",
       "2             6  user_favorite, user_favorite           female   \n",
       "3             8                           NaN           female   \n",
       "4            16                           NaN           female   \n",
       "\n",
       "  repayment_interval        date  \n",
       "0          irregular  2014-01-01  \n",
       "1          irregular  2014-01-01  \n",
       "2             bullet  2014-01-01  \n",
       "3          irregular  2014-01-01  \n",
       "4            monthly  2014-01-01  "
      ]
     },
     "execution_count": 5,
     "metadata": {},
     "output_type": "execute_result"
    }
   ],
   "source": [
    "#check the head of df\n",
    "df.head()"
   ]
  },
  {
   "cell_type": "code",
   "execution_count": 6,
   "metadata": {},
   "outputs": [
    {
     "data": {
      "text/html": [
       "<div>\n",
       "<style scoped>\n",
       "    .dataframe tbody tr th:only-of-type {\n",
       "        vertical-align: middle;\n",
       "    }\n",
       "\n",
       "    .dataframe tbody tr th {\n",
       "        vertical-align: top;\n",
       "    }\n",
       "\n",
       "    .dataframe thead th {\n",
       "        text-align: right;\n",
       "    }\n",
       "</style>\n",
       "<table border=\"1\" class=\"dataframe\">\n",
       "  <thead>\n",
       "    <tr style=\"text-align: right;\">\n",
       "      <th></th>\n",
       "      <th>id</th>\n",
       "      <th>funded_amount</th>\n",
       "      <th>loan_amount</th>\n",
       "      <th>partner_id</th>\n",
       "      <th>term_in_months</th>\n",
       "      <th>lender_count</th>\n",
       "    </tr>\n",
       "  </thead>\n",
       "  <tbody>\n",
       "    <tr>\n",
       "      <th>count</th>\n",
       "      <td>6.712050e+05</td>\n",
       "      <td>671205.000000</td>\n",
       "      <td>671205.000000</td>\n",
       "      <td>657698.000000</td>\n",
       "      <td>671205.000000</td>\n",
       "      <td>671205.000000</td>\n",
       "    </tr>\n",
       "    <tr>\n",
       "      <th>mean</th>\n",
       "      <td>9.932486e+05</td>\n",
       "      <td>785.995061</td>\n",
       "      <td>842.397107</td>\n",
       "      <td>178.199616</td>\n",
       "      <td>13.739022</td>\n",
       "      <td>20.590922</td>\n",
       "    </tr>\n",
       "    <tr>\n",
       "      <th>std</th>\n",
       "      <td>1.966113e+05</td>\n",
       "      <td>1130.398941</td>\n",
       "      <td>1198.660073</td>\n",
       "      <td>94.247581</td>\n",
       "      <td>8.598919</td>\n",
       "      <td>28.459551</td>\n",
       "    </tr>\n",
       "    <tr>\n",
       "      <th>min</th>\n",
       "      <td>6.530470e+05</td>\n",
       "      <td>0.000000</td>\n",
       "      <td>25.000000</td>\n",
       "      <td>9.000000</td>\n",
       "      <td>1.000000</td>\n",
       "      <td>0.000000</td>\n",
       "    </tr>\n",
       "    <tr>\n",
       "      <th>25%</th>\n",
       "      <td>8.230720e+05</td>\n",
       "      <td>250.000000</td>\n",
       "      <td>275.000000</td>\n",
       "      <td>126.000000</td>\n",
       "      <td>8.000000</td>\n",
       "      <td>7.000000</td>\n",
       "    </tr>\n",
       "    <tr>\n",
       "      <th>50%</th>\n",
       "      <td>9.927800e+05</td>\n",
       "      <td>450.000000</td>\n",
       "      <td>500.000000</td>\n",
       "      <td>145.000000</td>\n",
       "      <td>13.000000</td>\n",
       "      <td>13.000000</td>\n",
       "    </tr>\n",
       "    <tr>\n",
       "      <th>75%</th>\n",
       "      <td>1.163653e+06</td>\n",
       "      <td>900.000000</td>\n",
       "      <td>1000.000000</td>\n",
       "      <td>204.000000</td>\n",
       "      <td>14.000000</td>\n",
       "      <td>24.000000</td>\n",
       "    </tr>\n",
       "    <tr>\n",
       "      <th>max</th>\n",
       "      <td>1.340339e+06</td>\n",
       "      <td>100000.000000</td>\n",
       "      <td>100000.000000</td>\n",
       "      <td>536.000000</td>\n",
       "      <td>158.000000</td>\n",
       "      <td>2986.000000</td>\n",
       "    </tr>\n",
       "  </tbody>\n",
       "</table>\n",
       "</div>"
      ],
      "text/plain": [
       "                 id  funded_amount    loan_amount     partner_id  \\\n",
       "count  6.712050e+05  671205.000000  671205.000000  657698.000000   \n",
       "mean   9.932486e+05     785.995061     842.397107     178.199616   \n",
       "std    1.966113e+05    1130.398941    1198.660073      94.247581   \n",
       "min    6.530470e+05       0.000000      25.000000       9.000000   \n",
       "25%    8.230720e+05     250.000000     275.000000     126.000000   \n",
       "50%    9.927800e+05     450.000000     500.000000     145.000000   \n",
       "75%    1.163653e+06     900.000000    1000.000000     204.000000   \n",
       "max    1.340339e+06  100000.000000  100000.000000     536.000000   \n",
       "\n",
       "       term_in_months   lender_count  \n",
       "count   671205.000000  671205.000000  \n",
       "mean        13.739022      20.590922  \n",
       "std          8.598919      28.459551  \n",
       "min          1.000000       0.000000  \n",
       "25%          8.000000       7.000000  \n",
       "50%         13.000000      13.000000  \n",
       "75%         14.000000      24.000000  \n",
       "max        158.000000    2986.000000  "
      ]
     },
     "execution_count": 6,
     "metadata": {},
     "output_type": "execute_result"
    }
   ],
   "source": [
    "#check the summary of the data\n",
    "df.describe()"
   ]
  },
  {
   "cell_type": "code",
   "execution_count": 7,
   "metadata": {},
   "outputs": [
    {
     "name": "stdout",
     "output_type": "stream",
     "text": [
      "<class 'pandas.core.frame.DataFrame'>\n",
      "RangeIndex: 671205 entries, 0 to 671204\n",
      "Data columns (total 20 columns):\n",
      " #   Column              Non-Null Count   Dtype  \n",
      "---  ------              --------------   -----  \n",
      " 0   id                  671205 non-null  int64  \n",
      " 1   funded_amount       671205 non-null  float64\n",
      " 2   loan_amount         671205 non-null  float64\n",
      " 3   activity            671205 non-null  object \n",
      " 4   sector              671205 non-null  object \n",
      " 5   use                 666973 non-null  object \n",
      " 6   country_code        671197 non-null  object \n",
      " 7   country             671205 non-null  object \n",
      " 8   region              614405 non-null  object \n",
      " 9   currency            671205 non-null  object \n",
      " 10  partner_id          657698 non-null  float64\n",
      " 11  posted_time         671205 non-null  object \n",
      " 12  disbursed_time      668809 non-null  object \n",
      " 13  funded_time         622874 non-null  object \n",
      " 14  term_in_months      671205 non-null  float64\n",
      " 15  lender_count        671205 non-null  int64  \n",
      " 16  tags                499789 non-null  object \n",
      " 17  borrower_genders    666984 non-null  object \n",
      " 18  repayment_interval  671205 non-null  object \n",
      " 19  date                671205 non-null  object \n",
      "dtypes: float64(4), int64(2), object(14)\n",
      "memory usage: 102.4+ MB\n"
     ]
    }
   ],
   "source": [
    "# Check the info of the data\n",
    "df.info()"
   ]
  },
  {
   "cell_type": "code",
   "execution_count": 8,
   "metadata": {},
   "outputs": [
    {
     "name": "stdout",
     "output_type": "stream",
     "text": [
      "<class 'pandas.core.frame.DataFrame'>\n",
      "Index: 423081 entries, 2 to 671141\n",
      "Data columns (total 20 columns):\n",
      " #   Column              Non-Null Count   Dtype  \n",
      "---  ------              --------------   -----  \n",
      " 0   id                  423081 non-null  int64  \n",
      " 1   funded_amount       423081 non-null  float64\n",
      " 2   loan_amount         423081 non-null  float64\n",
      " 3   activity            423081 non-null  object \n",
      " 4   sector              423081 non-null  object \n",
      " 5   use                 423081 non-null  object \n",
      " 6   country_code        423081 non-null  object \n",
      " 7   country             423081 non-null  object \n",
      " 8   region              423081 non-null  object \n",
      " 9   currency            423081 non-null  object \n",
      " 10  partner_id          423081 non-null  float64\n",
      " 11  posted_time         423081 non-null  object \n",
      " 12  disbursed_time      423081 non-null  object \n",
      " 13  funded_time         423081 non-null  object \n",
      " 14  term_in_months      423081 non-null  float64\n",
      " 15  lender_count        423081 non-null  int64  \n",
      " 16  tags                423081 non-null  object \n",
      " 17  borrower_genders    423081 non-null  object \n",
      " 18  repayment_interval  423081 non-null  object \n",
      " 19  date                423081 non-null  object \n",
      "dtypes: float64(4), int64(2), object(14)\n",
      "memory usage: 67.8+ MB\n"
     ]
    }
   ],
   "source": [
    "# Drop all the null values\n",
    "# and save the new datafarame in df_dropped\n",
    "# check the info of the dropped dated\n",
    "df_dropped = df.dropna()\n",
    "df_dropped.info()"
   ]
  },
  {
   "cell_type": "code",
   "execution_count": 9,
   "metadata": {},
   "outputs": [
    {
     "data": {
      "text/plain": [
       "248124"
      ]
     },
     "execution_count": 9,
     "metadata": {},
     "output_type": "execute_result"
    }
   ],
   "source": [
    "# How many records have been lost as a result\n",
    "# of dropping all the null values\n",
    "671205 - 423081 # 248,124 records lost"
   ]
  },
  {
   "cell_type": "code",
   "execution_count": 10,
   "metadata": {},
   "outputs": [
    {
     "data": {
      "text/plain": [
       "id                    False\n",
       "funded_amount         False\n",
       "loan_amount           False\n",
       "activity              False\n",
       "sector                False\n",
       "use                    True\n",
       "country_code           True\n",
       "country               False\n",
       "region                 True\n",
       "currency              False\n",
       "partner_id             True\n",
       "posted_time           False\n",
       "disbursed_time         True\n",
       "funded_time            True\n",
       "term_in_months        False\n",
       "lender_count          False\n",
       "tags                   True\n",
       "borrower_genders       True\n",
       "repayment_interval    False\n",
       "date                  False\n",
       "dtype: bool"
      ]
     },
     "execution_count": 10,
     "metadata": {},
     "output_type": "execute_result"
    }
   ],
   "source": [
    "# check for any null values\n",
    "df.isnull().any()"
   ]
  },
  {
   "cell_type": "code",
   "execution_count": 11,
   "metadata": {},
   "outputs": [
    {
     "name": "stderr",
     "output_type": "stream",
     "text": [
      "/tmp/ipykernel_9405/538684795.py:2: FutureWarning: A value is trying to be set on a copy of a DataFrame or Series through chained assignment using an inplace method.\n",
      "The behavior will change in pandas 3.0. This inplace method will never work because the intermediate object on which we are setting values always behaves as a copy.\n",
      "\n",
      "For example, when doing 'df[col].method(value, inplace=True)', try using 'df.method({col: value}, inplace=True)' or df[col] = df[col].method(value) instead, to perform the operation inplace on the original object.\n",
      "\n",
      "\n",
      "  df['use'].fillna(\"RECORD_UNKNOWN\",inplace=True)\n"
     ]
    }
   ],
   "source": [
    "# Filling USE with RECORD UNKNOWN\n",
    "df['use'].fillna(\"RECORD_UNKNOWN\",inplace=True)"
   ]
  },
  {
   "cell_type": "code",
   "execution_count": 12,
   "metadata": {},
   "outputs": [
    {
     "data": {
      "text/html": [
       "<div>\n",
       "<style scoped>\n",
       "    .dataframe tbody tr th:only-of-type {\n",
       "        vertical-align: middle;\n",
       "    }\n",
       "\n",
       "    .dataframe tbody tr th {\n",
       "        vertical-align: top;\n",
       "    }\n",
       "\n",
       "    .dataframe thead th {\n",
       "        text-align: right;\n",
       "    }\n",
       "</style>\n",
       "<table border=\"1\" class=\"dataframe\">\n",
       "  <thead>\n",
       "    <tr style=\"text-align: right;\">\n",
       "      <th></th>\n",
       "      <th>use</th>\n",
       "    </tr>\n",
       "  </thead>\n",
       "  <tbody>\n",
       "    <tr>\n",
       "      <th>0</th>\n",
       "      <td>To buy seasonal, fresh fruits to sell.</td>\n",
       "    </tr>\n",
       "    <tr>\n",
       "      <th>1</th>\n",
       "      <td>to repair and maintain the auto rickshaw used ...</td>\n",
       "    </tr>\n",
       "    <tr>\n",
       "      <th>2</th>\n",
       "      <td>To repair their old cycle-van and buy another ...</td>\n",
       "    </tr>\n",
       "    <tr>\n",
       "      <th>3</th>\n",
       "      <td>to purchase an embroidery machine and a variet...</td>\n",
       "    </tr>\n",
       "    <tr>\n",
       "      <th>4</th>\n",
       "      <td>to purchase one buffalo.</td>\n",
       "    </tr>\n",
       "    <tr>\n",
       "      <th>...</th>\n",
       "      <td>...</td>\n",
       "    </tr>\n",
       "    <tr>\n",
       "      <th>671200</th>\n",
       "      <td>[True, u'para compara: cemento, arenya y ladri...</td>\n",
       "    </tr>\n",
       "    <tr>\n",
       "      <th>671201</th>\n",
       "      <td>[True, u'to start a turducken farm.'] - this l...</td>\n",
       "    </tr>\n",
       "    <tr>\n",
       "      <th>671202</th>\n",
       "      <td>RECORD_UNKNOWN</td>\n",
       "    </tr>\n",
       "    <tr>\n",
       "      <th>671203</th>\n",
       "      <td>[True, u'to start a turducken farm.'] - this l...</td>\n",
       "    </tr>\n",
       "    <tr>\n",
       "      <th>671204</th>\n",
       "      <td>[True, u'to start a turducken farm.'] - this l...</td>\n",
       "    </tr>\n",
       "  </tbody>\n",
       "</table>\n",
       "<p>671205 rows × 1 columns</p>\n",
       "</div>"
      ],
      "text/plain": [
       "                                                      use\n",
       "0                 To buy seasonal, fresh fruits to sell. \n",
       "1       to repair and maintain the auto rickshaw used ...\n",
       "2       To repair their old cycle-van and buy another ...\n",
       "3       to purchase an embroidery machine and a variet...\n",
       "4                                to purchase one buffalo.\n",
       "...                                                   ...\n",
       "671200  [True, u'para compara: cemento, arenya y ladri...\n",
       "671201  [True, u'to start a turducken farm.'] - this l...\n",
       "671202                                     RECORD_UNKNOWN\n",
       "671203  [True, u'to start a turducken farm.'] - this l...\n",
       "671204  [True, u'to start a turducken farm.'] - this l...\n",
       "\n",
       "[671205 rows x 1 columns]"
      ]
     },
     "execution_count": 12,
     "metadata": {},
     "output_type": "execute_result"
    }
   ],
   "source": [
    "# Display the use column as a dataframe\n",
    "df[['use']]"
   ]
  },
  {
   "cell_type": "code",
   "execution_count": 13,
   "metadata": {},
   "outputs": [
    {
     "name": "stderr",
     "output_type": "stream",
     "text": [
      "/tmp/ipykernel_9405/499086249.py:2: FutureWarning: A value is trying to be set on a copy of a DataFrame or Series through chained assignment using an inplace method.\n",
      "The behavior will change in pandas 3.0. This inplace method will never work because the intermediate object on which we are setting values always behaves as a copy.\n",
      "\n",
      "For example, when doing 'df[col].method(value, inplace=True)', try using 'df.method({col: value}, inplace=True)' or df[col] = df[col].method(value) instead, to perform the operation inplace on the original object.\n",
      "\n",
      "\n",
      "  df['region'].fillna(\"Unknown_Region\",inplace=True)\n"
     ]
    }
   ],
   "source": [
    "# Filling region with Unknown_Region\n",
    "df['region'].fillna(\"Unknown_Region\",inplace=True)"
   ]
  },
  {
   "cell_type": "code",
   "execution_count": 14,
   "metadata": {},
   "outputs": [
    {
     "data": {
      "text/html": [
       "<div>\n",
       "<style scoped>\n",
       "    .dataframe tbody tr th:only-of-type {\n",
       "        vertical-align: middle;\n",
       "    }\n",
       "\n",
       "    .dataframe tbody tr th {\n",
       "        vertical-align: top;\n",
       "    }\n",
       "\n",
       "    .dataframe thead th {\n",
       "        text-align: right;\n",
       "    }\n",
       "</style>\n",
       "<table border=\"1\" class=\"dataframe\">\n",
       "  <thead>\n",
       "    <tr style=\"text-align: right;\">\n",
       "      <th></th>\n",
       "      <th>region</th>\n",
       "    </tr>\n",
       "  </thead>\n",
       "  <tbody>\n",
       "    <tr>\n",
       "      <th>0</th>\n",
       "      <td>Lahore</td>\n",
       "    </tr>\n",
       "    <tr>\n",
       "      <th>1</th>\n",
       "      <td>Lahore</td>\n",
       "    </tr>\n",
       "    <tr>\n",
       "      <th>2</th>\n",
       "      <td>Maynaguri</td>\n",
       "    </tr>\n",
       "    <tr>\n",
       "      <th>3</th>\n",
       "      <td>Lahore</td>\n",
       "    </tr>\n",
       "    <tr>\n",
       "      <th>4</th>\n",
       "      <td>Abdul Hakeem</td>\n",
       "    </tr>\n",
       "    <tr>\n",
       "      <th>...</th>\n",
       "      <td>...</td>\n",
       "    </tr>\n",
       "    <tr>\n",
       "      <th>671200</th>\n",
       "      <td>Concepción</td>\n",
       "    </tr>\n",
       "    <tr>\n",
       "      <th>671201</th>\n",
       "      <td>Unknown_Region</td>\n",
       "    </tr>\n",
       "    <tr>\n",
       "      <th>671202</th>\n",
       "      <td>Unknown_Region</td>\n",
       "    </tr>\n",
       "    <tr>\n",
       "      <th>671203</th>\n",
       "      <td>Unknown_Region</td>\n",
       "    </tr>\n",
       "    <tr>\n",
       "      <th>671204</th>\n",
       "      <td>Unknown_Region</td>\n",
       "    </tr>\n",
       "  </tbody>\n",
       "</table>\n",
       "<p>671205 rows × 1 columns</p>\n",
       "</div>"
      ],
      "text/plain": [
       "                region\n",
       "0               Lahore\n",
       "1               Lahore\n",
       "2            Maynaguri\n",
       "3               Lahore\n",
       "4         Abdul Hakeem\n",
       "...                ...\n",
       "671200      Concepción\n",
       "671201  Unknown_Region\n",
       "671202  Unknown_Region\n",
       "671203  Unknown_Region\n",
       "671204  Unknown_Region\n",
       "\n",
       "[671205 rows x 1 columns]"
      ]
     },
     "execution_count": 14,
     "metadata": {},
     "output_type": "execute_result"
    }
   ],
   "source": [
    "# Display the region column as a dataframe\n",
    "df[['region']]"
   ]
  },
  {
   "cell_type": "code",
   "execution_count": 15,
   "metadata": {},
   "outputs": [
    {
     "data": {
      "text/html": [
       "<div>\n",
       "<style scoped>\n",
       "    .dataframe tbody tr th:only-of-type {\n",
       "        vertical-align: middle;\n",
       "    }\n",
       "\n",
       "    .dataframe tbody tr th {\n",
       "        vertical-align: top;\n",
       "    }\n",
       "\n",
       "    .dataframe thead th {\n",
       "        text-align: right;\n",
       "    }\n",
       "</style>\n",
       "<table border=\"1\" class=\"dataframe\">\n",
       "  <thead>\n",
       "    <tr style=\"text-align: right;\">\n",
       "      <th></th>\n",
       "      <th>id</th>\n",
       "      <th>funded_amount</th>\n",
       "      <th>loan_amount</th>\n",
       "      <th>activity</th>\n",
       "      <th>sector</th>\n",
       "      <th>use</th>\n",
       "      <th>country_code</th>\n",
       "      <th>country</th>\n",
       "      <th>region</th>\n",
       "      <th>currency</th>\n",
       "      <th>...</th>\n",
       "      <th>posted_time</th>\n",
       "      <th>disbursed_time</th>\n",
       "      <th>funded_time</th>\n",
       "      <th>term_in_months</th>\n",
       "      <th>lender_count</th>\n",
       "      <th>tags</th>\n",
       "      <th>borrower_genders</th>\n",
       "      <th>repayment_interval</th>\n",
       "      <th>date</th>\n",
       "      <th>year</th>\n",
       "    </tr>\n",
       "  </thead>\n",
       "  <tbody>\n",
       "    <tr>\n",
       "      <th>0</th>\n",
       "      <td>653051</td>\n",
       "      <td>300.0</td>\n",
       "      <td>300.0</td>\n",
       "      <td>Fruits &amp; Vegetables</td>\n",
       "      <td>Food</td>\n",
       "      <td>To buy seasonal, fresh fruits to sell.</td>\n",
       "      <td>PK</td>\n",
       "      <td>Pakistan</td>\n",
       "      <td>Lahore</td>\n",
       "      <td>PKR</td>\n",
       "      <td>...</td>\n",
       "      <td>2014-01-01 06:12:39+00:00</td>\n",
       "      <td>2013-12-17 08:00:00+00:00</td>\n",
       "      <td>2014-01-02 10:06:32+00:00</td>\n",
       "      <td>12.0</td>\n",
       "      <td>12</td>\n",
       "      <td>NaN</td>\n",
       "      <td>female</td>\n",
       "      <td>irregular</td>\n",
       "      <td>2014-01-01</td>\n",
       "      <td>2014</td>\n",
       "    </tr>\n",
       "  </tbody>\n",
       "</table>\n",
       "<p>1 rows × 21 columns</p>\n",
       "</div>"
      ],
      "text/plain": [
       "       id  funded_amount  loan_amount             activity sector  \\\n",
       "0  653051          300.0        300.0  Fruits & Vegetables   Food   \n",
       "\n",
       "                                       use country_code   country  region  \\\n",
       "0  To buy seasonal, fresh fruits to sell.            PK  Pakistan  Lahore   \n",
       "\n",
       "  currency  ...                posted_time             disbursed_time  \\\n",
       "0      PKR  ...  2014-01-01 06:12:39+00:00  2013-12-17 08:00:00+00:00   \n",
       "\n",
       "                 funded_time term_in_months  lender_count  tags  \\\n",
       "0  2014-01-02 10:06:32+00:00           12.0            12   NaN   \n",
       "\n",
       "  borrower_genders repayment_interval        date  year  \n",
       "0           female          irregular  2014-01-01  2014  \n",
       "\n",
       "[1 rows x 21 columns]"
      ]
     },
     "execution_count": 15,
     "metadata": {},
     "output_type": "execute_result"
    }
   ],
   "source": [
    "# Create a New column that contains the year from the data column\n",
    "def create_year(x):\n",
    "    year = pd.DatetimeIndex(x).year \n",
    "    return year\n",
    "\n",
    "df['year'] = create_year(df['date'])\n",
    "df.head(1)"
   ]
  },
  {
   "cell_type": "code",
   "execution_count": 16,
   "metadata": {},
   "outputs": [
    {
     "data": {
      "text/html": [
       "<div>\n",
       "<style scoped>\n",
       "    .dataframe tbody tr th:only-of-type {\n",
       "        vertical-align: middle;\n",
       "    }\n",
       "\n",
       "    .dataframe tbody tr th {\n",
       "        vertical-align: top;\n",
       "    }\n",
       "\n",
       "    .dataframe thead th {\n",
       "        text-align: right;\n",
       "    }\n",
       "</style>\n",
       "<table border=\"1\" class=\"dataframe\">\n",
       "  <thead>\n",
       "    <tr style=\"text-align: right;\">\n",
       "      <th></th>\n",
       "      <th>id</th>\n",
       "      <th>funded_amount</th>\n",
       "      <th>loan_amount</th>\n",
       "      <th>activity</th>\n",
       "      <th>sector</th>\n",
       "      <th>use</th>\n",
       "      <th>country_code</th>\n",
       "      <th>country</th>\n",
       "      <th>region</th>\n",
       "      <th>currency</th>\n",
       "      <th>...</th>\n",
       "      <th>disbursed_time</th>\n",
       "      <th>funded_time</th>\n",
       "      <th>term_in_months</th>\n",
       "      <th>lender_count</th>\n",
       "      <th>tags</th>\n",
       "      <th>borrower_genders</th>\n",
       "      <th>repayment_interval</th>\n",
       "      <th>date</th>\n",
       "      <th>year</th>\n",
       "      <th>month</th>\n",
       "    </tr>\n",
       "  </thead>\n",
       "  <tbody>\n",
       "    <tr>\n",
       "      <th>0</th>\n",
       "      <td>653051</td>\n",
       "      <td>300.0</td>\n",
       "      <td>300.0</td>\n",
       "      <td>Fruits &amp; Vegetables</td>\n",
       "      <td>Food</td>\n",
       "      <td>To buy seasonal, fresh fruits to sell.</td>\n",
       "      <td>PK</td>\n",
       "      <td>Pakistan</td>\n",
       "      <td>Lahore</td>\n",
       "      <td>PKR</td>\n",
       "      <td>...</td>\n",
       "      <td>2013-12-17 08:00:00+00:00</td>\n",
       "      <td>2014-01-02 10:06:32+00:00</td>\n",
       "      <td>12.0</td>\n",
       "      <td>12</td>\n",
       "      <td>NaN</td>\n",
       "      <td>female</td>\n",
       "      <td>irregular</td>\n",
       "      <td>2014-01-01</td>\n",
       "      <td>2014</td>\n",
       "      <td>January</td>\n",
       "    </tr>\n",
       "  </tbody>\n",
       "</table>\n",
       "<p>1 rows × 22 columns</p>\n",
       "</div>"
      ],
      "text/plain": [
       "       id  funded_amount  loan_amount             activity sector  \\\n",
       "0  653051          300.0        300.0  Fruits & Vegetables   Food   \n",
       "\n",
       "                                       use country_code   country  region  \\\n",
       "0  To buy seasonal, fresh fruits to sell.            PK  Pakistan  Lahore   \n",
       "\n",
       "  currency  ...             disbursed_time                funded_time  \\\n",
       "0      PKR  ...  2013-12-17 08:00:00+00:00  2014-01-02 10:06:32+00:00   \n",
       "\n",
       "  term_in_months lender_count  tags  borrower_genders repayment_interval  \\\n",
       "0           12.0           12   NaN            female          irregular   \n",
       "\n",
       "         date  year    month  \n",
       "0  2014-01-01  2014  January  \n",
       "\n",
       "[1 rows x 22 columns]"
      ]
     },
     "execution_count": 16,
     "metadata": {},
     "output_type": "execute_result"
    }
   ],
   "source": [
    "# Create a New column that contains the month from the data column\n",
    "def create_month(x):\n",
    "    month = pd.DatetimeIndex(x).month_name() \n",
    "    return month\n",
    "\n",
    "df['month'] = create_month(df['date'])\n",
    "df.head(1)"
   ]
  },
  {
   "cell_type": "code",
   "execution_count": 17,
   "metadata": {},
   "outputs": [
    {
     "data": {
      "text/html": [
       "<div>\n",
       "<style scoped>\n",
       "    .dataframe tbody tr th:only-of-type {\n",
       "        vertical-align: middle;\n",
       "    }\n",
       "\n",
       "    .dataframe tbody tr th {\n",
       "        vertical-align: top;\n",
       "    }\n",
       "\n",
       "    .dataframe thead th {\n",
       "        text-align: right;\n",
       "    }\n",
       "</style>\n",
       "<table border=\"1\" class=\"dataframe\">\n",
       "  <thead>\n",
       "    <tr style=\"text-align: right;\">\n",
       "      <th></th>\n",
       "      <th>id</th>\n",
       "      <th>funded_amount</th>\n",
       "      <th>loan_amount</th>\n",
       "      <th>activity</th>\n",
       "      <th>sector</th>\n",
       "      <th>use</th>\n",
       "      <th>country_code</th>\n",
       "      <th>country</th>\n",
       "      <th>region</th>\n",
       "      <th>currency</th>\n",
       "      <th>...</th>\n",
       "      <th>funded_time</th>\n",
       "      <th>term_in_months</th>\n",
       "      <th>lender_count</th>\n",
       "      <th>tags</th>\n",
       "      <th>borrower_genders</th>\n",
       "      <th>repayment_interval</th>\n",
       "      <th>date</th>\n",
       "      <th>year</th>\n",
       "      <th>month</th>\n",
       "      <th>day</th>\n",
       "    </tr>\n",
       "  </thead>\n",
       "  <tbody>\n",
       "    <tr>\n",
       "      <th>0</th>\n",
       "      <td>653051</td>\n",
       "      <td>300.0</td>\n",
       "      <td>300.0</td>\n",
       "      <td>Fruits &amp; Vegetables</td>\n",
       "      <td>Food</td>\n",
       "      <td>To buy seasonal, fresh fruits to sell.</td>\n",
       "      <td>PK</td>\n",
       "      <td>Pakistan</td>\n",
       "      <td>Lahore</td>\n",
       "      <td>PKR</td>\n",
       "      <td>...</td>\n",
       "      <td>2014-01-02 10:06:32+00:00</td>\n",
       "      <td>12.0</td>\n",
       "      <td>12</td>\n",
       "      <td>NaN</td>\n",
       "      <td>female</td>\n",
       "      <td>irregular</td>\n",
       "      <td>2014-01-01</td>\n",
       "      <td>2014</td>\n",
       "      <td>January</td>\n",
       "      <td>Wednesday</td>\n",
       "    </tr>\n",
       "  </tbody>\n",
       "</table>\n",
       "<p>1 rows × 23 columns</p>\n",
       "</div>"
      ],
      "text/plain": [
       "       id  funded_amount  loan_amount             activity sector  \\\n",
       "0  653051          300.0        300.0  Fruits & Vegetables   Food   \n",
       "\n",
       "                                       use country_code   country  region  \\\n",
       "0  To buy seasonal, fresh fruits to sell.            PK  Pakistan  Lahore   \n",
       "\n",
       "  currency  ...                funded_time term_in_months lender_count tags  \\\n",
       "0      PKR  ...  2014-01-02 10:06:32+00:00           12.0           12  NaN   \n",
       "\n",
       "   borrower_genders  repayment_interval        date  year    month        day  \n",
       "0            female           irregular  2014-01-01  2014  January  Wednesday  \n",
       "\n",
       "[1 rows x 23 columns]"
      ]
     },
     "execution_count": 17,
     "metadata": {},
     "output_type": "execute_result"
    }
   ],
   "source": [
    "# Create a New column that contains the day from the data column\n",
    "\n",
    "def create_day(x):\n",
    "    day = pd.DatetimeIndex(x).day_name() \n",
    "    return day\n",
    "\n",
    "df['day'] = create_day(df['date'])\n",
    "df.head(1)"
   ]
  },
  {
   "cell_type": "code",
   "execution_count": 18,
   "metadata": {},
   "outputs": [
    {
     "data": {
      "text/html": [
       "<div>\n",
       "<style scoped>\n",
       "    .dataframe tbody tr th:only-of-type {\n",
       "        vertical-align: middle;\n",
       "    }\n",
       "\n",
       "    .dataframe tbody tr th {\n",
       "        vertical-align: top;\n",
       "    }\n",
       "\n",
       "    .dataframe thead th {\n",
       "        text-align: right;\n",
       "    }\n",
       "</style>\n",
       "<table border=\"1\" class=\"dataframe\">\n",
       "  <thead>\n",
       "    <tr style=\"text-align: right;\">\n",
       "      <th></th>\n",
       "      <th>country</th>\n",
       "      <th>loan_amount</th>\n",
       "    </tr>\n",
       "  </thead>\n",
       "  <tbody>\n",
       "    <tr>\n",
       "      <th>0</th>\n",
       "      <td>Philippines</td>\n",
       "      <td>55342225.0</td>\n",
       "    </tr>\n",
       "    <tr>\n",
       "      <th>1</th>\n",
       "      <td>Kenya</td>\n",
       "      <td>34534300.0</td>\n",
       "    </tr>\n",
       "    <tr>\n",
       "      <th>2</th>\n",
       "      <td>United States</td>\n",
       "      <td>31496375.0</td>\n",
       "    </tr>\n",
       "    <tr>\n",
       "      <th>3</th>\n",
       "      <td>Peru</td>\n",
       "      <td>30867400.0</td>\n",
       "    </tr>\n",
       "    <tr>\n",
       "      <th>4</th>\n",
       "      <td>Paraguay</td>\n",
       "      <td>29629075.0</td>\n",
       "    </tr>\n",
       "  </tbody>\n",
       "</table>\n",
       "</div>"
      ],
      "text/plain": [
       "         country  loan_amount\n",
       "0    Philippines   55342225.0\n",
       "1          Kenya   34534300.0\n",
       "2  United States   31496375.0\n",
       "3           Peru   30867400.0\n",
       "4       Paraguay   29629075.0"
      ]
     },
     "execution_count": 18,
     "metadata": {},
     "output_type": "execute_result"
    }
   ],
   "source": [
    "# Create a dataframe called top_nations that contains the top nation by loan_amount\n",
    "top_nations = df.groupby('country')['loan_amount'].sum().\\\n",
    "sort_values(ascending=False).reset_index()\n",
    "top_nations.head()"
   ]
  },
  {
   "cell_type": "code",
   "execution_count": 19,
   "metadata": {},
   "outputs": [
    {
     "data": {
      "text/plain": [
       "array(['Pakistan', 'India', 'Kenya', 'Nicaragua', 'El Salvador',\n",
       "       'Tanzania', 'Philippines', 'Peru', 'Senegal', 'Cambodia',\n",
       "       'Liberia', 'Vietnam', 'Iraq', 'Honduras', 'Palestine', 'Mongolia',\n",
       "       'United States', 'Mali', 'Colombia', 'Tajikistan', 'Guatemala',\n",
       "       'Ecuador', 'Bolivia', 'Yemen', 'Ghana', 'Sierra Leone', 'Haiti',\n",
       "       'Chile', 'Jordan', 'Uganda', 'Burundi', 'Burkina Faso',\n",
       "       'Timor-Leste', 'Indonesia', 'Georgia', 'Ukraine', 'Kosovo',\n",
       "       'Albania', 'The Democratic Republic of the Congo', 'Costa Rica',\n",
       "       'Somalia', 'Zimbabwe', 'Cameroon', 'Turkey', 'Azerbaijan',\n",
       "       'Dominican Republic', 'Brazil', 'Mexico', 'Kyrgyzstan', 'Armenia',\n",
       "       'Paraguay', 'Lebanon', 'Samoa', 'Israel', 'Rwanda', 'Zambia',\n",
       "       'Nepal', 'Congo', 'Mozambique', 'South Africa', 'Togo', 'Benin',\n",
       "       'Belize', 'Suriname', 'Thailand', 'Nigeria', 'Mauritania',\n",
       "       'Vanuatu', 'Panama', 'Virgin Islands',\n",
       "       'Saint Vincent and the Grenadines',\n",
       "       \"Lao People's Democratic Republic\", 'Malawi', 'Myanmar (Burma)',\n",
       "       'Moldova', 'South Sudan', 'Solomon Islands', 'China', 'Egypt',\n",
       "       'Guam', 'Afghanistan', 'Madagascar', 'Namibia', 'Puerto Rico',\n",
       "       'Lesotho', \"Cote D'Ivoire\", 'Bhutan'], dtype=object)"
      ]
     },
     "execution_count": 19,
     "metadata": {},
     "output_type": "execute_result"
    }
   ],
   "source": [
    "# Print the unique country names\n",
    "df['country'].unique()"
   ]
  },
  {
   "cell_type": "code",
   "execution_count": 20,
   "metadata": {},
   "outputs": [
    {
     "data": {
      "text/plain": [
       "87"
      ]
     },
     "execution_count": 20,
     "metadata": {},
     "output_type": "execute_result"
    }
   ],
   "source": [
    "# How many unique countries are there\n",
    "df['country'].nunique()"
   ]
  },
  {
   "cell_type": "code",
   "execution_count": 21,
   "metadata": {},
   "outputs": [
    {
     "data": {
      "text/html": [
       "<div>\n",
       "<style scoped>\n",
       "    .dataframe tbody tr th:only-of-type {\n",
       "        vertical-align: middle;\n",
       "    }\n",
       "\n",
       "    .dataframe tbody tr th {\n",
       "        vertical-align: top;\n",
       "    }\n",
       "\n",
       "    .dataframe thead th {\n",
       "        text-align: right;\n",
       "    }\n",
       "</style>\n",
       "<table border=\"1\" class=\"dataframe\">\n",
       "  <thead>\n",
       "    <tr style=\"text-align: right;\">\n",
       "      <th></th>\n",
       "      <th>sector</th>\n",
       "      <th>id</th>\n",
       "    </tr>\n",
       "  </thead>\n",
       "  <tbody>\n",
       "    <tr>\n",
       "      <th>0</th>\n",
       "      <td>Agriculture</td>\n",
       "      <td>180302</td>\n",
       "    </tr>\n",
       "    <tr>\n",
       "      <th>1</th>\n",
       "      <td>Food</td>\n",
       "      <td>136657</td>\n",
       "    </tr>\n",
       "    <tr>\n",
       "      <th>2</th>\n",
       "      <td>Retail</td>\n",
       "      <td>124494</td>\n",
       "    </tr>\n",
       "    <tr>\n",
       "      <th>3</th>\n",
       "      <td>Services</td>\n",
       "      <td>45140</td>\n",
       "    </tr>\n",
       "    <tr>\n",
       "      <th>4</th>\n",
       "      <td>Personal Use</td>\n",
       "      <td>36385</td>\n",
       "    </tr>\n",
       "  </tbody>\n",
       "</table>\n",
       "</div>"
      ],
      "text/plain": [
       "         sector      id\n",
       "0   Agriculture  180302\n",
       "1          Food  136657\n",
       "2        Retail  124494\n",
       "3      Services   45140\n",
       "4  Personal Use   36385"
      ]
     },
     "execution_count": 21,
     "metadata": {},
     "output_type": "execute_result"
    }
   ],
   "source": [
    "# Create a dataframe called sectors that contains the count of the\n",
    "# number of times a sector appears in the dataset\n",
    "sectors = df.groupby('sector')['id'].count().\\\n",
    "sort_values(ascending=False).reset_index()\n",
    "sectors.head()"
   ]
  },
  {
   "cell_type": "code",
   "execution_count": 22,
   "metadata": {},
   "outputs": [
    {
     "data": {
      "text/html": [
       "<div>\n",
       "<style scoped>\n",
       "    .dataframe tbody tr th:only-of-type {\n",
       "        vertical-align: middle;\n",
       "    }\n",
       "\n",
       "    .dataframe tbody tr th {\n",
       "        vertical-align: top;\n",
       "    }\n",
       "\n",
       "    .dataframe thead th {\n",
       "        text-align: right;\n",
       "    }\n",
       "</style>\n",
       "<table border=\"1\" class=\"dataframe\">\n",
       "  <thead>\n",
       "    <tr style=\"text-align: right;\">\n",
       "      <th></th>\n",
       "      <th>Sector</th>\n",
       "      <th>Count</th>\n",
       "    </tr>\n",
       "  </thead>\n",
       "  <tbody>\n",
       "    <tr>\n",
       "      <th>0</th>\n",
       "      <td>Agriculture</td>\n",
       "      <td>180302</td>\n",
       "    </tr>\n",
       "    <tr>\n",
       "      <th>1</th>\n",
       "      <td>Food</td>\n",
       "      <td>136657</td>\n",
       "    </tr>\n",
       "    <tr>\n",
       "      <th>2</th>\n",
       "      <td>Retail</td>\n",
       "      <td>124494</td>\n",
       "    </tr>\n",
       "    <tr>\n",
       "      <th>3</th>\n",
       "      <td>Services</td>\n",
       "      <td>45140</td>\n",
       "    </tr>\n",
       "    <tr>\n",
       "      <th>4</th>\n",
       "      <td>Personal Use</td>\n",
       "      <td>36385</td>\n",
       "    </tr>\n",
       "  </tbody>\n",
       "</table>\n",
       "</div>"
      ],
      "text/plain": [
       "         Sector   Count\n",
       "0   Agriculture  180302\n",
       "1          Food  136657\n",
       "2        Retail  124494\n",
       "3      Services   45140\n",
       "4  Personal Use   36385"
      ]
     },
     "execution_count": 22,
     "metadata": {},
     "output_type": "execute_result"
    }
   ],
   "source": [
    "# Rename the id column to count\n",
    "sectors.columns = ['Sector','Count']\n",
    "sectors.head()"
   ]
  },
  {
   "cell_type": "code",
   "execution_count": 23,
   "metadata": {},
   "outputs": [
    {
     "data": {
      "text/html": [
       "<div>\n",
       "<style scoped>\n",
       "    .dataframe tbody tr th:only-of-type {\n",
       "        vertical-align: middle;\n",
       "    }\n",
       "\n",
       "    .dataframe tbody tr th {\n",
       "        vertical-align: top;\n",
       "    }\n",
       "\n",
       "    .dataframe thead th {\n",
       "        text-align: right;\n",
       "    }\n",
       "</style>\n",
       "<table border=\"1\" class=\"dataframe\">\n",
       "  <thead>\n",
       "    <tr style=\"text-align: right;\">\n",
       "      <th></th>\n",
       "      <th>sector</th>\n",
       "      <th>loan_amount</th>\n",
       "    </tr>\n",
       "  </thead>\n",
       "  <tbody>\n",
       "    <tr>\n",
       "      <th>0</th>\n",
       "      <td>Agriculture</td>\n",
       "      <td>143067875.0</td>\n",
       "    </tr>\n",
       "    <tr>\n",
       "      <th>1</th>\n",
       "      <td>Food</td>\n",
       "      <td>121606150.0</td>\n",
       "    </tr>\n",
       "    <tr>\n",
       "      <th>2</th>\n",
       "      <td>Retail</td>\n",
       "      <td>98122900.0</td>\n",
       "    </tr>\n",
       "    <tr>\n",
       "      <th>3</th>\n",
       "      <td>Services</td>\n",
       "      <td>48057450.0</td>\n",
       "    </tr>\n",
       "    <tr>\n",
       "      <th>4</th>\n",
       "      <td>Clothing</td>\n",
       "      <td>37300925.0</td>\n",
       "    </tr>\n",
       "  </tbody>\n",
       "</table>\n",
       "</div>"
      ],
      "text/plain": [
       "        sector  loan_amount\n",
       "0  Agriculture  143067875.0\n",
       "1         Food  121606150.0\n",
       "2       Retail   98122900.0\n",
       "3     Services   48057450.0\n",
       "4     Clothing   37300925.0"
      ]
     },
     "execution_count": 23,
     "metadata": {},
     "output_type": "execute_result"
    }
   ],
   "source": [
    "# Create a dataframe called sector_loan that contains the sum of the loan\n",
    "# amounts per sector\n",
    "sector_loan=df.groupby('sector')['loan_amount'].sum().\\\n",
    "sort_values(ascending=False).reset_index()\n",
    "sector_loan.head()"
   ]
  },
  {
   "cell_type": "code",
   "execution_count": 24,
   "metadata": {},
   "outputs": [
    {
     "data": {
      "text/plain": [
       "pandas.core.frame.DataFrame"
      ]
     },
     "execution_count": 24,
     "metadata": {},
     "output_type": "execute_result"
    }
   ],
   "source": [
    "# Check the type of sector_loan\n",
    "type(sector_loan)"
   ]
  },
  {
   "cell_type": "code",
   "execution_count": 25,
   "metadata": {
    "scrolled": true
   },
   "outputs": [
    {
     "data": {
      "text/html": [
       "<div>\n",
       "<style scoped>\n",
       "    .dataframe tbody tr th:only-of-type {\n",
       "        vertical-align: middle;\n",
       "    }\n",
       "\n",
       "    .dataframe tbody tr th {\n",
       "        vertical-align: top;\n",
       "    }\n",
       "\n",
       "    .dataframe thead th {\n",
       "        text-align: right;\n",
       "    }\n",
       "</style>\n",
       "<table border=\"1\" class=\"dataframe\">\n",
       "  <thead>\n",
       "    <tr style=\"text-align: right;\">\n",
       "      <th></th>\n",
       "      <th>id</th>\n",
       "      <th>funded_amount</th>\n",
       "      <th>loan_amount</th>\n",
       "      <th>activity</th>\n",
       "      <th>sector</th>\n",
       "      <th>use</th>\n",
       "      <th>country_code</th>\n",
       "      <th>country</th>\n",
       "      <th>region</th>\n",
       "      <th>currency</th>\n",
       "      <th>...</th>\n",
       "      <th>funded_time</th>\n",
       "      <th>term_in_months</th>\n",
       "      <th>lender_count</th>\n",
       "      <th>tags</th>\n",
       "      <th>borrower_genders</th>\n",
       "      <th>repayment_interval</th>\n",
       "      <th>date</th>\n",
       "      <th>year</th>\n",
       "      <th>month</th>\n",
       "      <th>day</th>\n",
       "    </tr>\n",
       "  </thead>\n",
       "  <tbody>\n",
       "    <tr>\n",
       "      <th>99</th>\n",
       "      <td>1080153</td>\n",
       "      <td>5000.0</td>\n",
       "      <td>5000.0</td>\n",
       "      <td>Food Production/Sales</td>\n",
       "      <td>Food</td>\n",
       "      <td>hire more staff to keep up with the volume of ...</td>\n",
       "      <td>US</td>\n",
       "      <td>United States</td>\n",
       "      <td>Unknown_Region</td>\n",
       "      <td>USD</td>\n",
       "      <td>...</td>\n",
       "      <td>2014-03-11 05:53:06+00:00</td>\n",
       "      <td>30.0</td>\n",
       "      <td>261</td>\n",
       "      <td>NaN</td>\n",
       "      <td>female</td>\n",
       "      <td>monthly</td>\n",
       "      <td>2014-01-02</td>\n",
       "      <td>2014</td>\n",
       "      <td>January</td>\n",
       "      <td>Thursday</td>\n",
       "    </tr>\n",
       "    <tr>\n",
       "      <th>116</th>\n",
       "      <td>653415</td>\n",
       "      <td>4000.0</td>\n",
       "      <td>4000.0</td>\n",
       "      <td>Cosmetics Sales</td>\n",
       "      <td>Retail</td>\n",
       "      <td>to purchase more inventory to sell</td>\n",
       "      <td>US</td>\n",
       "      <td>United States</td>\n",
       "      <td>San Diego</td>\n",
       "      <td>USD</td>\n",
       "      <td>...</td>\n",
       "      <td>2014-01-17 19:56:39+00:00</td>\n",
       "      <td>26.0</td>\n",
       "      <td>93</td>\n",
       "      <td>#Refugee, #Woman Owned Biz, #Inspiring Story, ...</td>\n",
       "      <td>female</td>\n",
       "      <td>monthly</td>\n",
       "      <td>2014-01-02</td>\n",
       "      <td>2014</td>\n",
       "      <td>January</td>\n",
       "      <td>Thursday</td>\n",
       "    </tr>\n",
       "    <tr>\n",
       "      <th>231</th>\n",
       "      <td>1080154</td>\n",
       "      <td>10000.0</td>\n",
       "      <td>10000.0</td>\n",
       "      <td>Food Production/Sales</td>\n",
       "      <td>Food</td>\n",
       "      <td>outfit my new kitchen so that I can expand my ...</td>\n",
       "      <td>US</td>\n",
       "      <td>United States</td>\n",
       "      <td>Unknown_Region</td>\n",
       "      <td>USD</td>\n",
       "      <td>...</td>\n",
       "      <td>2014-02-20 12:08:03+00:00</td>\n",
       "      <td>36.0</td>\n",
       "      <td>280</td>\n",
       "      <td>NaN</td>\n",
       "      <td>female</td>\n",
       "      <td>monthly</td>\n",
       "      <td>2014-01-02</td>\n",
       "      <td>2014</td>\n",
       "      <td>January</td>\n",
       "      <td>Thursday</td>\n",
       "    </tr>\n",
       "    <tr>\n",
       "      <th>455</th>\n",
       "      <td>653761</td>\n",
       "      <td>5000.0</td>\n",
       "      <td>5000.0</td>\n",
       "      <td>Farming</td>\n",
       "      <td>Agriculture</td>\n",
       "      <td>to purchase a tractor</td>\n",
       "      <td>US</td>\n",
       "      <td>United States</td>\n",
       "      <td>Pauma Valley, CA</td>\n",
       "      <td>USD</td>\n",
       "      <td>...</td>\n",
       "      <td>2014-01-13 19:33:49+00:00</td>\n",
       "      <td>32.0</td>\n",
       "      <td>158</td>\n",
       "      <td>#Biz Durable Asset, #Vegan, #Inspiring Story, ...</td>\n",
       "      <td>male</td>\n",
       "      <td>monthly</td>\n",
       "      <td>2014-01-03</td>\n",
       "      <td>2014</td>\n",
       "      <td>January</td>\n",
       "      <td>Friday</td>\n",
       "    </tr>\n",
       "    <tr>\n",
       "      <th>474</th>\n",
       "      <td>653803</td>\n",
       "      <td>5450.0</td>\n",
       "      <td>5450.0</td>\n",
       "      <td>Services</td>\n",
       "      <td>Services</td>\n",
       "      <td>to market her new business.</td>\n",
       "      <td>US</td>\n",
       "      <td>United States</td>\n",
       "      <td>Baton Rouge, Louisiana</td>\n",
       "      <td>USD</td>\n",
       "      <td>...</td>\n",
       "      <td>2014-01-23 13:33:46+00:00</td>\n",
       "      <td>32.0</td>\n",
       "      <td>164</td>\n",
       "      <td>#Woman Owned Biz, #Job Creator, user_favorite</td>\n",
       "      <td>female</td>\n",
       "      <td>monthly</td>\n",
       "      <td>2014-01-03</td>\n",
       "      <td>2014</td>\n",
       "      <td>January</td>\n",
       "      <td>Friday</td>\n",
       "    </tr>\n",
       "  </tbody>\n",
       "</table>\n",
       "<p>5 rows × 23 columns</p>\n",
       "</div>"
      ],
      "text/plain": [
       "          id  funded_amount  loan_amount               activity       sector  \\\n",
       "99   1080153         5000.0       5000.0  Food Production/Sales         Food   \n",
       "116   653415         4000.0       4000.0        Cosmetics Sales       Retail   \n",
       "231  1080154        10000.0      10000.0  Food Production/Sales         Food   \n",
       "455   653761         5000.0       5000.0                Farming  Agriculture   \n",
       "474   653803         5450.0       5450.0               Services     Services   \n",
       "\n",
       "                                                   use country_code  \\\n",
       "99   hire more staff to keep up with the volume of ...           US   \n",
       "116                 to purchase more inventory to sell           US   \n",
       "231  outfit my new kitchen so that I can expand my ...           US   \n",
       "455                              to purchase a tractor           US   \n",
       "474                        to market her new business.           US   \n",
       "\n",
       "           country                  region currency  ...  \\\n",
       "99   United States          Unknown_Region      USD  ...   \n",
       "116  United States               San Diego      USD  ...   \n",
       "231  United States          Unknown_Region      USD  ...   \n",
       "455  United States        Pauma Valley, CA      USD  ...   \n",
       "474  United States  Baton Rouge, Louisiana      USD  ...   \n",
       "\n",
       "                   funded_time term_in_months lender_count  \\\n",
       "99   2014-03-11 05:53:06+00:00           30.0          261   \n",
       "116  2014-01-17 19:56:39+00:00           26.0           93   \n",
       "231  2014-02-20 12:08:03+00:00           36.0          280   \n",
       "455  2014-01-13 19:33:49+00:00           32.0          158   \n",
       "474  2014-01-23 13:33:46+00:00           32.0          164   \n",
       "\n",
       "                                                  tags  borrower_genders  \\\n",
       "99                                                 NaN            female   \n",
       "116  #Refugee, #Woman Owned Biz, #Inspiring Story, ...            female   \n",
       "231                                                NaN            female   \n",
       "455  #Biz Durable Asset, #Vegan, #Inspiring Story, ...              male   \n",
       "474      #Woman Owned Biz, #Job Creator, user_favorite            female   \n",
       "\n",
       "     repayment_interval        date  year    month       day  \n",
       "99              monthly  2014-01-02  2014  January  Thursday  \n",
       "116             monthly  2014-01-02  2014  January  Thursday  \n",
       "231             monthly  2014-01-02  2014  January  Thursday  \n",
       "455             monthly  2014-01-03  2014  January    Friday  \n",
       "474             monthly  2014-01-03  2014  January    Friday  \n",
       "\n",
       "[5 rows x 23 columns]"
      ]
     },
     "execution_count": 25,
     "metadata": {},
     "output_type": "execute_result"
    }
   ],
   "source": [
    "# Create a dataframe called usa that contains data from USA only\n",
    "usa = df[df['country'] == 'United States']\n",
    "usa.head()"
   ]
  },
  {
   "cell_type": "code",
   "execution_count": 26,
   "metadata": {},
   "outputs": [
    {
     "data": {
      "text/html": [
       "<div>\n",
       "<style scoped>\n",
       "    .dataframe tbody tr th:only-of-type {\n",
       "        vertical-align: middle;\n",
       "    }\n",
       "\n",
       "    .dataframe tbody tr th {\n",
       "        vertical-align: top;\n",
       "    }\n",
       "\n",
       "    .dataframe thead th {\n",
       "        text-align: right;\n",
       "    }\n",
       "</style>\n",
       "<table border=\"1\" class=\"dataframe\">\n",
       "  <thead>\n",
       "    <tr style=\"text-align: right;\">\n",
       "      <th>sector</th>\n",
       "      <th>Agriculture</th>\n",
       "      <th>Arts</th>\n",
       "      <th>Clothing</th>\n",
       "      <th>Construction</th>\n",
       "      <th>Education</th>\n",
       "      <th>Entertainment</th>\n",
       "      <th>Food</th>\n",
       "      <th>Health</th>\n",
       "      <th>Housing</th>\n",
       "      <th>Manufacturing</th>\n",
       "      <th>Personal Use</th>\n",
       "      <th>Retail</th>\n",
       "      <th>Services</th>\n",
       "      <th>Transportation</th>\n",
       "      <th>Wholesale</th>\n",
       "    </tr>\n",
       "  </thead>\n",
       "  <tbody>\n",
       "    <tr>\n",
       "      <th>loan_amount</th>\n",
       "      <td>2999050.0</td>\n",
       "      <td>1351500.0</td>\n",
       "      <td>1957925.0</td>\n",
       "      <td>435900.0</td>\n",
       "      <td>870125.0</td>\n",
       "      <td>776725.0</td>\n",
       "      <td>7209975.0</td>\n",
       "      <td>396450.0</td>\n",
       "      <td>242850.0</td>\n",
       "      <td>213300.0</td>\n",
       "      <td>481775.0</td>\n",
       "      <td>4437450.0</td>\n",
       "      <td>9420300.0</td>\n",
       "      <td>597925.0</td>\n",
       "      <td>105125.0</td>\n",
       "    </tr>\n",
       "  </tbody>\n",
       "</table>\n",
       "</div>"
      ],
      "text/plain": [
       "sector       Agriculture       Arts   Clothing  Construction  Education  \\\n",
       "loan_amount    2999050.0  1351500.0  1957925.0      435900.0   870125.0   \n",
       "\n",
       "sector       Entertainment       Food    Health   Housing  Manufacturing  \\\n",
       "loan_amount       776725.0  7209975.0  396450.0  242850.0       213300.0   \n",
       "\n",
       "sector       Personal Use     Retail   Services  Transportation  Wholesale  \n",
       "loan_amount      481775.0  4437450.0  9420300.0        597925.0   105125.0  "
      ]
     },
     "execution_count": 26,
     "metadata": {},
     "output_type": "execute_result"
    }
   ],
   "source": [
    "# Create a pivot table that shows the sum of loan amounts per sector\n",
    "pd.pivot_table(usa, values='loan_amount',columns=['sector'],aggfunc='sum')"
   ]
  },
  {
   "cell_type": "code",
   "execution_count": 27,
   "metadata": {},
   "outputs": [
    {
     "data": {
      "text/html": [
       "<div>\n",
       "<style scoped>\n",
       "    .dataframe tbody tr th:only-of-type {\n",
       "        vertical-align: middle;\n",
       "    }\n",
       "\n",
       "    .dataframe tbody tr th {\n",
       "        vertical-align: top;\n",
       "    }\n",
       "\n",
       "    .dataframe thead th {\n",
       "        text-align: right;\n",
       "    }\n",
       "</style>\n",
       "<table border=\"1\" class=\"dataframe\">\n",
       "  <thead>\n",
       "    <tr style=\"text-align: right;\">\n",
       "      <th></th>\n",
       "      <th>id</th>\n",
       "      <th>Loan Theme ID</th>\n",
       "      <th>Loan Theme Type</th>\n",
       "      <th>Partner ID</th>\n",
       "    </tr>\n",
       "  </thead>\n",
       "  <tbody>\n",
       "    <tr>\n",
       "      <th>0</th>\n",
       "      <td>638631</td>\n",
       "      <td>a1050000000skGl</td>\n",
       "      <td>General</td>\n",
       "      <td>151.0</td>\n",
       "    </tr>\n",
       "    <tr>\n",
       "      <th>1</th>\n",
       "      <td>640322</td>\n",
       "      <td>a1050000000skGl</td>\n",
       "      <td>General</td>\n",
       "      <td>151.0</td>\n",
       "    </tr>\n",
       "    <tr>\n",
       "      <th>2</th>\n",
       "      <td>641006</td>\n",
       "      <td>a1050000002X1ij</td>\n",
       "      <td>Higher Education</td>\n",
       "      <td>160.0</td>\n",
       "    </tr>\n",
       "    <tr>\n",
       "      <th>3</th>\n",
       "      <td>641019</td>\n",
       "      <td>a1050000002X1ij</td>\n",
       "      <td>Higher Education</td>\n",
       "      <td>160.0</td>\n",
       "    </tr>\n",
       "    <tr>\n",
       "      <th>4</th>\n",
       "      <td>641594</td>\n",
       "      <td>a1050000002VbsW</td>\n",
       "      <td>Subsistence Agriculture</td>\n",
       "      <td>336.0</td>\n",
       "    </tr>\n",
       "  </tbody>\n",
       "</table>\n",
       "</div>"
      ],
      "text/plain": [
       "       id    Loan Theme ID          Loan Theme Type  Partner ID\n",
       "0  638631  a1050000000skGl                  General       151.0\n",
       "1  640322  a1050000000skGl                  General       151.0\n",
       "2  641006  a1050000002X1ij         Higher Education       160.0\n",
       "3  641019  a1050000002X1ij         Higher Education       160.0\n",
       "4  641594  a1050000002VbsW  Subsistence Agriculture       336.0"
      ]
     },
     "execution_count": 27,
     "metadata": {},
     "output_type": "execute_result"
    }
   ],
   "source": [
    "# Load in the themes data as themes\n",
    "themes = pd.read_csv('../../loan_theme_ids.csv')\n",
    "themes.head()"
   ]
  },
  {
   "cell_type": "code",
   "execution_count": 28,
   "metadata": {},
   "outputs": [
    {
     "data": {
      "text/plain": [
       "Index(['id', 'Loan Theme ID', 'Loan Theme Type', 'Partner ID'], dtype='object')"
      ]
     },
     "execution_count": 28,
     "metadata": {},
     "output_type": "execute_result"
    }
   ],
   "source": [
    "# Display the columns in the themes dataset\n",
    "themes.columns"
   ]
  },
  {
   "cell_type": "code",
   "execution_count": 29,
   "metadata": {},
   "outputs": [
    {
     "data": {
      "text/plain": [
       "Index(['id', 'funded_amount', 'loan_amount', 'activity', 'sector', 'use',\n",
       "       'country_code', 'country', 'region', 'currency', 'partner_id',\n",
       "       'posted_time', 'disbursed_time', 'funded_time', 'term_in_months',\n",
       "       'lender_count', 'tags', 'borrower_genders', 'repayment_interval',\n",
       "       'date', 'year', 'month', 'day'],\n",
       "      dtype='object')"
      ]
     },
     "execution_count": 29,
     "metadata": {},
     "output_type": "execute_result"
    }
   ],
   "source": [
    "# Display the columns in df\n",
    "df.columns"
   ]
  },
  {
   "cell_type": "code",
   "execution_count": 30,
   "metadata": {},
   "outputs": [
    {
     "data": {
      "text/html": [
       "<div>\n",
       "<style scoped>\n",
       "    .dataframe tbody tr th:only-of-type {\n",
       "        vertical-align: middle;\n",
       "    }\n",
       "\n",
       "    .dataframe tbody tr th {\n",
       "        vertical-align: top;\n",
       "    }\n",
       "\n",
       "    .dataframe thead th {\n",
       "        text-align: right;\n",
       "    }\n",
       "</style>\n",
       "<table border=\"1\" class=\"dataframe\">\n",
       "  <thead>\n",
       "    <tr style=\"text-align: right;\">\n",
       "      <th></th>\n",
       "      <th>id</th>\n",
       "      <th>funded_amount</th>\n",
       "      <th>loan_amount</th>\n",
       "      <th>activity</th>\n",
       "      <th>sector</th>\n",
       "      <th>use</th>\n",
       "      <th>country_code</th>\n",
       "      <th>country</th>\n",
       "      <th>region</th>\n",
       "      <th>currency</th>\n",
       "      <th>...</th>\n",
       "      <th>tags</th>\n",
       "      <th>borrower_genders</th>\n",
       "      <th>repayment_interval</th>\n",
       "      <th>date</th>\n",
       "      <th>year</th>\n",
       "      <th>month</th>\n",
       "      <th>day</th>\n",
       "      <th>Loan Theme ID</th>\n",
       "      <th>Loan Theme Type</th>\n",
       "      <th>Partner ID</th>\n",
       "    </tr>\n",
       "  </thead>\n",
       "  <tbody>\n",
       "    <tr>\n",
       "      <th>0</th>\n",
       "      <td>653053</td>\n",
       "      <td>575.0</td>\n",
       "      <td>575.0</td>\n",
       "      <td>Rickshaw</td>\n",
       "      <td>Transportation</td>\n",
       "      <td>to repair and maintain the auto rickshaw used ...</td>\n",
       "      <td>PK</td>\n",
       "      <td>Pakistan</td>\n",
       "      <td>Lahore</td>\n",
       "      <td>PKR</td>\n",
       "      <td>...</td>\n",
       "      <td>NaN</td>\n",
       "      <td>female, female</td>\n",
       "      <td>irregular</td>\n",
       "      <td>2014-01-01</td>\n",
       "      <td>2014</td>\n",
       "      <td>January</td>\n",
       "      <td>Wednesday</td>\n",
       "      <td>a1050000000sjEC</td>\n",
       "      <td>Underserved</td>\n",
       "      <td>247.0</td>\n",
       "    </tr>\n",
       "  </tbody>\n",
       "</table>\n",
       "<p>1 rows × 26 columns</p>\n",
       "</div>"
      ],
      "text/plain": [
       "       id  funded_amount  loan_amount  activity          sector  \\\n",
       "0  653053          575.0        575.0  Rickshaw  Transportation   \n",
       "\n",
       "                                                 use country_code   country  \\\n",
       "0  to repair and maintain the auto rickshaw used ...           PK  Pakistan   \n",
       "\n",
       "   region currency  ...  tags borrower_genders repayment_interval        date  \\\n",
       "0  Lahore      PKR  ...   NaN   female, female          irregular  2014-01-01   \n",
       "\n",
       "   year    month        day    Loan Theme ID Loan Theme Type Partner ID  \n",
       "0  2014  January  Wednesday  a1050000000sjEC     Underserved      247.0  \n",
       "\n",
       "[1 rows x 26 columns]"
      ]
     },
     "execution_count": 30,
     "metadata": {},
     "output_type": "execute_result"
    }
   ],
   "source": [
    "# Merge the themes data frame with df\n",
    "# and display the merged data frame\n",
    "merger = pd.merge(df,themes, on='id')\n",
    "merger.head(1)"
   ]
  },
  {
   "cell_type": "code",
   "execution_count": 31,
   "metadata": {},
   "outputs": [
    {
     "data": {
      "text/plain": [
       "array(['Underserved', 'General', nan, \"Hai Duong Women's Union\", 'Youth',\n",
       "       'Green', 'Higher Education', 'Rural Inclusion', 'Startup',\n",
       "       'Full Tuition', 'At-Risk Youth', 'Conflict Zone',\n",
       "       'Extreme Poverty', 'Water', 'FUSAI', 'Subsistence Agriculture',\n",
       "       'Agriculture', 'Housing Improvement', 'Unbanked',\n",
       "       'Youth Entrepreneurship', 'Haiti', 'Vulnerable Populations',\n",
       "       'Primary/Secondary Education', 'Vulnerable Women', 'Murabaha',\n",
       "       'End Consumer Finance', 'Agricultural Equipment',\n",
       "       'Mobile Transactions', 'Small Enterprise', 'Business in a Box',\n",
       "       'Artisan', 'Murabaha Youth', 'Retailer Finance', 'Kiva City LA',\n",
       "       'Organic Conversion', 'First/Second Chance', 'Disaster Recovery',\n",
       "       'Agricultural Infrastructure', 'Women Without Poverty',\n",
       "       'CAMEO Partnership', 'Safe Water System for Institution',\n",
       "       'Rural Conflict Zone', 'Biodigester', 'SME',\n",
       "       'Clients below the poverty line', 'Distributor Finance - India',\n",
       "       'Business Development Services', 'Distributor Finance',\n",
       "       'Sanitation', 'Small Business Investment Loan', 'Kiva City Newark',\n",
       "       'Solar Home Systems', 'Water and Sanitation', 'Microfranchise',\n",
       "       'Qard Hassan', 'Vocational Training', 'Kiva City D.C.',\n",
       "       'Low income students', 'Village Bank', 'Islamic Product', 'WLIFT',\n",
       "       'Coffee Production', 'Field Renewal', 'Health', 'Startup (Women)',\n",
       "       'General (Women)', 'Future Greens Samsthe', 'Partial Tuition',\n",
       "       'Silvopasture', 'MESP', 'Profit-linked debt', 'Sahaja Samrudha',\n",
       "       'Equipment Purchase', 'Youth (Women)',\n",
       "       'Primary/Secondary Education (Large)', 'WLIFT-Youth',\n",
       "       'Sustainable farming activities', 'Higher Education (Women)',\n",
       "       'Intercropping', 'WLIFT-Conflict Zone',\n",
       "       'Higher Education for Vulnerable Groups', 'Asset Finance',\n",
       "       'Conflict Zone (Women)', 'Graduating Agriculture Loan',\n",
       "       'Sabuj Sangha', 'MASS', 'Women Entrepreneurs', 'Seasonal Worker',\n",
       "       'PAT', 'Hydrologic', 'Recycled material activities',\n",
       "       'Solar refrigerator', 'Redemption', 'Flexible loan conditions',\n",
       "       'Clean Energy', 'Zaf̬n', 'Driptech',\n",
       "       'Flexible loan with reduced interest',\n",
       "       'Vulnerable Populations (Syrian)', 'Micro-grid', 'School Finance',\n",
       "       'Reduced Interest Rate', 'Community Impact Loan',\n",
       "       'Startup (Youth)', 'Detroit', 'Control Group - Research Study',\n",
       "       'Vulnerable Populations (Palestinian)', 'Vocational High School',\n",
       "       'CPO - LKM', 'Conflict Zone (Gaza)',\n",
       "       'Agroforestry: Plantation Establishment',\n",
       "       'Human Capital Contracts', 'Education', 'Salaried Workers',\n",
       "       'Value Chain', 'Senior Citizens', 'Bridge/Income Smoothing',\n",
       "       'Prayas: General', 'Subsistence Agriculture and Solar Lanterns',\n",
       "       'Disabled Entrepreneurs', 'Biogas', 'Promesa',\n",
       "       'Mobile transactions - electronic float advance', 'Microforestry',\n",
       "       'Single mothers', \"Ninh Binh Women's Union\",\n",
       "       'Higher Education Murabaha', 'FUSAI Water and Sanitation',\n",
       "       'Green Murabaha', 'Education Technology', 'Panama',\n",
       "       'Startup Murabaha', 'Veterans', 'Solar water pump',\n",
       "       'Indigenous Communities', 'Bee Hive', 'Tool Box Loan',\n",
       "       'Sustainable Solar Service Package',\n",
       "       'Mobile transactions - capital growth loan.',\n",
       "       'Passion Fruit Production', 'Solar Lamps', 'FUSAI Green',\n",
       "       'Clean Cookstove', 'Underserved (large)', 'Laptop',\n",
       "       \"Youth Volunteer's Union\", 'Guardian: Water and Sanitation',\n",
       "       'Underserved (Women)', 'Gramalaya Microfin Foundation',\n",
       "       'Displaced Populations', 'Imagen Dental',\n",
       "       'Cluster Enterprise Development', 'Education - Cambodia',\n",
       "       'Finance to Cooperative', 'Underserved (non-Lebanese)',\n",
       "       'Microenterprise (Group)', 'Conflict Zone (Gaza Businesses)',\n",
       "       'Vulnerable Populations (Physical Disabilities)',\n",
       "       'Education - Kenya', 'Home Energy Conservation', 'SMGBK: General',\n",
       "       'Swayamshree: Green', 'Single mothers entrepreneurs',\n",
       "       'Franchise Package', 'Kubo Experiment - No credit history',\n",
       "       'Swayamshree: General', 'Vulnerable Populations (Iraqi)',\n",
       "       'Solar electric fence', 'UBER Drivers', 'Agriculture (Women)',\n",
       "       'Inventory', 'Women in agriculture', 'Mahashakti: Underserved',\n",
       "       'Micro-enterprise', 'Agricultural Labor',\n",
       "       'Prayas: Water and Sanitation', 'Livestock and Fishing',\n",
       "       'Organic Agriculture', 'Cacao Production', 'Cacao Field Renewal',\n",
       "       'Laptop (Refugee)', 'Motorbike', 'Apani: General',\n",
       "       'Clean Water Franchise', 'Women micro-business',\n",
       "       'Mahashakti: Education', 'Vulnerable Populations (Refugees)',\n",
       "       'Gram Utthan: Sanitation', 'BJS: Underserved',\n",
       "       'Female headed households', 'SME (Tanzania)',\n",
       "       'Vulnerable Populations (Syrian)2',\n",
       "       'Vulnerable Populations (Refugees)2', 'Vulnerable Populations2',\n",
       "       'Displaced Populations2', 'Vulnerable Populations3',\n",
       "       'Vulnerable Populations (Syrian)3',\n",
       "       'Vulnerable Populations (Refugees)3'], dtype=object)"
      ]
     },
     "execution_count": 31,
     "metadata": {},
     "output_type": "execute_result"
    }
   ],
   "source": [
    "# Print the unique loan theme types\n",
    "merger['Loan Theme Type'].unique()"
   ]
  },
  {
   "cell_type": "code",
   "execution_count": 32,
   "metadata": {},
   "outputs": [
    {
     "data": {
      "text/html": [
       "<div>\n",
       "<style scoped>\n",
       "    .dataframe tbody tr th:only-of-type {\n",
       "        vertical-align: middle;\n",
       "    }\n",
       "\n",
       "    .dataframe tbody tr th {\n",
       "        vertical-align: top;\n",
       "    }\n",
       "\n",
       "    .dataframe thead th {\n",
       "        text-align: right;\n",
       "    }\n",
       "</style>\n",
       "<table border=\"1\" class=\"dataframe\">\n",
       "  <thead>\n",
       "    <tr style=\"text-align: right;\">\n",
       "      <th></th>\n",
       "      <th>Loan Theme Type</th>\n",
       "      <th>loan_amount</th>\n",
       "    </tr>\n",
       "  </thead>\n",
       "  <tbody>\n",
       "    <tr>\n",
       "      <th>0</th>\n",
       "      <td>General</td>\n",
       "      <td>260493425.0</td>\n",
       "    </tr>\n",
       "    <tr>\n",
       "      <th>1</th>\n",
       "      <td>Underserved</td>\n",
       "      <td>37733925.0</td>\n",
       "    </tr>\n",
       "    <tr>\n",
       "      <th>2</th>\n",
       "      <td>Rural Inclusion</td>\n",
       "      <td>18372725.0</td>\n",
       "    </tr>\n",
       "    <tr>\n",
       "      <th>3</th>\n",
       "      <td>Vulnerable Populations</td>\n",
       "      <td>17442050.0</td>\n",
       "    </tr>\n",
       "    <tr>\n",
       "      <th>4</th>\n",
       "      <td>Agriculture</td>\n",
       "      <td>16601275.0</td>\n",
       "    </tr>\n",
       "  </tbody>\n",
       "</table>\n",
       "</div>"
      ],
      "text/plain": [
       "          Loan Theme Type  loan_amount\n",
       "0                 General  260493425.0\n",
       "1             Underserved   37733925.0\n",
       "2         Rural Inclusion   18372725.0\n",
       "3  Vulnerable Populations   17442050.0\n",
       "4             Agriculture   16601275.0"
      ]
     },
     "execution_count": 32,
     "metadata": {},
     "output_type": "execute_result"
    }
   ],
   "source": [
    "# Which are the most prominent loan themes\n",
    "merger.groupby('Loan Theme Type')['loan_amount'].sum().\\\n",
    "sort_values(ascending=False).reset_index().head(5)"
   ]
  },
  {
   "cell_type": "markdown",
   "metadata": {},
   "source": [
    "# Part Two - Visualization with Seaborn Project Exercise"
   ]
  },
  {
   "cell_type": "markdown",
   "metadata": {},
   "source": [
    "Seaborn is a Python data visualization library based on matplotlib"
   ]
  },
  {
   "cell_type": "markdown",
   "metadata": {},
   "source": [
    "## Categorical Plots"
   ]
  },
  {
   "cell_type": "code",
   "execution_count": 33,
   "metadata": {},
   "outputs": [],
   "source": [
    "import matplotlib.pyplot as plt\n",
    "import seaborn as sns\n",
    "sns.set()"
   ]
  },
  {
   "cell_type": "code",
   "execution_count": 34,
   "metadata": {},
   "outputs": [],
   "source": [
    "philippines = merger[merger['country'] == 'Philippines']"
   ]
  },
  {
   "cell_type": "code",
   "execution_count": 35,
   "metadata": {},
   "outputs": [
    {
     "data": {
      "text/html": [
       "<div>\n",
       "<style scoped>\n",
       "    .dataframe tbody tr th:only-of-type {\n",
       "        vertical-align: middle;\n",
       "    }\n",
       "\n",
       "    .dataframe tbody tr th {\n",
       "        vertical-align: top;\n",
       "    }\n",
       "\n",
       "    .dataframe thead th {\n",
       "        text-align: right;\n",
       "    }\n",
       "</style>\n",
       "<table border=\"1\" class=\"dataframe\">\n",
       "  <thead>\n",
       "    <tr style=\"text-align: right;\">\n",
       "      <th></th>\n",
       "      <th>id</th>\n",
       "      <th>funded_amount</th>\n",
       "      <th>loan_amount</th>\n",
       "      <th>activity</th>\n",
       "      <th>sector</th>\n",
       "      <th>use</th>\n",
       "      <th>country_code</th>\n",
       "      <th>country</th>\n",
       "      <th>region</th>\n",
       "      <th>currency</th>\n",
       "      <th>...</th>\n",
       "      <th>tags</th>\n",
       "      <th>borrower_genders</th>\n",
       "      <th>repayment_interval</th>\n",
       "      <th>date</th>\n",
       "      <th>year</th>\n",
       "      <th>month</th>\n",
       "      <th>day</th>\n",
       "      <th>Loan Theme ID</th>\n",
       "      <th>Loan Theme Type</th>\n",
       "      <th>Partner ID</th>\n",
       "    </tr>\n",
       "  </thead>\n",
       "  <tbody>\n",
       "    <tr>\n",
       "      <th>46</th>\n",
       "      <td>653092</td>\n",
       "      <td>175.0</td>\n",
       "      <td>175.0</td>\n",
       "      <td>Pigs</td>\n",
       "      <td>Agriculture</td>\n",
       "      <td>to buy piglets and feed</td>\n",
       "      <td>PH</td>\n",
       "      <td>Philippines</td>\n",
       "      <td>Liloy-Dela Paz</td>\n",
       "      <td>PHP</td>\n",
       "      <td>...</td>\n",
       "      <td>NaN</td>\n",
       "      <td>female</td>\n",
       "      <td>irregular</td>\n",
       "      <td>2014-01-02</td>\n",
       "      <td>2014</td>\n",
       "      <td>January</td>\n",
       "      <td>Thursday</td>\n",
       "      <td>a1050000000wf0Y</td>\n",
       "      <td>General</td>\n",
       "      <td>126.0</td>\n",
       "    </tr>\n",
       "  </tbody>\n",
       "</table>\n",
       "<p>1 rows × 26 columns</p>\n",
       "</div>"
      ],
      "text/plain": [
       "        id  funded_amount  loan_amount activity       sector  \\\n",
       "46  653092          175.0        175.0     Pigs  Agriculture   \n",
       "\n",
       "                        use country_code      country          region  \\\n",
       "46  to buy piglets and feed           PH  Philippines  Liloy-Dela Paz   \n",
       "\n",
       "   currency  ...  tags borrower_genders repayment_interval        date  year  \\\n",
       "46      PHP  ...   NaN           female          irregular  2014-01-02  2014   \n",
       "\n",
       "      month       day    Loan Theme ID Loan Theme Type Partner ID  \n",
       "46  January  Thursday  a1050000000wf0Y         General      126.0  \n",
       "\n",
       "[1 rows x 26 columns]"
      ]
     },
     "execution_count": 35,
     "metadata": {},
     "output_type": "execute_result"
    }
   ],
   "source": [
    "philippines.head(1)"
   ]
  },
  {
   "cell_type": "code",
   "execution_count": null,
   "metadata": {},
   "outputs": [],
   "source": [
    "# Use the philippines DataFrame\n",
    "# Create a figure of size 12 by 5\n",
    "# Add a title to your figure \n",
    "# Rotate the xticks by 90 degrees\n",
    "# Plot a countplot of the sector\n",
    "\n",
    "plt.figure(figsize=(12, 5))\n",
    "plt.xticks(rotation=90)\n",
    "plt.xlabel('Region')\n",
    "plt.ylabel('Count')\n",
    "plt.title('Sector countplot')\n",
    "sns.countplot(data=philippines, x='sector', hue='sector');"
   ]
  },
  {
   "cell_type": "code",
   "execution_count": null,
   "metadata": {},
   "outputs": [],
   "source": [
    "# Use the philippines DataFrame\n",
    "# Create a figure of size 12 by 5\n",
    "# Add a title to your figure \n",
    "# Rotate the xticks by 90 degrees\n",
    "# Plot a violinplot of the sector against the funded_amount\n",
    "\n",
    "plt.figure(figsize=(12,5))\n",
    "plt.title('Sector VS Funded Amount Violinplot')\n",
    "plt.xticks(rotation=90)\n",
    "plt.xlabel('Region')\n",
    "plt.ylabel('Funded Amount')\n",
    "sns.violinplot(data=philippines, x='sector', y='funded_amount');"
   ]
  },
  {
   "cell_type": "code",
   "execution_count": null,
   "metadata": {},
   "outputs": [],
   "source": [
    "# Use the philippines DataFrame\n",
    "# Create a figure of size 12 by 6\n",
    "# Add a title to your figure \n",
    "# Rotate the xticks by 90 degrees\n",
    "# Plot a violinplot of the sector against the lender_count\n",
    "\n",
    "plt.figure(figsize=(12,5))\n",
    "plt.title('Sector VS Lender Count Violinplot')\n",
    "plt.xticks(rotation=90)\n",
    "plt.xlabel('Region')\n",
    "plt.ylabel('Lender count')\n",
    "sns.violinplot(data=philippines, x='sector', y='lender_count');"
   ]
  },
  {
   "cell_type": "code",
   "execution_count": null,
   "metadata": {},
   "outputs": [],
   "source": [
    "# Use the philippines DataFrame\n",
    "# Create a figure of size 12 by 6\n",
    "# Add a title to your figure \n",
    "# Rotate the xticks by 90 degrees\n",
    "# Plot a stripplot of the sector against the lender_count\n",
    "\n",
    "plt.figure(figsize=(12,6))\n",
    "plt.title('Sector VS Lender Count Stripplot')\n",
    "plt.xticks(rotation=90)\n",
    "plt.xlabel('Region')\n",
    "plt.ylabel('Lender count')\n",
    "sns.stripplot(data=philippines, x='sector', y='lender_count');"
   ]
  },
  {
   "cell_type": "code",
   "execution_count": null,
   "metadata": {},
   "outputs": [],
   "source": [
    "# Use the philippines DataFrame\n",
    "# Create a figure of size 12 by 6\n",
    "# Add a title to your figure \n",
    "# Rotate the xticks by 90 degrees\n",
    "# Plot a stripplot of the sector against the lender_count \n",
    "# Add day as the hue\n",
    "\n",
    "plt.figure(figsize=(12,6))\n",
    "plt.title('Sector VS Lender Count Stripplot')\n",
    "plt.xticks(rotation=90)\n",
    "plt.xlabel('Region')\n",
    "plt.ylabel('Lender count')\n",
    "sns.stripplot(data=philippines, x='sector', y='lender_count', hue='day');"
   ]
  },
  {
   "cell_type": "code",
   "execution_count": null,
   "metadata": {},
   "outputs": [],
   "source": [
    "# Use the philippines DataFrame\n",
    "# Create a figure of size 12 by 6\n",
    "# Add a title to your figure \n",
    "# Rotate the xticks by 90 degrees\n",
    "# Plot a stripplot of the sector against the lender_count \n",
    "# Add month as the hue\n",
    "\n",
    "plt.figure(figsize=(12,5))\n",
    "plt.title('Sector VS Lender Count Stripplot')\n",
    "plt.xticks(rotation=90)\n",
    "plt.xlabel('Region')\n",
    "plt.ylabel('Lender count')\n",
    "sns.stripplot(data=philippines, x='sector', y='lender_count', hue='month');"
   ]
  },
  {
   "cell_type": "code",
   "execution_count": null,
   "metadata": {},
   "outputs": [],
   "source": [
    "# Use the philippines DataFrame\n",
    "# Create a figure of size 12 by 6\n",
    "# Add a title to your figure \n",
    "# Rotate the xticks by 90 degrees\n",
    "# Plot a boxplot of the sector against the funded_amount \n",
    "\n",
    "plt.figure(figsize=(12,5))\n",
    "plt.title('Sector VS Lender Count Boxplot')\n",
    "plt.xticks(rotation=90)\n",
    "plt.xlabel('Region')\n",
    "plt.ylabel('Lender count')\n",
    "sns.boxplot(data=philippines, x='sector', y='lender_count');"
   ]
  },
  {
   "cell_type": "code",
   "execution_count": null,
   "metadata": {},
   "outputs": [],
   "source": [
    "# Print the columns in the philippines dataframe\n",
    "philippines.columns"
   ]
  },
  {
   "cell_type": "code",
   "execution_count": null,
   "metadata": {},
   "outputs": [],
   "source": [
    "# Use the philippines DataFrame\n",
    "# Create a figure of size 20 by 10\n",
    "# Add a title to your figure \n",
    "# Rotate the xticks by 90 degrees\n",
    "# Plot a boxplot of the sector against the funded_amount \n",
    "\n",
    "plt.figure(figsize=(12,5))\n",
    "plt.title('Sector VS Lender Count Boxplot')\n",
    "plt.xticks(rotation=90)\n",
    "plt.xlabel('Region')\n",
    "plt.ylabel('Lender Count')\n",
    "sns.boxplot(data=philippines, x='sector', y='lender_count');"
   ]
  },
  {
   "cell_type": "code",
   "execution_count": null,
   "metadata": {},
   "outputs": [],
   "source": [
    "# Use the philippines DataFrame\n",
    "# Create a figure of size 20 by 10\n",
    "# Add a title to your figure \n",
    "# Rotate the xticks by 90 degrees\n",
    "# Plot a boxenplot of the sector against the funded_amount \n",
    "\n",
    "plt.figure(figsize=(12,10))\n",
    "plt.title('Sector VS Funded Amount Boxenplot')\n",
    "plt.xticks(rotation=90)\n",
    "plt.xlabel('Region')\n",
    "plt.ylabel('Funded Amount')\n",
    "sns.boxenplot(data=philippines, x='sector', y='funded_amount');"
   ]
  },
  {
   "cell_type": "code",
   "execution_count": null,
   "metadata": {},
   "outputs": [],
   "source": [
    "region = philippines.groupby('region')['loan_amount'].sum().sort_values(ascending = False).reset_index()\n",
    "region.head(10)"
   ]
  },
  {
   "cell_type": "code",
   "execution_count": null,
   "metadata": {},
   "outputs": [],
   "source": [
    "top_20 = region.head(20)\n",
    "# Use the top_20 DataFrame\n",
    "# Create a figure of size 12 by 5\n",
    "# Add a title to your figure \n",
    "# Rotate the xticks by 90 degrees\n",
    "# Plot a barplot of the region against the loan_amount \n",
    "\n",
    "plt.figure(figsize=(12,5))\n",
    "plt.title('Top 20 Regions VS Loan Amount Barplot')\n",
    "plt.xticks(rotation=90)\n",
    "plt.xlabel('Region')\n",
    "plt.ylabel('Loan Amount')\n",
    "sns.barplot(data=top_20, x='region', y='loan_amount');\n"
   ]
  },
  {
   "cell_type": "code",
   "execution_count": null,
   "metadata": {},
   "outputs": [],
   "source": [
    "top_20 = top_20[top_20['region'] != 'Unknown_Region']\n",
    "top_20.head()"
   ]
  },
  {
   "cell_type": "code",
   "execution_count": null,
   "metadata": {},
   "outputs": [],
   "source": [
    "# Use the top_20 to plot the figure below\n",
    "\n",
    "plt.figure(figsize=(12,5))\n",
    "plt.title('Top 20 Regions VS Loan Amount Barplot')\n",
    "plt.xticks(rotation=90)\n",
    "plt.xlabel('Region')\n",
    "plt.ylabel('Loan Amount')\n",
    "sns.barplot(data=top_20, x='region', y='loan_amount');"
   ]
  },
  {
   "cell_type": "code",
   "execution_count": null,
   "metadata": {},
   "outputs": [],
   "source": [
    "# Use the top_20 to plot the figure below\n",
    "\n",
    "plt.figure(figsize=(12,12))\n",
    "plt.title('Top 20 Regions VS Loan Amount Barplot')\n",
    "plt.xlabel('Loan Amount')\n",
    "plt.ylabel('Region')\n",
    "sns.barplot(data=top_20, y='region', x='loan_amount');"
   ]
  },
  {
   "cell_type": "markdown",
   "metadata": {},
   "source": [
    "# Section Two - Visualizing Distributions"
   ]
  },
  {
   "cell_type": "code",
   "execution_count": 2,
   "metadata": {},
   "outputs": [
    {
     "ename": "NameError",
     "evalue": "name 'philippines' is not defined",
     "output_type": "error",
     "traceback": [
      "\u001b[31m---------------------------------------------------------------------------\u001b[39m",
      "\u001b[31mNameError\u001b[39m                                 Traceback (most recent call last)",
      "\u001b[36mCell\u001b[39m\u001b[36m \u001b[39m\u001b[32mIn[2]\u001b[39m\u001b[32m, line 2\u001b[39m\n\u001b[32m      1\u001b[39m \u001b[38;5;66;03m# Display the columns in the philippines dataframe\u001b[39;00m\n\u001b[32m----> \u001b[39m\u001b[32m2\u001b[39m \u001b[43mphilippines\u001b[49m.columns\n",
      "\u001b[31mNameError\u001b[39m: name 'philippines' is not defined"
     ]
    }
   ],
   "source": [
    "# Display the columns in the philippines dataframe\n",
    "philippines.columns"
   ]
  },
  {
   "cell_type": "code",
   "execution_count": null,
   "metadata": {},
   "outputs": [],
   "source": [
    "# Use the philippines dataframe\n",
    "# Create a figure of size 22 by 8\n",
    "# Use seaborn and create a scatterplot of funded_amount against lender_count\n",
    "\n",
    "plt.figure(figsize=(22,8))\n",
    "plt.title('Funded Amount VS Lender Count Scatter Plot')\n",
    "plt.xlabel('Funded Amount')\n",
    "plt.ylabel('Lender Count')\n",
    "sns.scatterplot(data=philippines, x='funded_amount', y='lender_count');"
   ]
  },
  {
   "cell_type": "code",
   "execution_count": null,
   "metadata": {},
   "outputs": [],
   "source": [
    "# Use the philippines dataframe\n",
    "# Create a figure of size 22 by 8\n",
    "# Use seaborn and create a scatterplot of funded_amount against lender_count\n",
    "# Use sector as the hue\n",
    "\n",
    "plt.figure(figsize=(22,8))\n",
    "plt.title('Funded Amount VS Lender Count Scatter Plot')\n",
    "plt.xlabel('Funded Amount')\n",
    "plt.ylabel('Lender Count')\n",
    "sns.scatterplot(data=philippines, x='funded_amount', y='lender_count', hue='sector');\n",
    "plt.legend(loc='upper left')"
   ]
  },
  {
   "cell_type": "code",
   "execution_count": null,
   "metadata": {},
   "outputs": [],
   "source": [
    "# Use the philippines dataframe\n",
    "# Create a jointplot of the funded amount against lender count\n",
    "# Make the plot of color red\n",
    "\n",
    "g = sns.jointplot(data=philippines, x='funded_amount', y='lender_count', color='red', size=20);\n",
    "g.fig.suptitle('Funded Amount VS Lender Count Joint Plot')\n",
    "g.ax_joint.set_xlabel('Funded Amount')\n",
    "g.ax_joint.set_ylabel('Lender Count')\n",
    "plt.legend(loc='upper left')\n",
    "plt.tight_layout()"
   ]
  },
  {
   "cell_type": "code",
   "execution_count": null,
   "metadata": {},
   "outputs": [],
   "source": [
    "# Use philippines dataframe\n",
    "# Create a figure of size 12 by 5\n",
    "# Create a pairplot of the dataframe\n",
    "\n",
    "g = sns.pairplot(data=philippines, height=2);\n",
    "g.fig.suptitle('Philippine Pair Plot')\n",
    "plt.tight_layout()"
   ]
  },
  {
   "cell_type": "code",
   "execution_count": null,
   "metadata": {},
   "outputs": [],
   "source": [
    "sector = philippines.groupby('sector')['funded_amount'].sum().\\\n",
    "sort_values(ascending= False).reset_index()\n",
    "sector.head()"
   ]
  },
  {
   "cell_type": "code",
   "execution_count": null,
   "metadata": {},
   "outputs": [],
   "source": [
    "# Display the unique sectors in the sectors dataframe\n",
    "sector.sector.unique()"
   ]
  },
  {
   "cell_type": "code",
   "execution_count": null,
   "metadata": {},
   "outputs": [],
   "source": [
    "# How many sectors are in the sectors dataframe\n",
    "sector.sector.nunique()"
   ]
  },
  {
   "cell_type": "code",
   "execution_count": null,
   "metadata": {},
   "outputs": [],
   "source": [
    "# Use the philippines dataframe\n",
    "# Create a figure of size 12 by 6\n",
    "# Create a lineplot of funded_amount against lender_count\n",
    "# Create a lineplot of loan_amount against lender_count\n",
    "\n",
    "plt.figure(figsize=(12,6))\n",
    "plt.title('Funded Amount / Loan Amount VS Lender Count Scatter Plot')\n",
    "plt.xlabel('Funded Amount / Loan Amount')\n",
    "plt.ylabel('Lender Count')\n",
    "sns.lineplot(data=philippines, x='funded_amount', y='lender_count', alpha=0.8, linewidth=1, linestyle='-', color='red')\n",
    "sns.lineplot(data=philippines, x='loan_amount', y='lender_count', alpha=0.8, linewidth=3, linestyle=':', color='green')\n"
   ]
  },
  {
   "cell_type": "markdown",
   "metadata": {},
   "source": [
    "# MatPlotlib Subplots with Seaborn Section"
   ]
  },
  {
   "cell_type": "markdown",
   "metadata": {},
   "source": [
    "Add a subplot to the current figure."
   ]
  },
  {
   "cell_type": "code",
   "execution_count": null,
   "metadata": {},
   "outputs": [],
   "source": [
    "# Create the subplot below\n",
    "# Use the top_20 dataframe for the barplot\n",
    "# Use the philippines dataframe for the scatterplot\n",
    "# Use a figure size of 12 by 12\n",
    "\n",
    "plt.figure(figsize=(12, 12));\n",
    "plt.subplot(1,2,1)\n",
    "sns.barplot(data=top_20, x='loan_amount', y='region')\n",
    "plt.title('Loan Amount vs Region Bar Plot')\n",
    "plt.xlabel('Loan Amount')\n",
    "plt.ylabel('Region')\n",
    "\n",
    "plt.subplot(1,2,2)\n",
    "sns.scatterplot(data= philippines, x='funded_amount', y='lender_count', hue='sector')\n",
    "plt.title('Funded Amount vs Lender Count Bar Scatter Plot')\n",
    "plt.xlabel('Funded Amount')\n",
    "plt.ylabel('Lender Count')\n",
    "plt.legend(loc='upper left')\n",
    "plt.tight_layout()"
   ]
  },
  {
   "cell_type": "code",
   "execution_count": null,
   "metadata": {},
   "outputs": [],
   "source": [
    "# Create the four subplots below\n",
    "# Plot 1 - philippines dataframe\n",
    "# PLot 2 - top_20 dataframe\n",
    "# Plot 3  - philippines dataframe\n",
    "# Plot 4  - philippines dataframe\n",
    "\n",
    "plt.figure(figsize=(18, 18))\n",
    "plt.subplot(2,2,1)\n",
    "sns.histplot(data=philippines, x='loan_amount', color='red')\n",
    "sns.histplot(data=philippines, x='funded_amount', color='blue')\n",
    "plt.xlabel('Loan Amount / Funded Amount')\n",
    "plt.ylabel('Count')\n",
    "plt.title('Loan Amount / Funded Amount Hist PLot')\n",
    "\n",
    "plt.subplot(2,2,2)\n",
    "sns.barplot(data=top_20, x='region', y='loan_amount')\n",
    "plt.xticks(rotation=90)\n",
    "plt.xlabel('Region')\n",
    "plt.ylabel('Loan Amount')\n",
    "plt.title('Region VS Loan Amount Bar PLot')\n",
    "\n",
    "plt.subplot(2,2,3)\n",
    "sns.lineplot(data=philippines, x='funded_amount', y='lender_count')\n",
    "plt.xlabel('Funded Amount')\n",
    "plt.ylabel('Lender Count')\n",
    "plt.title('Funded Amount VS Lender Count Line PLot')\n",
    "\n",
    "plt.subplot(2,2,4)\n",
    "sns.lineplot(data=philippines, x='loan_amount', y='lender_count')\n",
    "plt.xlabel('Loan Amount')\n",
    "plt.ylabel('Lender Count')\n",
    "plt.title('Loan Amount VS Lender Count Line PLot')\n",
    "plt.tight_layout()"
   ]
  },
  {
   "cell_type": "markdown",
   "metadata": {},
   "source": [
    "# Matplotlib Figures & Axes with Seaborn"
   ]
  },
  {
   "cell_type": "markdown",
   "metadata": {},
   "source": [
    "Creates two subplots and unpack them. Create a figure and a set of subplots"
   ]
  },
  {
   "cell_type": "code",
   "execution_count": null,
   "metadata": {},
   "outputs": [],
   "source": [
    "# Create the subplot below using figure and axes\n",
    "# Plot 1 - top_20 dataframe\n",
    "# Plot 2 - scatterplot using the philippines dataset\n",
    "\n",
    "fig, axes = plt.subplots(1, 2, figsize=(16, 8))\n",
    "f = sns.barplot(data=top_20, x='loan_amount', y='region', ax=axes[0])\n",
    "f.set_title('Loan Amount VS Region Bar Plot')\n",
    "f.set_xlabel('Loan Amount')\n",
    "f.set_ylabel('Region')\n",
    "\n",
    "g = sns.scatterplot(data=philippines, x='funded_amount', y='lender_count', hue='sector', ax=axes[1])\n",
    "g.set_title('Funded Amount VS Lender Count Bar Plot')\n",
    "g.set_xlabel('Funded Amount')\n",
    "g.set_ylabel('Lender Count')\n",
    "\n",
    "plt.tight_layout()\n"
   ]
  },
  {
   "cell_type": "code",
   "execution_count": null,
   "metadata": {},
   "outputs": [],
   "source": [
    "# Use figure and axes to create the subplot below\n",
    "\n",
    "fig, axes = plt.subplots(2, 2, figsize=(18,18))\n",
    "f = sns.histplot(data=philippines, x='loan_amount', ax=axes[0][0])\n",
    "f.set_xlabel('Loan Amount')\n",
    "f.set_ylabel('Count')\n",
    "f.set_title('Loan Amount Hist PLot')\n",
    "f.set_ylim(10000)\n",
    "\n",
    "g = sns.barplot(data=top_20, x='loan_amount', y='region', ax=axes[0][1])\n",
    "g.set_xlabel('Loan Amount')\n",
    "g.set_ylabel('Region')\n",
    "g.set_title('Loan Amount VS Region Bar PLot')\n",
    "\n",
    "h = sns.lineplot(data=philippines, x='funded_amount', y='lender_count', ax=axes[1][0])\n",
    "h.set_xlabel('Funded Amount')\n",
    "h.set_ylabel('Lender Count')\n",
    "h.set_title('Funded Amount VS Lender Count Line PLot')\n",
    "\n",
    "b = sns.lineplot(data=philippines, x='loan_amount', y='lender_count', ax=axes[1][1])\n",
    "b.set_xlabel('Loan Amount')\n",
    "b.set_ylabel('Lender Count')\n",
    "b.set_title('Loan Amount VS Lender Count Line PLot')\n",
    "plt.tight_layout()"
   ]
  },
  {
   "cell_type": "markdown",
   "metadata": {},
   "source": [
    "# Matrix Visualization"
   ]
  },
  {
   "cell_type": "markdown",
   "metadata": {},
   "source": [
    "Plot rectangular data as a color-encoded matrix"
   ]
  },
  {
   "cell_type": "code",
   "execution_count": null,
   "metadata": {},
   "outputs": [],
   "source": [
    "# Create and display the correlation between the philippines dataframe\n",
    "# Store the correlation a variable called corr\n",
    "\n",
    "corr = philippines.corr(numeric_only=True)\n",
    "corr.head(2)"
   ]
  },
  {
   "cell_type": "code",
   "execution_count": null,
   "metadata": {},
   "outputs": [],
   "source": [
    "# Drop the unnecessary columns and rows from the corr\n",
    "# Display corr\n",
    "\n",
    "corr.drop(columns=['id', 'partner_id', 'Partner ID'], inplace=True)\n",
    "corr.drop(['id', 'partner_id', 'Partner ID'], inplace=True)\n",
    "corr"
   ]
  },
  {
   "cell_type": "code",
   "execution_count": null,
   "metadata": {},
   "outputs": [],
   "source": [
    "# Create the heatmap of the corr\n",
    "\n",
    "sns.heatmap(corr)"
   ]
  },
  {
   "cell_type": "code",
   "execution_count": null,
   "metadata": {},
   "outputs": [],
   "source": [
    "# Create the heatmap of the corr using the color map below\n",
    "xticklabels = ['Funded Amount', 'Loan Amount', 'Term In Months', 'Lender Count', 'Year']\n",
    "yticklabels = ['Funded Amount', 'Loan Amount', 'Term In Months', 'Lender Count', 'Year']\n",
    "fig = sns.heatmap(corr, cmap='coolwarm', annot=True, fmt='.2f', annot_kws=None, linewidths=1, \n",
    "                  linecolor='white', xticklabels=xticklabels, yticklabels=yticklabels,\n",
    "                 vmin=-1, vmax=1);\n",
    "fig.set_xticklabels(fig.get_xticklabels(), rotation=45);\n",
    "fig.set_title('Correlation Matrix of Philippines DataFrame Heatmap', fontweight='bold');"
   ]
  },
  {
   "cell_type": "markdown",
   "metadata": {},
   "source": [
    "# Visualize Linear Relationships"
   ]
  },
  {
   "cell_type": "code",
   "execution_count": null,
   "metadata": {},
   "outputs": [],
   "source": [
    "# Use the philippines dataframe\n",
    "# Create a regression plot of the funded_amount against the lender_count\n",
    "\n",
    "plt.figure(figsize=(12, 5))\n",
    "g = sns.regplot(data=philippines, x='funded_amount', y='lender_count');\n",
    "g.set_xlabel('Funded Amount')\n",
    "g.set_ylabel('Lender Count')\n",
    "g.set_title('Funded Amount VS Lender Count Regression Plot')"
   ]
  },
  {
   "cell_type": "code",
   "execution_count": null,
   "metadata": {},
   "outputs": [],
   "source": [
    "# Use the philippines dataframe\n",
    "# Create a lmplot of the funded_amount against the lender_count\n",
    "\n",
    "f = sns.lmplot(data=philippines, x='funded_amount', y='lender_count', height=8);\n",
    "f.set_xlabels('Funded Amount')\n",
    "f.set_ylabels('Lender Count')\n",
    "plt.suptitle('Funded Amount VS Lender Count LmPlot')\n",
    "plt.tight_layout()"
   ]
  },
  {
   "cell_type": "code",
   "execution_count": null,
   "metadata": {},
   "outputs": [],
   "source": [
    "# Use the philippines dataframe\n",
    "# Create a lmplot of the funded_amount against the lender_count\n",
    "# Use the sector as the hue\n",
    "\n",
    "f = sns.lmplot(data=philippines[:100], x='funded_amount', y='lender_count', hue='sector', height=8);\n",
    "f.set_xlabels('Funded Amount')\n",
    "f.set_ylabels('Lender Count')\n",
    "plt.suptitle('Funded Amount VS Lender Count with Hue LmPlot')\n",
    "plt.tight_layout()"
   ]
  },
  {
   "cell_type": "code",
   "execution_count": null,
   "metadata": {},
   "outputs": [],
   "source": [
    "# Use the philippines dataframe to create the plot below\n",
    "\n",
    "f = sns.lmplot(data=philippines, x='funded_amount', y='lender_count', col='day', height=4, col_wrap=3);\n",
    "f.set_xlabels('Funded Amount')\n",
    "f.set_ylabels('Lender Count')\n",
    "plt.suptitle('Funded Amount VS Lender Count with Columns Day LmPlot')\n",
    "plt.tight_layout()\n"
   ]
  },
  {
   "cell_type": "code",
   "execution_count": null,
   "metadata": {},
   "outputs": [],
   "source": [
    "# Use the philippines dataframe to create the plot below\n",
    "\n",
    "f = sns.lmplot(data=philippines, x='funded_amount', y='lender_count', col='month', height=4, col_wrap=3);\n",
    "f.set_xlabels('Funded Amount')\n",
    "f.set_ylabels('Lender Count')\n",
    "plt.suptitle('Funded Amount VS Lender Count with Columns Month LmPlot')\n",
    "plt.tight_layout()"
   ]
  },
  {
   "cell_type": "code",
   "execution_count": null,
   "metadata": {},
   "outputs": [],
   "source": [
    "# Use the philippines dataframe to create the plot below\n",
    "\n",
    "plt.figure(figsize=(12,5))\n",
    "sns.jointplot(data=philippines, x='funded_amount', y='lender_count', kind='reg');\n",
    "plt.xlabel('Funded Amount')\n",
    "plt.ylabel('Lender Count')\n",
    "plt.title('Funded Amount VS Lender Count with Hue LmPlot')\n",
    "plt.tight_layout()"
   ]
  },
  {
   "cell_type": "markdown",
   "metadata": {},
   "source": [
    "# Seaborn Multi-Plot Grids"
   ]
  },
  {
   "cell_type": "code",
   "execution_count": null,
   "metadata": {},
   "outputs": [],
   "source": [
    "# Display the head sector\n",
    "\n",
    "sector.head()"
   ]
  },
  {
   "cell_type": "code",
   "execution_count": null,
   "metadata": {},
   "outputs": [],
   "source": [
    "# Use the philippines\n",
    "# Create the plot using a FacetGrid\n",
    "\n",
    "g = sns.FacetGrid(philippines, col='day', height=5, aspect=0.5)\n",
    "g.map(sns.scatterplot, 'funded_amount', 'lender_count', color='orange')\n",
    "g.set_xlabels('Funded Amount')\n",
    "g.set_ylabels('Lender Count')\n",
    "plt.suptitle('Funded Amount VS Lender Count on FacetGrid')\n",
    "plt.tight_layout()"
   ]
  },
  {
   "cell_type": "code",
   "execution_count": null,
   "metadata": {},
   "outputs": [],
   "source": [
    "g = sns.FacetGrid(philippines, col=\"day\",height=7, aspect=0.3,hue=\"sector\")\n",
    "g.map(plt.scatter, \"funded_amount\", \"lender_count\", alpha=.7)\n",
    "g.add_legend()"
   ]
  },
  {
   "cell_type": "code",
   "execution_count": null,
   "metadata": {},
   "outputs": [],
   "source": [
    "# Use the philippines\n",
    "# Create the plot using a FacetGrid\n",
    "\n",
    "g = sns.FacetGrid(philippines, row='day', height=2, aspect=3)\n",
    "g.map(sns.lineplot, 'funded_amount', 'lender_count', color='green')\n",
    "g.set_xlabels('Funded Amount')\n",
    "g.set_ylabels('Lender Count')\n",
    "plt.suptitle('Funded Amount VS Lender Count Line Plot on FacetGrid')\n",
    "plt.tight_layout()"
   ]
  },
  {
   "cell_type": "code",
   "execution_count": null,
   "metadata": {},
   "outputs": [],
   "source": [
    "# Use the philippines\n",
    "# Create the plot using a FacetGrid\n",
    "\n",
    "g = sns.pairplot(philippines)\n",
    "g.map(sns.scatterplot)"
   ]
  },
  {
   "cell_type": "code",
   "execution_count": null,
   "metadata": {},
   "outputs": [],
   "source": [
    "# Use the philippines\n",
    "# Create the plot using a FacetGrid\n",
    "\n",
    "g = sns.pairplot(philippines, kind='scatter', hue='sector')\n",
    "g.add_legend()"
   ]
  },
  {
   "cell_type": "markdown",
   "metadata": {},
   "source": [
    "# Word Cloud Section"
   ]
  },
  {
   "cell_type": "code",
   "execution_count": null,
   "metadata": {},
   "outputs": [],
   "source": [
    "philippines.head(2)"
   ]
  },
  {
   "cell_type": "code",
   "execution_count": 57,
   "metadata": {},
   "outputs": [
    {
     "data": {
      "text/plain": [
       "(np.float64(-0.5), np.float64(1499.5), np.float64(999.5), np.float64(-0.5))"
      ]
     },
     "execution_count": 57,
     "metadata": {},
     "output_type": "execute_result"
    },
    {
     "data": {
      "image/png": "[encoded data removed]",
      "text/plain": [
       "<Figure size 1200x1000 with 1 Axes>"
      ]
     },
     "metadata": {},
     "output_type": "display_data"
    }
   ],
   "source": [
    "# Use the philippines dataset\n",
    "# Create the wordcloud below\n",
    "from wordcloud import WordCloud, STOPWORDS\n",
    "\n",
    "text = ' '.join(philippines.use[:100])\n",
    "wordcloud = WordCloud(width=1500, height=1000, stopwords=STOPWORDS).generate(text)\n",
    "plt.figure(figsize=(12,10))\n",
    "plt.imshow(wordcloud)\n",
    "plt.axis('off')\n"
   ]
  },
  {
   "cell_type": "code",
   "execution_count": 64,
   "metadata": {},
   "outputs": [
    {
     "data": {
      "text/plain": [
       "(np.float64(-0.5), np.float64(999.5), np.float64(799.5), np.float64(-0.5))"
      ]
     },
     "execution_count": 64,
     "metadata": {},
     "output_type": "execute_result"
    },
    {
     "data": {
      "image/png": "[encoded data removed]",
      "text/plain": [
       "<Figure size 1200x1000 with 1 Axes>"
      ]
     },
     "metadata": {},
     "output_type": "display_data"
    }
   ],
   "source": [
    "# Use the philippines dataset\n",
    "# Create the wordcloud below\n",
    "\n",
    "from wordcloud import WordCloud, STOPWORDS\n",
    "\n",
    "text = ' '.join(philippines.sector[:100])\n",
    "wordcloud = WordCloud(width=1000, height=800, stopwords=STOPWORDS, background_color='white').generate(text)\n",
    "plt.figure(figsize=(12,10))\n",
    "plt.imshow(wordcloud)\n",
    "plt.axis('off')"
   ]
  },
  {
   "cell_type": "markdown",
   "metadata": {},
   "source": [
    "Happy Coding!"
   ]
  }
 ],
 "metadata": {
  "kernelspec": {
   "display_name": "Python 3 (ipykernel)",
   "language": "python",
   "name": "python3"
  },
  "language_info": {
   "codemirror_mode": {
    "name": "ipython",
    "version": 3
   },
   "file_extension": ".py",
   "mimetype": "text/x-python",
   "name": "python",
   "nbconvert_exporter": "python",
   "pygments_lexer": "ipython3",
   "version": "3.12.3"
  }
 },
 "nbformat": 4,
 "nbformat_minor": 4
}
