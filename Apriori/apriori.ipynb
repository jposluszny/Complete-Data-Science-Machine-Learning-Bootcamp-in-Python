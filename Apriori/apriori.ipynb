{
  "nbformat": 4,
  "nbformat_minor": 0,
  "metadata": {
    "colab": {
      "name": "apriori.ipynb",
      "provenance": []
    },
    "kernelspec": {
      "name": "python3",
      "display_name": "Python 3"
    }
  },
  "cells": [
    {
      "cell_type": "markdown",
      "metadata": {
        "id": "rQIujCTc-X1r",
        "colab_type": "text"
      },
      "source": [
        "**Association Rule Mining**\n",
        "\n",
        "Association Rule Mining can be used to discover relationship between various prodcts. This informtion can be used to maximize profit and influence product placement decisions. For example, since milk and bread are usually bought together a retail shop can place them in close proximity. On the hand a retail store can separate them so that the customer walks a little in the store,as a result they might see and buy new products. Finding the relationship between various products is what we are refering to as  **Association Rule Mining**.\n",
        "\n",
        "\n",
        "**Apriori Concepts**\n",
        "\n",
        "Let's look at the concepts we need to understand before we start using Apriori. We'll assume we have 500 customer transactions. In this 500, 150 contain bread and 200 contain milk. Out of the 150 transactions with  bread, 100 of them also have milk. \n",
        "\n",
        "\n",
        "\n",
        "**Support**\n",
        "The ratio of transactions of a particular item compared to the total number of transaction. For example the support for bread is \n",
        "\n",
        "**Support(Bread) = (Transactions containing Bread)/(Total Transactions)= 150/500 = 30%**\n",
        "\n",
        "\n",
        "\n",
        "**Support(Milk) = (Transactions containing Milk)/(Total Transactions)**= \n",
        "**200/500 = 40%**\n",
        "\n",
        "**Confidence**\n",
        "Determines the probability that when item A is bought, item B is also bought. Calculated by finding the number of times A and B are bought together and dividing that by total number of transactions where A is bought.\n",
        "\n",
        "\n",
        "**Confidence(A B) = (Transactions containing both (A and B))/(Transactions containing A)** \n",
        "\n",
        "The probability of buying milk when bread is bought is Confidence(Bread Milk) = (Transactions containing both (Bread and Milk))/(Transactions containing Bread) = 100/150 = 67%\n",
        "\n",
        "\n",
        "\n",
        "**Lift**\n",
        "\n",
        "\n",
        "Lift(Bread Milk) = (Confidence (Bread Milk))/(Support (Milk)) \n",
        "**= (100/150)/(200/500)= 1.67,**\n",
        " meaning that the probability of buying Bread and milk together is 1.67 times more than just buying milk. If the lift is 1, then there is no association between these two items. If the lift is greater than one then there is a likelihood of these two items being bought together. If the lift is less than one then the items are not likely to be bought togeter. \n",
        "\n"
      ]
    },
    {
      "cell_type": "code",
      "metadata": {
        "id": "bUeTAbqe-Wj0",
        "colab_type": "code",
        "colab": {}
      },
      "source": [
        "import pandas as pd"
      ],
      "execution_count": null,
      "outputs": []
    },
    {
      "cell_type": "code",
      "metadata": {
        "id": "yL0TS1C7hzoX",
        "colab_type": "code",
        "colab": {}
      },
      "source": [
        "df = pd.read_csv('Online Retail.csv')"
      ],
      "execution_count": 18,
      "outputs": []
    },
    {
      "cell_type": "code",
      "metadata": {
        "id": "Rr8cxVOUh7RQ",
        "colab_type": "code",
        "colab": {
          "base_uri": "https://localhost:8080/",
          "height": 358
        },
        "outputId": "b733bf0c-2ff6-4927-f17a-14712f427b01"
      },
      "source": [
        "df.head()"
      ],
      "execution_count": 19,
      "outputs": [
        {
          "output_type": "execute_result",
          "data": {
            "text/html": [
              "<div>\n",
              "<style scoped>\n",
              "    .dataframe tbody tr th:only-of-type {\n",
              "        vertical-align: middle;\n",
              "    }\n",
              "\n",
              "    .dataframe tbody tr th {\n",
              "        vertical-align: top;\n",
              "    }\n",
              "\n",
              "    .dataframe thead th {\n",
              "        text-align: right;\n",
              "    }\n",
              "</style>\n",
              "<table border=\"1\" class=\"dataframe\">\n",
              "  <thead>\n",
              "    <tr style=\"text-align: right;\">\n",
              "      <th></th>\n",
              "      <th>InvoiceNo</th>\n",
              "      <th>StockCode</th>\n",
              "      <th>Description</th>\n",
              "      <th>Quantity</th>\n",
              "      <th>InvoiceDate</th>\n",
              "      <th>UnitPrice</th>\n",
              "      <th>CustomerID</th>\n",
              "      <th>Country</th>\n",
              "    </tr>\n",
              "  </thead>\n",
              "  <tbody>\n",
              "    <tr>\n",
              "      <th>0</th>\n",
              "      <td>536365</td>\n",
              "      <td>85123A</td>\n",
              "      <td>WHITE HANGING HEART T-LIGHT HOLDER</td>\n",
              "      <td>6</td>\n",
              "      <td>01/12/2010 08:26</td>\n",
              "      <td>2.55</td>\n",
              "      <td>17850.0</td>\n",
              "      <td>United Kingdom</td>\n",
              "    </tr>\n",
              "    <tr>\n",
              "      <th>1</th>\n",
              "      <td>536365</td>\n",
              "      <td>71053</td>\n",
              "      <td>WHITE METAL LANTERN</td>\n",
              "      <td>6</td>\n",
              "      <td>01/12/2010 08:26</td>\n",
              "      <td>3.39</td>\n",
              "      <td>17850.0</td>\n",
              "      <td>United Kingdom</td>\n",
              "    </tr>\n",
              "    <tr>\n",
              "      <th>2</th>\n",
              "      <td>536365</td>\n",
              "      <td>84406B</td>\n",
              "      <td>CREAM CUPID HEARTS COAT HANGER</td>\n",
              "      <td>8</td>\n",
              "      <td>01/12/2010 08:26</td>\n",
              "      <td>2.75</td>\n",
              "      <td>17850.0</td>\n",
              "      <td>United Kingdom</td>\n",
              "    </tr>\n",
              "    <tr>\n",
              "      <th>3</th>\n",
              "      <td>536365</td>\n",
              "      <td>84029G</td>\n",
              "      <td>KNITTED UNION FLAG HOT WATER BOTTLE</td>\n",
              "      <td>6</td>\n",
              "      <td>01/12/2010 08:26</td>\n",
              "      <td>3.39</td>\n",
              "      <td>17850.0</td>\n",
              "      <td>United Kingdom</td>\n",
              "    </tr>\n",
              "    <tr>\n",
              "      <th>4</th>\n",
              "      <td>536365</td>\n",
              "      <td>84029E</td>\n",
              "      <td>RED WOOLLY HOTTIE WHITE HEART.</td>\n",
              "      <td>6</td>\n",
              "      <td>01/12/2010 08:26</td>\n",
              "      <td>3.39</td>\n",
              "      <td>17850.0</td>\n",
              "      <td>United Kingdom</td>\n",
              "    </tr>\n",
              "  </tbody>\n",
              "</table>\n",
              "</div>"
            ],
            "text/plain": [
              "  InvoiceNo StockCode  ... CustomerID         Country\n",
              "0    536365    85123A  ...    17850.0  United Kingdom\n",
              "1    536365     71053  ...    17850.0  United Kingdom\n",
              "2    536365    84406B  ...    17850.0  United Kingdom\n",
              "3    536365    84029G  ...    17850.0  United Kingdom\n",
              "4    536365    84029E  ...    17850.0  United Kingdom\n",
              "\n",
              "[5 rows x 8 columns]"
            ]
          },
          "metadata": {
            "tags": []
          },
          "execution_count": 19
        }
      ]
    },
    {
      "cell_type": "code",
      "metadata": {
        "id": "qpVrYnpujUnh",
        "colab_type": "code",
        "colab": {
          "base_uri": "https://localhost:8080/",
          "height": 139
        },
        "outputId": "22a741f3-06fa-48e9-d7e5-e4d017172e01"
      },
      "source": [
        "list(df[df['InvoiceNo'] == '536365']['Description'])"
      ],
      "execution_count": 20,
      "outputs": [
        {
          "output_type": "execute_result",
          "data": {
            "text/plain": [
              "['WHITE HANGING HEART T-LIGHT HOLDER',\n",
              " 'WHITE METAL LANTERN',\n",
              " 'CREAM CUPID HEARTS COAT HANGER',\n",
              " 'KNITTED UNION FLAG HOT WATER BOTTLE',\n",
              " 'RED WOOLLY HOTTIE WHITE HEART.',\n",
              " 'SET 7 BABUSHKA NESTING BOXES',\n",
              " 'GLASS STAR FROSTED T-LIGHT HOLDER']"
            ]
          },
          "metadata": {
            "tags": []
          },
          "execution_count": 20
        }
      ]
    },
    {
      "cell_type": "code",
      "metadata": {
        "id": "p5SyX_xHh--N",
        "colab_type": "code",
        "colab": {
          "base_uri": "https://localhost:8080/",
          "height": 277
        },
        "outputId": "fd1058c3-be61-4be8-c623-965d453cddc1"
      },
      "source": [
        "df.info()"
      ],
      "execution_count": 21,
      "outputs": [
        {
          "output_type": "stream",
          "text": [
            "<class 'pandas.core.frame.DataFrame'>\n",
            "RangeIndex: 541909 entries, 0 to 541908\n",
            "Data columns (total 8 columns):\n",
            " #   Column       Non-Null Count   Dtype  \n",
            "---  ------       --------------   -----  \n",
            " 0   InvoiceNo    541909 non-null  object \n",
            " 1   StockCode    541909 non-null  object \n",
            " 2   Description  540455 non-null  object \n",
            " 3   Quantity     541909 non-null  int64  \n",
            " 4   InvoiceDate  541909 non-null  object \n",
            " 5   UnitPrice    541909 non-null  float64\n",
            " 6   CustomerID   406829 non-null  float64\n",
            " 7   Country      541909 non-null  object \n",
            "dtypes: float64(2), int64(1), object(5)\n",
            "memory usage: 33.1+ MB\n"
          ],
          "name": "stdout"
        }
      ]
    },
    {
      "cell_type": "code",
      "metadata": {
        "id": "kP4vVMhWiF1y",
        "colab_type": "code",
        "colab": {}
      },
      "source": [
        "df.dropna(inplace=True)"
      ],
      "execution_count": 22,
      "outputs": []
    },
    {
      "cell_type": "code",
      "metadata": {
        "id": "LC8EqbDCiM7_",
        "colab_type": "code",
        "colab": {
          "base_uri": "https://localhost:8080/",
          "height": 35
        },
        "outputId": "8405c4cd-67ff-4f28-d3e4-e0f2d93488f6"
      },
      "source": [
        "!pip install apyori"
      ],
      "execution_count": 23,
      "outputs": [
        {
          "output_type": "stream",
          "text": [
            "Requirement already satisfied: apyori in /usr/local/lib/python3.6/dist-packages (1.1.2)\n"
          ],
          "name": "stdout"
        }
      ]
    },
    {
      "cell_type": "code",
      "metadata": {
        "id": "b-jNnh37iaDe",
        "colab_type": "code",
        "colab": {}
      },
      "source": [
        "from apyori import apriori"
      ],
      "execution_count": 24,
      "outputs": []
    },
    {
      "cell_type": "code",
      "metadata": {
        "id": "YUH65andj0rn",
        "colab_type": "code",
        "colab": {}
      },
      "source": [
        "invoices = df['InvoiceNo'].unique()"
      ],
      "execution_count": 25,
      "outputs": []
    },
    {
      "cell_type": "code",
      "metadata": {
        "id": "8t6lW-Vwj7s3",
        "colab_type": "code",
        "colab": {
          "base_uri": "https://localhost:8080/",
          "height": 52
        },
        "outputId": "e34fb212-ba7c-4d0c-c15f-80b0d281eb9a"
      },
      "source": [
        "invoices"
      ],
      "execution_count": 26,
      "outputs": [
        {
          "output_type": "execute_result",
          "data": {
            "text/plain": [
              "array(['536365', '536366', '536367', ..., '581585', '581586', '581587'],\n",
              "      dtype=object)"
            ]
          },
          "metadata": {
            "tags": []
          },
          "execution_count": 26
        }
      ]
    },
    {
      "cell_type": "code",
      "metadata": {
        "id": "YceAhht-igUe",
        "colab_type": "code",
        "colab": {}
      },
      "source": [
        "apriori_list = []\n",
        "for invoice in invoices:\n",
        "  apriori_list.append(list(df[df['InvoiceNo'] == invoice]['Description']))\n",
        "  "
      ],
      "execution_count": 27,
      "outputs": []
    },
    {
      "cell_type": "code",
      "metadata": {
        "id": "fF7EGe17jwNK",
        "colab_type": "code",
        "colab": {}
      },
      "source": [
        "# apriori_list"
      ],
      "execution_count": 29,
      "outputs": []
    },
    {
      "cell_type": "code",
      "metadata": {
        "id": "BD8awpmN2PAS",
        "colab_type": "code",
        "colab": {}
      },
      "source": [
        "association_rules = apriori(apriori_list,min_support = 0.009,min_confidence = 0.3,\n",
        "                            min_lift=3,min_length = 2)"
      ],
      "execution_count": 30,
      "outputs": []
    },
    {
      "cell_type": "code",
      "metadata": {
        "id": "ZpzXgcC93HDN",
        "colab_type": "code",
        "colab": {
          "base_uri": "https://localhost:8080/",
          "height": 35
        },
        "outputId": "cede7325-47cc-4370-fe64-7ec2069e8eff"
      },
      "source": [
        "association_rules"
      ],
      "execution_count": 31,
      "outputs": [
        {
          "output_type": "execute_result",
          "data": {
            "text/plain": [
              "<generator object apriori at 0x7f64fdba0f68>"
            ]
          },
          "metadata": {
            "tags": []
          },
          "execution_count": 31
        }
      ]
    },
    {
      "cell_type": "code",
      "metadata": {
        "id": "cfk4cBkv3H-u",
        "colab_type": "code",
        "colab": {}
      },
      "source": [
        "association_rules = list(association_rules)"
      ],
      "execution_count": 32,
      "outputs": []
    },
    {
      "cell_type": "code",
      "metadata": {
        "id": "NCvhSlyH3MxE",
        "colab_type": "code",
        "colab": {
          "base_uri": "https://localhost:8080/",
          "height": 35
        },
        "outputId": "774a7f66-90b8-4e0e-c250-30b601ad0a32"
      },
      "source": [
        "len(association_rules)"
      ],
      "execution_count": 33,
      "outputs": [
        {
          "output_type": "execute_result",
          "data": {
            "text/plain": [
              "260"
            ]
          },
          "metadata": {
            "tags": []
          },
          "execution_count": 33
        }
      ]
    },
    {
      "cell_type": "code",
      "metadata": {
        "id": "Sockp1h63PVq",
        "colab_type": "code",
        "colab": {
          "base_uri": "https://localhost:8080/",
          "height": 55
        },
        "outputId": "3e662a01-8f93-4684-91c9-98fe821abb8a"
      },
      "source": [
        "association_rules[0]"
      ],
      "execution_count": 34,
      "outputs": [
        {
          "output_type": "execute_result",
          "data": {
            "text/plain": [
              "RelationRecord(items=frozenset({'60 TEATIME FAIRY CAKE CASES', '72 SWEETHEART FAIRY CAKE CASES'}), support=0.010049571879224875, ordered_statistics=[OrderedStatistic(items_base=frozenset({'60 TEATIME FAIRY CAKE CASES'}), items_add=frozenset({'72 SWEETHEART FAIRY CAKE CASES'}), confidence=0.33584337349397586, lift=14.757157342240248), OrderedStatistic(items_base=frozenset({'72 SWEETHEART FAIRY CAKE CASES'}), items_add=frozenset({'60 TEATIME FAIRY CAKE CASES'}), confidence=0.4415841584158416, lift=14.757157342240248)])"
            ]
          },
          "metadata": {
            "tags": []
          },
          "execution_count": 34
        }
      ]
    },
    {
      "cell_type": "markdown",
      "metadata": {
        "id": "SN8WcJyG3aOe",
        "colab_type": "text"
      },
      "source": [
        "RelationRecord(items=frozenset({'ALARM CLOCK BAKELIKE GREEN', 'ALARM CLOCK BAKELIKE RED '}), support=0.024155024785939613,\n",
        "\n",
        "Support of 0.024 is obtained by dividing the transactions containing 'ALARM CLOCK BAKELIKE GREEN', 'ALARM CLOCK BAKELIKE RED ' and the total number of transactions. \n",
        "\n",
        "ordered_statistics=[OrderedStatistic(items_base=frozenset({'ALARM CLOCK BAKELIKE GREEN'}), items_add=frozenset({'ALARM CLOCK BAKELIKE RED '}), confidence=0.6625463535228677, lift=16.20937550680533),\n",
        "\n",
        "The confidence of 0.66 means that of all transactions that contain **ALARM CLOCK BAKELIKE GREEN**, 66% of them contain **ALARM CLOCK BAKELIKE RED** too. \n",
        " \n",
        "\n",
        " The lift of 16 means that **ALARM CLOCK BAKELIKE RED ** is 16 times more likely to be bought alongside **ALARM CLOCK BAKELIKE GREEN**\n",
        "\n"
      ]
    },
    {
      "cell_type": "markdown",
      "metadata": {
        "id": "ZXc47prc7dAj",
        "colab_type": "text"
      },
      "source": [
        "**Exercise**"
      ]
    },
    {
      "cell_type": "code",
      "metadata": {
        "id": "KRn8-ncY7jU2",
        "colab_type": "code",
        "colab": {
          "base_uri": "https://localhost:8080/",
          "height": 107
        },
        "outputId": "419c9b6b-fcdf-477e-ba4f-a1b16952140d"
      },
      "source": [
        "!pip install efficient-apriori\n"
      ],
      "execution_count": 35,
      "outputs": [
        {
          "output_type": "stream",
          "text": [
            "Collecting efficient-apriori\n",
            "  Downloading https://files.pythonhosted.org/packages/5a/c6/ecdf3a32d23cada466634c649cf4f50fefe76f56eae53ecceff688b306be/efficient_apriori-1.1.1-py3-none-any.whl\n",
            "Installing collected packages: efficient-apriori\n",
            "Successfully installed efficient-apriori-1.1.1\n"
          ],
          "name": "stdout"
        }
      ]
    },
    {
      "cell_type": "code",
      "metadata": {
        "id": "BDLD9Gg07uYJ",
        "colab_type": "code",
        "colab": {}
      },
      "source": [
        "from efficient_apriori import apriori"
      ],
      "execution_count": 36,
      "outputs": []
    },
    {
      "cell_type": "code",
      "metadata": {
        "id": "zNU2qfH07077",
        "colab_type": "code",
        "colab": {
          "base_uri": "https://localhost:8080/",
          "height": 139
        },
        "outputId": "1272b067-c0d3-4e92-ee29-94134dd1386c"
      },
      "source": [
        "tuple(df[df['InvoiceNo'] == '536365']['Description'])"
      ],
      "execution_count": 38,
      "outputs": [
        {
          "output_type": "execute_result",
          "data": {
            "text/plain": [
              "('WHITE HANGING HEART T-LIGHT HOLDER',\n",
              " 'WHITE METAL LANTERN',\n",
              " 'CREAM CUPID HEARTS COAT HANGER',\n",
              " 'KNITTED UNION FLAG HOT WATER BOTTLE',\n",
              " 'RED WOOLLY HOTTIE WHITE HEART.',\n",
              " 'SET 7 BABUSHKA NESTING BOXES',\n",
              " 'GLASS STAR FROSTED T-LIGHT HOLDER')"
            ]
          },
          "metadata": {
            "tags": []
          },
          "execution_count": 38
        }
      ]
    },
    {
      "cell_type": "code",
      "metadata": {
        "id": "wbA4wtyq8PAa",
        "colab_type": "code",
        "colab": {}
      },
      "source": [
        "apriori_list_tuple = []\n",
        "for invoice in invoices:\n",
        "  apriori_list_tuple.append(tuple(df[df['InvoiceNo'] == invoice ]['Description']))\n",
        "  "
      ],
      "execution_count": 39,
      "outputs": []
    },
    {
      "cell_type": "code",
      "metadata": {
        "id": "se7fJYi68p24",
        "colab_type": "code",
        "colab": {}
      },
      "source": [
        "# apriori_list_tuple"
      ],
      "execution_count": 41,
      "outputs": []
    },
    {
      "cell_type": "code",
      "metadata": {
        "id": "JNruBY5A_K19",
        "colab_type": "code",
        "colab": {}
      },
      "source": [
        "itemsets, rules = apriori(apriori_list_tuple, min_support=0.009, min_confidence=0.3)"
      ],
      "execution_count": 42,
      "outputs": []
    },
    {
      "cell_type": "code",
      "metadata": {
        "id": "kTa0ZZ7y_YcE",
        "colab_type": "code",
        "colab": {}
      },
      "source": [
        "effiecient_df = pd.DataFrame(columns=['Rule','Lift'])"
      ],
      "execution_count": 43,
      "outputs": []
    },
    {
      "cell_type": "code",
      "metadata": {
        "id": "s-9iYR9t_YtM",
        "colab_type": "code",
        "colab": {
          "base_uri": "https://localhost:8080/",
          "height": 49
        },
        "outputId": "3d66c9a3-cf3a-49fc-cf7c-1d13c69e5509"
      },
      "source": [
        "effiecient_df"
      ],
      "execution_count": 44,
      "outputs": [
        {
          "output_type": "execute_result",
          "data": {
            "text/html": [
              "<div>\n",
              "<style scoped>\n",
              "    .dataframe tbody tr th:only-of-type {\n",
              "        vertical-align: middle;\n",
              "    }\n",
              "\n",
              "    .dataframe tbody tr th {\n",
              "        vertical-align: top;\n",
              "    }\n",
              "\n",
              "    .dataframe thead th {\n",
              "        text-align: right;\n",
              "    }\n",
              "</style>\n",
              "<table border=\"1\" class=\"dataframe\">\n",
              "  <thead>\n",
              "    <tr style=\"text-align: right;\">\n",
              "      <th></th>\n",
              "      <th>Rule</th>\n",
              "      <th>Lift</th>\n",
              "    </tr>\n",
              "  </thead>\n",
              "  <tbody>\n",
              "  </tbody>\n",
              "</table>\n",
              "</div>"
            ],
            "text/plain": [
              "Empty DataFrame\n",
              "Columns: [Rule, Lift]\n",
              "Index: []"
            ]
          },
          "metadata": {
            "tags": []
          },
          "execution_count": 44
        }
      ]
    },
    {
      "cell_type": "code",
      "metadata": {
        "id": "n87jopRcBzn3",
        "colab_type": "code",
        "colab": {}
      },
      "source": [
        "e_rules = []\n",
        "lift = []"
      ],
      "execution_count": 45,
      "outputs": []
    },
    {
      "cell_type": "code",
      "metadata": {
        "id": "ClnvKaDhB68u",
        "colab_type": "code",
        "colab": {}
      },
      "source": [
        "for rule in rules:\n",
        "  e_rules.append(rule)\n",
        "  lift.append(rule.lift)"
      ],
      "execution_count": 46,
      "outputs": []
    },
    {
      "cell_type": "code",
      "metadata": {
        "id": "WES18VE6CISa",
        "colab_type": "code",
        "colab": {}
      },
      "source": [
        "effiecient_df['Rule'] = e_rules\n",
        "effiecient_df['Lift'] = lift"
      ],
      "execution_count": 47,
      "outputs": []
    },
    {
      "cell_type": "code",
      "metadata": {
        "id": "1IpPxk0-CRWS",
        "colab_type": "code",
        "colab": {
          "base_uri": "https://localhost:8080/",
          "height": 202
        },
        "outputId": "43d76865-b784-4b39-be75-5fdcfd44b76d"
      },
      "source": [
        "effiecient_df.head()"
      ],
      "execution_count": 48,
      "outputs": [
        {
          "output_type": "execute_result",
          "data": {
            "text/html": [
              "<div>\n",
              "<style scoped>\n",
              "    .dataframe tbody tr th:only-of-type {\n",
              "        vertical-align: middle;\n",
              "    }\n",
              "\n",
              "    .dataframe tbody tr th {\n",
              "        vertical-align: top;\n",
              "    }\n",
              "\n",
              "    .dataframe thead th {\n",
              "        text-align: right;\n",
              "    }\n",
              "</style>\n",
              "<table border=\"1\" class=\"dataframe\">\n",
              "  <thead>\n",
              "    <tr style=\"text-align: right;\">\n",
              "      <th></th>\n",
              "      <th>Rule</th>\n",
              "      <th>Lift</th>\n",
              "    </tr>\n",
              "  </thead>\n",
              "  <tbody>\n",
              "    <tr>\n",
              "      <th>0</th>\n",
              "      <td>{LOVE BUILDING BLOCK WORD} -&gt; {HOME BUILDING B...</td>\n",
              "      <td>15.650808</td>\n",
              "    </tr>\n",
              "    <tr>\n",
              "      <th>1</th>\n",
              "      <td>{HOME BUILDING BLOCK WORD} -&gt; {LOVE BUILDING B...</td>\n",
              "      <td>15.650808</td>\n",
              "    </tr>\n",
              "    <tr>\n",
              "      <th>2</th>\n",
              "      <td>{POPPY'S PLAYHOUSE KITCHEN} -&gt; {POPPY'S PLAYHO...</td>\n",
              "      <td>50.825466</td>\n",
              "    </tr>\n",
              "    <tr>\n",
              "      <th>3</th>\n",
              "      <td>{POPPY'S PLAYHOUSE BEDROOM } -&gt; {POPPY'S PLAYH...</td>\n",
              "      <td>50.825466</td>\n",
              "    </tr>\n",
              "    <tr>\n",
              "      <th>4</th>\n",
              "      <td>{ALARM CLOCK BAKELIKE PINK} -&gt; {ALARM CLOCK BA...</td>\n",
              "      <td>15.000875</td>\n",
              "    </tr>\n",
              "  </tbody>\n",
              "</table>\n",
              "</div>"
            ],
            "text/plain": [
              "                                                Rule       Lift\n",
              "0  {LOVE BUILDING BLOCK WORD} -> {HOME BUILDING B...  15.650808\n",
              "1  {HOME BUILDING BLOCK WORD} -> {LOVE BUILDING B...  15.650808\n",
              "2  {POPPY'S PLAYHOUSE KITCHEN} -> {POPPY'S PLAYHO...  50.825466\n",
              "3  {POPPY'S PLAYHOUSE BEDROOM } -> {POPPY'S PLAYH...  50.825466\n",
              "4  {ALARM CLOCK BAKELIKE PINK} -> {ALARM CLOCK BA...  15.000875"
            ]
          },
          "metadata": {
            "tags": []
          },
          "execution_count": 48
        }
      ]
    },
    {
      "cell_type": "code",
      "metadata": {
        "id": "R1mtyW9cCTFb",
        "colab_type": "code",
        "colab": {}
      },
      "source": [
        "effiecient_df = effiecient_df.sort_values('Lift',ascending=False)"
      ],
      "execution_count": 49,
      "outputs": []
    },
    {
      "cell_type": "code",
      "metadata": {
        "id": "hMRUdXM5CgXc",
        "colab_type": "code",
        "colab": {
          "base_uri": "https://localhost:8080/",
          "height": 202
        },
        "outputId": "c058eb87-b692-4d91-ddda-3fe322e2f265"
      },
      "source": [
        "effiecient_df.head()"
      ],
      "execution_count": 50,
      "outputs": [
        {
          "output_type": "execute_result",
          "data": {
            "text/html": [
              "<div>\n",
              "<style scoped>\n",
              "    .dataframe tbody tr th:only-of-type {\n",
              "        vertical-align: middle;\n",
              "    }\n",
              "\n",
              "    .dataframe tbody tr th {\n",
              "        vertical-align: top;\n",
              "    }\n",
              "\n",
              "    .dataframe thead th {\n",
              "        text-align: right;\n",
              "    }\n",
              "</style>\n",
              "<table border=\"1\" class=\"dataframe\">\n",
              "  <thead>\n",
              "    <tr style=\"text-align: right;\">\n",
              "      <th></th>\n",
              "      <th>Rule</th>\n",
              "      <th>Lift</th>\n",
              "    </tr>\n",
              "  </thead>\n",
              "  <tbody>\n",
              "    <tr>\n",
              "      <th>322</th>\n",
              "      <td>{REGENCY TEA PLATE GREEN } -&gt; {REGENCY TEA PLA...</td>\n",
              "      <td>71.340460</td>\n",
              "    </tr>\n",
              "    <tr>\n",
              "      <th>321</th>\n",
              "      <td>{REGENCY TEA PLATE PINK} -&gt; {REGENCY TEA PLATE...</td>\n",
              "      <td>71.340460</td>\n",
              "    </tr>\n",
              "    <tr>\n",
              "      <th>320</th>\n",
              "      <td>{REGENCY MILK JUG PINK } -&gt; {REGENCY SUGAR BOW...</td>\n",
              "      <td>57.225466</td>\n",
              "    </tr>\n",
              "    <tr>\n",
              "      <th>319</th>\n",
              "      <td>{REGENCY SUGAR BOWL GREEN} -&gt; {REGENCY MILK JU...</td>\n",
              "      <td>57.225466</td>\n",
              "    </tr>\n",
              "    <tr>\n",
              "      <th>187</th>\n",
              "      <td>{POPPY'S PLAYHOUSE LIVINGROOM } -&gt; {POPPY'S PL...</td>\n",
              "      <td>56.689581</td>\n",
              "    </tr>\n",
              "  </tbody>\n",
              "</table>\n",
              "</div>"
            ],
            "text/plain": [
              "                                                  Rule       Lift\n",
              "322  {REGENCY TEA PLATE GREEN } -> {REGENCY TEA PLA...  71.340460\n",
              "321  {REGENCY TEA PLATE PINK} -> {REGENCY TEA PLATE...  71.340460\n",
              "320  {REGENCY MILK JUG PINK } -> {REGENCY SUGAR BOW...  57.225466\n",
              "319  {REGENCY SUGAR BOWL GREEN} -> {REGENCY MILK JU...  57.225466\n",
              "187  {POPPY'S PLAYHOUSE LIVINGROOM } -> {POPPY'S PL...  56.689581"
            ]
          },
          "metadata": {
            "tags": []
          },
          "execution_count": 50
        }
      ]
    },
    {
      "cell_type": "code",
      "metadata": {
        "id": "hr4KoGnpCh_y",
        "colab_type": "code",
        "colab": {}
      },
      "source": [
        "effiecient_df.to_csv('effiecient_df.csv',index=False)"
      ],
      "execution_count": 51,
      "outputs": []
    },
    {
      "cell_type": "code",
      "metadata": {
        "id": "MgGuUuZbCrp2",
        "colab_type": "code",
        "colab": {}
      },
      "source": [
        ""
      ],
      "execution_count": null,
      "outputs": []
    }
  ]
}