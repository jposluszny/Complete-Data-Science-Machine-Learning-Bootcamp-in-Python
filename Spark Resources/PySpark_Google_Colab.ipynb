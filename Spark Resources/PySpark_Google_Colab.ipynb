{
  "nbformat": 4,
  "nbformat_minor": 0,
  "metadata": {
    "colab": {
      "name": "PySpark Google Colab",
      "provenance": [],
      "collapsed_sections": []
    },
    "kernelspec": {
      "name": "python3",
      "display_name": "Python 3"
    }
  },
  "cells": [
    {
      "cell_type": "markdown",
      "metadata": {
        "id": "9IlpEL4wv85J"
      },
      "source": [
        "# **PySpark Google Colab Installation**\n"
      ]
    },
    {
      "cell_type": "code",
      "metadata": {
        "id": "-xBliB2Dv-q8",
        "outputId": "ac9a31b0-04dd-4627-edfa-4224f319fc33",
        "colab": {
          "base_uri": "https://localhost:8080/",
          "height": 106
        }
      },
      "source": [
        "!apt-get install openjdk-8-jdk-headless -qq > /dev/null\n",
        "!wget -q https://www-us.apache.org/dist/spark/spark-3.0.1/spark-3.0.1-bin-hadoop2.7.tgz\n",
        "!tar xf spark-3.0.1-bin-hadoop2.7.tgz\n",
        "!pip install findspark"
      ],
      "execution_count": null,
      "outputs": [
        {
          "output_type": "stream",
          "text": [
            "Collecting findspark\n",
            "  Downloading https://files.pythonhosted.org/packages/fc/2d/2e39f9a023479ea798eed4351cd66f163ce61e00c717e03c37109f00c0f2/findspark-1.4.2-py2.py3-none-any.whl\n",
            "Installing collected packages: findspark\n",
            "Successfully installed findspark-1.4.2\n"
          ],
          "name": "stdout"
        }
      ]
    },
    {
      "cell_type": "code",
      "metadata": {
        "id": "11b-fAigwBr0"
      },
      "source": [
        "import os\n",
        "os.environ[\"JAVA_HOME\"] = \"/usr/lib/jvm/java-8-openjdk-amd64\"\n",
        "os.environ[\"SPARK_HOME\"] = \"/content/spark-3.0.1-bin-hadoop2.7\""
      ],
      "execution_count": null,
      "outputs": []
    },
    {
      "cell_type": "code",
      "metadata": {
        "id": "Z2_3lSnKwEjs"
      },
      "source": [
        "import findspark\n",
        "findspark.init()\n"
      ],
      "execution_count": null,
      "outputs": []
    },
    {
      "cell_type": "code",
      "metadata": {
        "id": "LzAJT36owFFg"
      },
      "source": [
        "import pyspark\n",
        "sc = pyspark.SparkContext()"
      ],
      "execution_count": null,
      "outputs": []
    },
    {
      "cell_type": "code",
      "metadata": {
        "id": "dA-dH0-Nwiu-"
      },
      "source": [
        "reviews = sc.textFile('reviews.txt')"
      ],
      "execution_count": null,
      "outputs": []
    },
    {
      "cell_type": "code",
      "metadata": {
        "id": "ppYYKQi3zEu3",
        "outputId": "02843716-931a-42ed-8d07-805608e5756e",
        "colab": {
          "base_uri": "https://localhost:8080/",
          "height": 34
        }
      },
      "source": [
        "reviews"
      ],
      "execution_count": null,
      "outputs": [
        {
          "output_type": "execute_result",
          "data": {
            "text/plain": [
              "reviews.txt MapPartitionsRDD[1] at textFile at NativeMethodAccessorImpl.java:0"
            ]
          },
          "metadata": {
            "tags": []
          },
          "execution_count": 6
        }
      ]
    },
    {
      "cell_type": "code",
      "metadata": {
        "id": "2fYuzzCTzGGr",
        "outputId": "c277e88d-8ae4-4f5b-b451-73c6e7cf7fe6",
        "colab": {
          "base_uri": "https://localhost:8080/",
          "height": 208
        }
      },
      "source": [
        "reviews.collect()"
      ],
      "execution_count": null,
      "outputs": [
        {
          "output_type": "execute_result",
          "data": {
            "text/plain": [
              "['Wow... Loved this place',\n",
              " 'Crust is not good',\n",
              " 'Not tasty and the texture was just nasty',\n",
              " 'Stopped by during the late May bank holiday off Rick Steve recommendation and loved it',\n",
              " 'The selection on the menu was great and so were the prices',\n",
              " 'Now I am getting angry and I want my damn pho.',\n",
              " \"Honeslty it didn't taste THAT fresh\",\n",
              " 'The potatoes were like rubber and you could tell they had been made up ahead of time being kept under a warmer',\n",
              " 'The fries were great too',\n",
              " 'A great touch']"
            ]
          },
          "metadata": {
            "tags": []
          },
          "execution_count": 7
        }
      ]
    },
    {
      "cell_type": "code",
      "metadata": {
        "id": "dgGmYFyPzOyK",
        "outputId": "3ad60753-99fd-4c47-d144-874ecbb07169",
        "colab": {
          "base_uri": "https://localhost:8080/",
          "height": 34
        }
      },
      "source": [
        "reviews.count()"
      ],
      "execution_count": null,
      "outputs": [
        {
          "output_type": "execute_result",
          "data": {
            "text/plain": [
              "10"
            ]
          },
          "metadata": {
            "tags": []
          },
          "execution_count": 8
        }
      ]
    },
    {
      "cell_type": "code",
      "metadata": {
        "id": "J2dmIsS7zVxR",
        "outputId": "0c7c0bf9-4a1d-47b8-9256-ecd136047728",
        "colab": {
          "base_uri": "https://localhost:8080/",
          "height": 34
        }
      },
      "source": [
        "reviews.take(2)"
      ],
      "execution_count": null,
      "outputs": [
        {
          "output_type": "execute_result",
          "data": {
            "text/plain": [
              "['Wow... Loved this place', 'Crust is not good']"
            ]
          },
          "metadata": {
            "tags": []
          },
          "execution_count": 9
        }
      ]
    },
    {
      "cell_type": "markdown",
      "metadata": {
        "id": "RLOE35Trz0n5"
      },
      "source": [
        "## **Important Concepts**"
      ]
    },
    {
      "cell_type": "markdown",
      "metadata": {
        "id": "Cvtcmzzwz6fF"
      },
      "source": [
        "# Map"
      ]
    },
    {
      "cell_type": "code",
      "metadata": {
        "id": "PTe63zvvz4yJ"
      },
      "source": [
        "my_list = [2,3,4,5,6]"
      ],
      "execution_count": null,
      "outputs": []
    },
    {
      "cell_type": "code",
      "metadata": {
        "id": "hFrOhGtozgEN"
      },
      "source": [
        "def power_numbers(numbers):\n",
        "  return numbers**2"
      ],
      "execution_count": null,
      "outputs": []
    },
    {
      "cell_type": "code",
      "metadata": {
        "id": "cbdaBNW60zfG",
        "outputId": "18c0aa1a-03ee-4365-d9d2-cf11f2fce88f",
        "colab": {
          "base_uri": "https://localhost:8080/",
          "height": 34
        }
      },
      "source": [
        "map(power_numbers,my_list)"
      ],
      "execution_count": null,
      "outputs": [
        {
          "output_type": "execute_result",
          "data": {
            "text/plain": [
              "<map at 0x7f0d375aa518>"
            ]
          },
          "metadata": {
            "tags": []
          },
          "execution_count": 12
        }
      ]
    },
    {
      "cell_type": "code",
      "metadata": {
        "id": "kCC1RR2o08GL",
        "outputId": "061fb41f-8325-4c94-cc8e-d11d6059bfb1",
        "colab": {
          "base_uri": "https://localhost:8080/",
          "height": 34
        }
      },
      "source": [
        "list(map(power_numbers,my_list))"
      ],
      "execution_count": null,
      "outputs": [
        {
          "output_type": "execute_result",
          "data": {
            "text/plain": [
              "[4, 9, 16, 25, 36]"
            ]
          },
          "metadata": {
            "tags": []
          },
          "execution_count": 13
        }
      ]
    },
    {
      "cell_type": "code",
      "metadata": {
        "id": "EaPEnLyu0_94"
      },
      "source": [
        "results = map(power_numbers,my_list)"
      ],
      "execution_count": null,
      "outputs": []
    },
    {
      "cell_type": "code",
      "metadata": {
        "id": "RpfdSOCt1GdQ",
        "outputId": "be616210-c2cd-43ac-cc92-eaf877612eb7",
        "colab": {
          "base_uri": "https://localhost:8080/",
          "height": 103
        }
      },
      "source": [
        "for result in results:\n",
        "  print(result)"
      ],
      "execution_count": null,
      "outputs": [
        {
          "output_type": "stream",
          "text": [
            "4\n",
            "9\n",
            "16\n",
            "25\n",
            "36\n"
          ],
          "name": "stdout"
        }
      ]
    },
    {
      "cell_type": "markdown",
      "metadata": {
        "id": "BjmvfxF81lBv"
      },
      "source": [
        "## **Lambda Expressions**"
      ]
    },
    {
      "cell_type": "code",
      "metadata": {
        "id": "xmalFKGB1Jjx"
      },
      "source": [
        "def power_numbers(numbers):\n",
        "  return numbers**2"
      ],
      "execution_count": null,
      "outputs": []
    },
    {
      "cell_type": "code",
      "metadata": {
        "id": "3KrP3Js71wpc",
        "outputId": "8ddee6f1-cf2e-4eff-b79e-8de69d8fa443",
        "colab": {
          "base_uri": "https://localhost:8080/",
          "height": 34
        }
      },
      "source": [
        "lambda numbers:numbers**2"
      ],
      "execution_count": null,
      "outputs": [
        {
          "output_type": "execute_result",
          "data": {
            "text/plain": [
              "<function __main__.<lambda>>"
            ]
          },
          "metadata": {
            "tags": []
          },
          "execution_count": 17
        }
      ]
    },
    {
      "cell_type": "code",
      "metadata": {
        "id": "3qOesu_n134z"
      },
      "source": [
        "my_function = lambda numbers:numbers**2"
      ],
      "execution_count": null,
      "outputs": []
    },
    {
      "cell_type": "code",
      "metadata": {
        "id": "bWrLsDKT18WX",
        "outputId": "f0366ab0-6de9-456d-e340-1bec0ae20fe9",
        "colab": {
          "base_uri": "https://localhost:8080/",
          "height": 34
        }
      },
      "source": [
        "my_function(2)"
      ],
      "execution_count": null,
      "outputs": [
        {
          "output_type": "execute_result",
          "data": {
            "text/plain": [
              "4"
            ]
          },
          "metadata": {
            "tags": []
          },
          "execution_count": 19
        }
      ]
    },
    {
      "cell_type": "code",
      "metadata": {
        "id": "sGb2EShD1-pU",
        "outputId": "2cb7e99e-2374-4aa5-f022-b7146ebcca7d",
        "colab": {
          "base_uri": "https://localhost:8080/",
          "height": 34
        }
      },
      "source": [
        "list(map(my_function,my_list))"
      ],
      "execution_count": null,
      "outputs": [
        {
          "output_type": "execute_result",
          "data": {
            "text/plain": [
              "[4, 9, 16, 25, 36]"
            ]
          },
          "metadata": {
            "tags": []
          },
          "execution_count": 20
        }
      ]
    },
    {
      "cell_type": "markdown",
      "metadata": {
        "id": "3gg8jaTN2Ukw"
      },
      "source": [
        "# Filter"
      ]
    },
    {
      "cell_type": "code",
      "metadata": {
        "id": "bCuK7apc2Iri",
        "outputId": "c79c911d-28f7-48b3-e67a-343fa018c714",
        "colab": {
          "base_uri": "https://localhost:8080/",
          "height": 34
        }
      },
      "source": [
        "filter(lambda number:number>3,my_list)"
      ],
      "execution_count": null,
      "outputs": [
        {
          "output_type": "execute_result",
          "data": {
            "text/plain": [
              "<filter at 0x7f0d375cb128>"
            ]
          },
          "metadata": {
            "tags": []
          },
          "execution_count": 21
        }
      ]
    },
    {
      "cell_type": "code",
      "metadata": {
        "id": "OmsyqGC72st2",
        "outputId": "a2dc065b-35a1-4eae-8e61-90e69f2b113e",
        "colab": {
          "base_uri": "https://localhost:8080/",
          "height": 34
        }
      },
      "source": [
        "list(filter(lambda number:number>3,my_list))"
      ],
      "execution_count": null,
      "outputs": [
        {
          "output_type": "execute_result",
          "data": {
            "text/plain": [
              "[4, 5, 6]"
            ]
          },
          "metadata": {
            "tags": []
          },
          "execution_count": 22
        }
      ]
    },
    {
      "cell_type": "markdown",
      "metadata": {
        "id": "G5Hyxxbk20i1"
      },
      "source": [
        "# Reduce"
      ]
    },
    {
      "cell_type": "code",
      "metadata": {
        "id": "Aa60I1v73Hxc",
        "outputId": "84230168-95b9-4f77-ff6d-d96bd2a68d3e",
        "colab": {
          "base_uri": "https://localhost:8080/",
          "height": 34
        }
      },
      "source": [
        "my_list"
      ],
      "execution_count": null,
      "outputs": [
        {
          "output_type": "execute_result",
          "data": {
            "text/plain": [
              "[2, 3, 4, 5, 6]"
            ]
          },
          "metadata": {
            "tags": []
          },
          "execution_count": 23
        }
      ]
    },
    {
      "cell_type": "code",
      "metadata": {
        "id": "b9IW28vt2uzI",
        "outputId": "2355d44f-fe6d-4599-bd50-c21c8aeef99f",
        "colab": {
          "base_uri": "https://localhost:8080/",
          "height": 34
        }
      },
      "source": [
        "import functools\n",
        "functools.reduce(lambda x,y:x+y,my_list )"
      ],
      "execution_count": null,
      "outputs": [
        {
          "output_type": "execute_result",
          "data": {
            "text/plain": [
              "20"
            ]
          },
          "metadata": {
            "tags": []
          },
          "execution_count": 24
        }
      ]
    },
    {
      "cell_type": "markdown",
      "metadata": {
        "id": "mrtqryCj3ihg"
      },
      "source": [
        "## **Now in Spark**"
      ]
    },
    {
      "cell_type": "code",
      "metadata": {
        "id": "dcl9t5-R3ZpX",
        "outputId": "927765f9-cc37-4fa1-86b6-d4822a47b35d",
        "colab": {
          "base_uri": "https://localhost:8080/",
          "height": 208
        }
      },
      "source": [
        "reviews.collect()"
      ],
      "execution_count": null,
      "outputs": [
        {
          "output_type": "execute_result",
          "data": {
            "text/plain": [
              "['Wow... Loved this place',\n",
              " 'Crust is not good',\n",
              " 'Not tasty and the texture was just nasty',\n",
              " 'Stopped by during the late May bank holiday off Rick Steve recommendation and loved it',\n",
              " 'The selection on the menu was great and so were the prices',\n",
              " 'Now I am getting angry and I want my damn pho.',\n",
              " \"Honeslty it didn't taste THAT fresh\",\n",
              " 'The potatoes were like rubber and you could tell they had been made up ahead of time being kept under a warmer',\n",
              " 'The fries were great too',\n",
              " 'A great touch']"
            ]
          },
          "metadata": {
            "tags": []
          },
          "execution_count": 25
        }
      ]
    },
    {
      "cell_type": "markdown",
      "metadata": {
        "id": "lzXsp_QQaCR0"
      },
      "source": [
        "# Map & Lambda Expressions"
      ]
    },
    {
      "cell_type": "code",
      "metadata": {
        "id": "paaUcMTZ4AwT",
        "outputId": "da8c301f-30c1-4384-d49f-e71136beb501",
        "colab": {
          "base_uri": "https://localhost:8080/",
          "height": 34
        }
      },
      "source": [
        "reviews.map(lambda word:word.upper())"
      ],
      "execution_count": null,
      "outputs": [
        {
          "output_type": "execute_result",
          "data": {
            "text/plain": [
              "PythonRDD[4] at RDD at PythonRDD.scala:53"
            ]
          },
          "metadata": {
            "tags": []
          },
          "execution_count": 26
        }
      ]
    },
    {
      "cell_type": "code",
      "metadata": {
        "id": "GdOAKZ_B4jBt",
        "outputId": "312ed7b8-1aae-4c94-f7d9-93677566e470",
        "colab": {
          "base_uri": "https://localhost:8080/",
          "height": 208
        }
      },
      "source": [
        "reviews.map(lambda word:word.upper()).collect()"
      ],
      "execution_count": null,
      "outputs": [
        {
          "output_type": "execute_result",
          "data": {
            "text/plain": [
              "['WOW... LOVED THIS PLACE',\n",
              " 'CRUST IS NOT GOOD',\n",
              " 'NOT TASTY AND THE TEXTURE WAS JUST NASTY',\n",
              " 'STOPPED BY DURING THE LATE MAY BANK HOLIDAY OFF RICK STEVE RECOMMENDATION AND LOVED IT',\n",
              " 'THE SELECTION ON THE MENU WAS GREAT AND SO WERE THE PRICES',\n",
              " 'NOW I AM GETTING ANGRY AND I WANT MY DAMN PHO.',\n",
              " \"HONESLTY IT DIDN'T TASTE THAT FRESH\",\n",
              " 'THE POTATOES WERE LIKE RUBBER AND YOU COULD TELL THEY HAD BEEN MADE UP AHEAD OF TIME BEING KEPT UNDER A WARMER',\n",
              " 'THE FRIES WERE GREAT TOO',\n",
              " 'A GREAT TOUCH']"
            ]
          },
          "metadata": {
            "tags": []
          },
          "execution_count": 27
        }
      ]
    },
    {
      "cell_type": "code",
      "metadata": {
        "id": "EIIVB7MJ4qSh",
        "outputId": "b030aead-dc6e-4eea-8121-f32d9c3c9c78",
        "colab": {
          "base_uri": "https://localhost:8080/",
          "height": 34
        }
      },
      "source": [
        "reviews.map(lambda word:word.upper()).take(1)"
      ],
      "execution_count": null,
      "outputs": [
        {
          "output_type": "execute_result",
          "data": {
            "text/plain": [
              "['WOW... LOVED THIS PLACE']"
            ]
          },
          "metadata": {
            "tags": []
          },
          "execution_count": 28
        }
      ]
    },
    {
      "cell_type": "markdown",
      "metadata": {
        "id": "1uXkq7Q9aMiP"
      },
      "source": [
        "# Filter & Lambda Expressions"
      ]
    },
    {
      "cell_type": "code",
      "metadata": {
        "id": "SVJtix9O40x9",
        "outputId": "5e5380de-907a-48b0-927c-7bd28bb3c3a0",
        "colab": {
          "base_uri": "https://localhost:8080/",
          "height": 34
        }
      },
      "source": [
        "reviews.filter(lambda review:len(review) > 30)"
      ],
      "execution_count": null,
      "outputs": [
        {
          "output_type": "execute_result",
          "data": {
            "text/plain": [
              "PythonRDD[7] at RDD at PythonRDD.scala:53"
            ]
          },
          "metadata": {
            "tags": []
          },
          "execution_count": 29
        }
      ]
    },
    {
      "cell_type": "code",
      "metadata": {
        "id": "Zgnhi8L05LcK",
        "outputId": "2d70b04a-f112-4e95-819a-4446df48d37d",
        "colab": {
          "base_uri": "https://localhost:8080/",
          "height": 140
        }
      },
      "source": [
        "reviews.filter(lambda review:len(review) > 30).collect()"
      ],
      "execution_count": null,
      "outputs": [
        {
          "output_type": "execute_result",
          "data": {
            "text/plain": [
              "['Not tasty and the texture was just nasty',\n",
              " 'Stopped by during the late May bank holiday off Rick Steve recommendation and loved it',\n",
              " 'The selection on the menu was great and so were the prices',\n",
              " 'Now I am getting angry and I want my damn pho.',\n",
              " \"Honeslty it didn't taste THAT fresh\",\n",
              " 'The potatoes were like rubber and you could tell they had been made up ahead of time being kept under a warmer']"
            ]
          },
          "metadata": {
            "tags": []
          },
          "execution_count": 30
        }
      ]
    },
    {
      "cell_type": "code",
      "metadata": {
        "id": "SZOClfo05OXM",
        "outputId": "5e8f8820-4302-4b5f-e316-1b5974ed8ce1",
        "colab": {
          "base_uri": "https://localhost:8080/",
          "height": 243
        }
      },
      "source": [
        "reviews.map(lambda review:(review,len(review))).collect()"
      ],
      "execution_count": null,
      "outputs": [
        {
          "output_type": "execute_result",
          "data": {
            "text/plain": [
              "[('Wow... Loved this place', 23),\n",
              " ('Crust is not good', 17),\n",
              " ('Not tasty and the texture was just nasty', 40),\n",
              " ('Stopped by during the late May bank holiday off Rick Steve recommendation and loved it',\n",
              "  86),\n",
              " ('The selection on the menu was great and so were the prices', 58),\n",
              " ('Now I am getting angry and I want my damn pho.', 46),\n",
              " (\"Honeslty it didn't taste THAT fresh\", 35),\n",
              " ('The potatoes were like rubber and you could tell they had been made up ahead of time being kept under a warmer',\n",
              "  110),\n",
              " ('The fries were great too', 24),\n",
              " ('A great touch', 13)]"
            ]
          },
          "metadata": {
            "tags": []
          },
          "execution_count": 31
        }
      ]
    },
    {
      "cell_type": "markdown",
      "metadata": {
        "id": "s1IGE8z_aYji"
      },
      "source": [
        "# FlatMap & Lambda Expressions"
      ]
    },
    {
      "cell_type": "code",
      "metadata": {
        "id": "6hKKMcaW5nrc",
        "outputId": "c67a9453-0f08-45c0-a89b-8af1964d84ac",
        "colab": {
          "base_uri": "https://localhost:8080/",
          "height": 380
        }
      },
      "source": [
        "reviews.flatMap(lambda review:[review,len(review)]).collect()"
      ],
      "execution_count": null,
      "outputs": [
        {
          "output_type": "execute_result",
          "data": {
            "text/plain": [
              "['Wow... Loved this place',\n",
              " 23,\n",
              " 'Crust is not good',\n",
              " 17,\n",
              " 'Not tasty and the texture was just nasty',\n",
              " 40,\n",
              " 'Stopped by during the late May bank holiday off Rick Steve recommendation and loved it',\n",
              " 86,\n",
              " 'The selection on the menu was great and so were the prices',\n",
              " 58,\n",
              " 'Now I am getting angry and I want my damn pho.',\n",
              " 46,\n",
              " \"Honeslty it didn't taste THAT fresh\",\n",
              " 35,\n",
              " 'The potatoes were like rubber and you could tell they had been made up ahead of time being kept under a warmer',\n",
              " 110,\n",
              " 'The fries were great too',\n",
              " 24,\n",
              " 'A great touch',\n",
              " 13]"
            ]
          },
          "metadata": {
            "tags": []
          },
          "execution_count": 32
        }
      ]
    },
    {
      "cell_type": "markdown",
      "metadata": {
        "id": "HVOIJrFuZ6TK"
      },
      "source": [
        "# Create RDD from a List"
      ]
    },
    {
      "cell_type": "code",
      "metadata": {
        "id": "Jl4LaWI96BGU",
        "outputId": "c90b54b5-0c8d-40c1-960d-2ea97ec7bd7d",
        "colab": {
          "base_uri": "https://localhost:8080/",
          "height": 34
        }
      },
      "source": [
        "my_list"
      ],
      "execution_count": null,
      "outputs": [
        {
          "output_type": "execute_result",
          "data": {
            "text/plain": [
              "[2, 3, 4, 5, 6]"
            ]
          },
          "metadata": {
            "tags": []
          },
          "execution_count": 33
        }
      ]
    },
    {
      "cell_type": "code",
      "metadata": {
        "id": "oy3eeqtK6aYd",
        "outputId": "4680d0bd-9977-4f1d-e53f-46a7e57d6eb0",
        "colab": {
          "base_uri": "https://localhost:8080/",
          "height": 34
        }
      },
      "source": [
        "sc.parallelize(my_list).collect()"
      ],
      "execution_count": null,
      "outputs": [
        {
          "output_type": "execute_result",
          "data": {
            "text/plain": [
              "[2, 3, 4, 5, 6]"
            ]
          },
          "metadata": {
            "tags": []
          },
          "execution_count": 34
        }
      ]
    },
    {
      "cell_type": "markdown",
      "metadata": {
        "id": "H0NZNCx24TZs"
      },
      "source": [
        "## **Spark DataFrames**"
      ]
    },
    {
      "cell_type": "code",
      "metadata": {
        "id": "MfrIua5n6ey4"
      },
      "source": [
        "from pyspark.sql import SparkSession"
      ],
      "execution_count": null,
      "outputs": []
    },
    {
      "cell_type": "code",
      "metadata": {
        "id": "HCi3n6VC5JTG"
      },
      "source": [
        "spark = SparkSession \\\n",
        "        .builder \\\n",
        "        .appName('Python Spark DataFrame Example') \\\n",
        "        .getOrCreate()"
      ],
      "execution_count": null,
      "outputs": []
    },
    {
      "cell_type": "code",
      "metadata": {
        "id": "JIabKgdO5qp_"
      },
      "source": [
        "kiva = spark.read.csv('kiva_el.csv',sep=',',\n",
        "                      header='true',inferSchema='true')"
      ],
      "execution_count": null,
      "outputs": []
    },
    {
      "cell_type": "markdown",
      "metadata": {
        "id": "vgRABZP1ZzmY"
      },
      "source": [
        "# Checking the Type"
      ]
    },
    {
      "cell_type": "code",
      "metadata": {
        "id": "hl-YJI_y605i",
        "outputId": "f68f24ad-7ce9-4567-e240-7c16f2314e20",
        "colab": {
          "base_uri": "https://localhost:8080/",
          "height": 34
        }
      },
      "source": [
        "type(kiva)"
      ],
      "execution_count": null,
      "outputs": [
        {
          "output_type": "execute_result",
          "data": {
            "text/plain": [
              "pyspark.sql.dataframe.DataFrame"
            ]
          },
          "metadata": {
            "tags": []
          },
          "execution_count": 38
        }
      ]
    },
    {
      "cell_type": "markdown",
      "metadata": {
        "id": "L3uBz9Q2aoUD"
      },
      "source": [
        "## **Printing the Data Schema**"
      ]
    },
    {
      "cell_type": "code",
      "metadata": {
        "id": "UgdOcGLZ65rj",
        "outputId": "dee9a5ea-c3b5-49e0-f11d-763f1887de62",
        "colab": {
          "base_uri": "https://localhost:8080/",
          "height": 566
        }
      },
      "source": [
        "kiva.printSchema()"
      ],
      "execution_count": null,
      "outputs": [
        {
          "output_type": "stream",
          "text": [
            "root\n",
            " |-- LocationName: string (nullable = true)\n",
            " |-- ISO: string (nullable = true)\n",
            " |-- country: string (nullable = true)\n",
            " |-- region: string (nullable = true)\n",
            " |-- world_region: string (nullable = true)\n",
            " |-- MPI: string (nullable = true)\n",
            " |-- geo: string (nullable = true)\n",
            " |-- lat: string (nullable = true)\n",
            " |-- lon: string (nullable = true)\n",
            " |-- id: string (nullable = true)\n",
            " |-- funded_amount: string (nullable = true)\n",
            " |-- loan_amount: string (nullable = true)\n",
            " |-- activity: string (nullable = true)\n",
            " |-- sector: string (nullable = true)\n",
            " |-- use: string (nullable = true)\n",
            " |-- country_code: string (nullable = true)\n",
            " |-- currency: string (nullable = true)\n",
            " |-- partner_id: string (nullable = true)\n",
            " |-- posted_time: string (nullable = true)\n",
            " |-- disbursed_time: string (nullable = true)\n",
            " |-- funded_time: string (nullable = true)\n",
            " |-- term_in_months: string (nullable = true)\n",
            " |-- lender_count: double (nullable = true)\n",
            " |-- tags: string (nullable = true)\n",
            " |-- borrower_genders: string (nullable = true)\n",
            " |-- repayment_interval: string (nullable = true)\n",
            " |-- date: string (nullable = true)\n",
            " |-- year: string (nullable = true)\n",
            " |-- month: string (nullable = true)\n",
            " |-- day: string (nullable = true)\n",
            "\n"
          ],
          "name": "stdout"
        }
      ]
    },
    {
      "cell_type": "code",
      "metadata": {
        "id": "EKI8Rg0v7BJl",
        "outputId": "55bcea45-ffd5-47fa-f5ba-7acbc9a03d6d",
        "colab": {
          "base_uri": "https://localhost:8080/",
          "height": 226
        }
      },
      "source": [
        "kiva.show(5)"
      ],
      "execution_count": null,
      "outputs": [
        {
          "output_type": "stream",
          "text": [
            "+--------------------+---+-----------+----------+--------------------+----+--------------------+----------+-----------+------+-------------+-----------+-------------+-----------+--------------------+------------+--------+----------+--------------------+--------------------+--------------------+--------------+------------+--------------------+--------------------+------------------+----------+----+--------+---------+\n",
            "|        LocationName|ISO|    country|    region|        world_region| MPI|                 geo|       lat|        lon|    id|funded_amount|loan_amount|     activity|     sector|                 use|country_code|currency|partner_id|         posted_time|      disbursed_time|         funded_time|term_in_months|lender_count|                tags|    borrower_genders|repayment_interval|      date|year|   month|      day|\n",
            "+--------------------+---+-----------+----------+--------------------+----+--------------------+----------+-----------+------+-------------+-----------+-------------+-----------+--------------------+------------+--------+----------+--------------------+--------------------+--------------------+--------------+------------+--------------------+--------------------+------------------+----------+----+--------+---------+\n",
            "|Ahuachapan, El Sa...|SLV|El Salvador|Ahuachapan|Latin America and...|0.03|(13.8216148, -89....|13.8216148|-89.9253233|670484|       1300.0|     1300.0|  Agriculture|Agriculture|to pay for the la...|          SV|     USD|     333.0|2014-02-15 21:03:...|2014-01-16 08:00:...|2014-02-21 20:41:...|          14.0|        29.0|                null|female, female, f...|            bullet|2014-02-15|2014|February| Saturday|\n",
            "|Ahuachapan, El Sa...|SLV|El Salvador|Ahuachapan|Latin America and...|0.03|(13.8216148, -89....|13.8216148|-89.9253233|675795|       1800.0|     3000.0|    Livestock|Agriculture|        to buy cows.|          SV|     USD|     333.0|2014-02-24 17:53:...|2014-02-06 08:00:...|                null|          14.0|        53.0|#Animals, #Parent...|    male, male, male|            bullet|2014-02-24|2014|February|   Monday|\n",
            "|Ahuachapan, El Sa...|SLV|El Salvador|Ahuachapan|Latin America and...|0.03|(13.8216148, -89....|13.8216148|-89.9253233|686887|       1900.0|     1900.0|  Agriculture|Agriculture|to buy agricultur...|          SV|     USD|     333.0|2014-03-20 22:43:...|2014-02-20 08:00:...|2014-04-24 12:40:...|          14.0|        31.0|#Hidden Gem, #Sup...|  male, male, female|            bullet|2014-03-20|2014|   March| Thursday|\n",
            "|Ahuachapan, El Sa...|SLV|El Salvador|Ahuachapan|Latin America and...|0.03|(13.8216148, -89....|13.8216148|-89.9253233|706942|       1925.0|     2200.0|  Agriculture|Agriculture|to buy agricultur...|          SV|     USD|     333.0|2014-05-07 14:48:...|2014-04-10 07:00:...|                null|          14.0|        54.0|volunteer_pick, v...|    male, male, male|            bullet|2014-05-07|2014|     May|Wednesday|\n",
            "|Ahuachapan, El Sa...|SLV|El Salvador|Ahuachapan|Latin America and...|0.03|(13.8216148, -89....|13.8216148|-89.9253233|716964|       1275.0|     1500.0|Farm Supplies|Agriculture|to buy agricultur...|          SV|     USD|     333.0|2014-05-27 20:54:...|2014-05-15 07:00:...|                null|          14.0|         7.0|volunteer_pick, v...|    male, male, male|            bullet|2014-05-27|2014|     May|  Tuesday|\n",
            "+--------------------+---+-----------+----------+--------------------+----+--------------------+----------+-----------+------+-------------+-----------+-------------+-----------+--------------------+------------+--------+----------+--------------------+--------------------+--------------------+--------------+------------+--------------------+--------------------+------------------+----------+----+--------+---------+\n",
            "only showing top 5 rows\n",
            "\n"
          ],
          "name": "stdout"
        }
      ]
    },
    {
      "cell_type": "markdown",
      "metadata": {
        "id": "uS8MiEH6awQd"
      },
      "source": [
        "# Creating Pandas DataFrame"
      ]
    },
    {
      "cell_type": "code",
      "metadata": {
        "id": "Gm-Y4JIe7jCb"
      },
      "source": [
        "df = kiva.limit(5).toPandas()"
      ],
      "execution_count": null,
      "outputs": []
    },
    {
      "cell_type": "code",
      "metadata": {
        "id": "2NKYiAGC7zyj",
        "outputId": "43b1bd83-fbc8-4cb3-80fe-1d0b088f0fb0",
        "colab": {
          "base_uri": "https://localhost:8080/",
          "height": 497
        }
      },
      "source": [
        "df"
      ],
      "execution_count": null,
      "outputs": [
        {
          "output_type": "execute_result",
          "data": {
            "text/html": [
              "<div>\n",
              "<style scoped>\n",
              "    .dataframe tbody tr th:only-of-type {\n",
              "        vertical-align: middle;\n",
              "    }\n",
              "\n",
              "    .dataframe tbody tr th {\n",
              "        vertical-align: top;\n",
              "    }\n",
              "\n",
              "    .dataframe thead th {\n",
              "        text-align: right;\n",
              "    }\n",
              "</style>\n",
              "<table border=\"1\" class=\"dataframe\">\n",
              "  <thead>\n",
              "    <tr style=\"text-align: right;\">\n",
              "      <th></th>\n",
              "      <th>LocationName</th>\n",
              "      <th>ISO</th>\n",
              "      <th>country</th>\n",
              "      <th>region</th>\n",
              "      <th>world_region</th>\n",
              "      <th>MPI</th>\n",
              "      <th>geo</th>\n",
              "      <th>lat</th>\n",
              "      <th>lon</th>\n",
              "      <th>id</th>\n",
              "      <th>funded_amount</th>\n",
              "      <th>loan_amount</th>\n",
              "      <th>activity</th>\n",
              "      <th>sector</th>\n",
              "      <th>use</th>\n",
              "      <th>country_code</th>\n",
              "      <th>currency</th>\n",
              "      <th>partner_id</th>\n",
              "      <th>posted_time</th>\n",
              "      <th>disbursed_time</th>\n",
              "      <th>funded_time</th>\n",
              "      <th>term_in_months</th>\n",
              "      <th>lender_count</th>\n",
              "      <th>tags</th>\n",
              "      <th>borrower_genders</th>\n",
              "      <th>repayment_interval</th>\n",
              "      <th>date</th>\n",
              "      <th>year</th>\n",
              "      <th>month</th>\n",
              "      <th>day</th>\n",
              "    </tr>\n",
              "  </thead>\n",
              "  <tbody>\n",
              "    <tr>\n",
              "      <th>0</th>\n",
              "      <td>Ahuachapan, El Salvador</td>\n",
              "      <td>SLV</td>\n",
              "      <td>El Salvador</td>\n",
              "      <td>Ahuachapan</td>\n",
              "      <td>Latin America and Caribbean</td>\n",
              "      <td>0.03</td>\n",
              "      <td>(13.8216148, -89.9253233)</td>\n",
              "      <td>13.8216148</td>\n",
              "      <td>-89.9253233</td>\n",
              "      <td>670484</td>\n",
              "      <td>1300.0</td>\n",
              "      <td>1300.0</td>\n",
              "      <td>Agriculture</td>\n",
              "      <td>Agriculture</td>\n",
              "      <td>to pay for the land's rent and buy agricultura...</td>\n",
              "      <td>SV</td>\n",
              "      <td>USD</td>\n",
              "      <td>333.0</td>\n",
              "      <td>2014-02-15 21:03:42+00:00</td>\n",
              "      <td>2014-01-16 08:00:00+00:00</td>\n",
              "      <td>2014-02-21 20:41:13+00:00</td>\n",
              "      <td>14.0</td>\n",
              "      <td>29.0</td>\n",
              "      <td>None</td>\n",
              "      <td>female, female, female</td>\n",
              "      <td>bullet</td>\n",
              "      <td>2014-02-15</td>\n",
              "      <td>2014</td>\n",
              "      <td>February</td>\n",
              "      <td>Saturday</td>\n",
              "    </tr>\n",
              "    <tr>\n",
              "      <th>1</th>\n",
              "      <td>Ahuachapan, El Salvador</td>\n",
              "      <td>SLV</td>\n",
              "      <td>El Salvador</td>\n",
              "      <td>Ahuachapan</td>\n",
              "      <td>Latin America and Caribbean</td>\n",
              "      <td>0.03</td>\n",
              "      <td>(13.8216148, -89.9253233)</td>\n",
              "      <td>13.8216148</td>\n",
              "      <td>-89.9253233</td>\n",
              "      <td>675795</td>\n",
              "      <td>1800.0</td>\n",
              "      <td>3000.0</td>\n",
              "      <td>Livestock</td>\n",
              "      <td>Agriculture</td>\n",
              "      <td>to buy cows.</td>\n",
              "      <td>SV</td>\n",
              "      <td>USD</td>\n",
              "      <td>333.0</td>\n",
              "      <td>2014-02-24 17:53:22+00:00</td>\n",
              "      <td>2014-02-06 08:00:00+00:00</td>\n",
              "      <td>None</td>\n",
              "      <td>14.0</td>\n",
              "      <td>53.0</td>\n",
              "      <td>#Animals, #Parent, #Supporting Family, user_fa...</td>\n",
              "      <td>male, male, male</td>\n",
              "      <td>bullet</td>\n",
              "      <td>2014-02-24</td>\n",
              "      <td>2014</td>\n",
              "      <td>February</td>\n",
              "      <td>Monday</td>\n",
              "    </tr>\n",
              "    <tr>\n",
              "      <th>2</th>\n",
              "      <td>Ahuachapan, El Salvador</td>\n",
              "      <td>SLV</td>\n",
              "      <td>El Salvador</td>\n",
              "      <td>Ahuachapan</td>\n",
              "      <td>Latin America and Caribbean</td>\n",
              "      <td>0.03</td>\n",
              "      <td>(13.8216148, -89.9253233)</td>\n",
              "      <td>13.8216148</td>\n",
              "      <td>-89.9253233</td>\n",
              "      <td>686887</td>\n",
              "      <td>1900.0</td>\n",
              "      <td>1900.0</td>\n",
              "      <td>Agriculture</td>\n",
              "      <td>Agriculture</td>\n",
              "      <td>to buy agricultural supplies</td>\n",
              "      <td>SV</td>\n",
              "      <td>USD</td>\n",
              "      <td>333.0</td>\n",
              "      <td>2014-03-20 22:43:26+00:00</td>\n",
              "      <td>2014-02-20 08:00:00+00:00</td>\n",
              "      <td>2014-04-24 12:40:59+00:00</td>\n",
              "      <td>14.0</td>\n",
              "      <td>31.0</td>\n",
              "      <td>#Hidden Gem, #Supporting Family, user_favorite...</td>\n",
              "      <td>male, male, female</td>\n",
              "      <td>bullet</td>\n",
              "      <td>2014-03-20</td>\n",
              "      <td>2014</td>\n",
              "      <td>March</td>\n",
              "      <td>Thursday</td>\n",
              "    </tr>\n",
              "    <tr>\n",
              "      <th>3</th>\n",
              "      <td>Ahuachapan, El Salvador</td>\n",
              "      <td>SLV</td>\n",
              "      <td>El Salvador</td>\n",
              "      <td>Ahuachapan</td>\n",
              "      <td>Latin America and Caribbean</td>\n",
              "      <td>0.03</td>\n",
              "      <td>(13.8216148, -89.9253233)</td>\n",
              "      <td>13.8216148</td>\n",
              "      <td>-89.9253233</td>\n",
              "      <td>706942</td>\n",
              "      <td>1925.0</td>\n",
              "      <td>2200.0</td>\n",
              "      <td>Agriculture</td>\n",
              "      <td>Agriculture</td>\n",
              "      <td>to buy agricultural supplies.</td>\n",
              "      <td>SV</td>\n",
              "      <td>USD</td>\n",
              "      <td>333.0</td>\n",
              "      <td>2014-05-07 14:48:20+00:00</td>\n",
              "      <td>2014-04-10 07:00:00+00:00</td>\n",
              "      <td>None</td>\n",
              "      <td>14.0</td>\n",
              "      <td>54.0</td>\n",
              "      <td>volunteer_pick, volunteer_like, user_favorite,...</td>\n",
              "      <td>male, male, male</td>\n",
              "      <td>bullet</td>\n",
              "      <td>2014-05-07</td>\n",
              "      <td>2014</td>\n",
              "      <td>May</td>\n",
              "      <td>Wednesday</td>\n",
              "    </tr>\n",
              "    <tr>\n",
              "      <th>4</th>\n",
              "      <td>Ahuachapan, El Salvador</td>\n",
              "      <td>SLV</td>\n",
              "      <td>El Salvador</td>\n",
              "      <td>Ahuachapan</td>\n",
              "      <td>Latin America and Caribbean</td>\n",
              "      <td>0.03</td>\n",
              "      <td>(13.8216148, -89.9253233)</td>\n",
              "      <td>13.8216148</td>\n",
              "      <td>-89.9253233</td>\n",
              "      <td>716964</td>\n",
              "      <td>1275.0</td>\n",
              "      <td>1500.0</td>\n",
              "      <td>Farm Supplies</td>\n",
              "      <td>Agriculture</td>\n",
              "      <td>to buy agricultural supplies.</td>\n",
              "      <td>SV</td>\n",
              "      <td>USD</td>\n",
              "      <td>333.0</td>\n",
              "      <td>2014-05-27 20:54:47+00:00</td>\n",
              "      <td>2014-05-15 07:00:00+00:00</td>\n",
              "      <td>None</td>\n",
              "      <td>14.0</td>\n",
              "      <td>7.0</td>\n",
              "      <td>volunteer_pick, volunteer_like, #Biz Durable A...</td>\n",
              "      <td>male, male, male</td>\n",
              "      <td>bullet</td>\n",
              "      <td>2014-05-27</td>\n",
              "      <td>2014</td>\n",
              "      <td>May</td>\n",
              "      <td>Tuesday</td>\n",
              "    </tr>\n",
              "  </tbody>\n",
              "</table>\n",
              "</div>"
            ],
            "text/plain": [
              "              LocationName  ISO      country  ...  year     month        day\n",
              "0  Ahuachapan, El Salvador  SLV  El Salvador  ...  2014  February   Saturday\n",
              "1  Ahuachapan, El Salvador  SLV  El Salvador  ...  2014  February     Monday\n",
              "2  Ahuachapan, El Salvador  SLV  El Salvador  ...  2014     March   Thursday\n",
              "3  Ahuachapan, El Salvador  SLV  El Salvador  ...  2014       May  Wednesday\n",
              "4  Ahuachapan, El Salvador  SLV  El Salvador  ...  2014       May    Tuesday\n",
              "\n",
              "[5 rows x 30 columns]"
            ]
          },
          "metadata": {
            "tags": []
          },
          "execution_count": 42
        }
      ]
    },
    {
      "cell_type": "code",
      "metadata": {
        "id": "yot83mXw70uI"
      },
      "source": [
        "kiva = kiva.withColumnRenamed('LocationName','Location')"
      ],
      "execution_count": null,
      "outputs": []
    },
    {
      "cell_type": "code",
      "metadata": {
        "id": "mPsvPcDo8hVn",
        "outputId": "9bcda587-b540-4111-890e-4d53b40ab196",
        "colab": {
          "base_uri": "https://localhost:8080/",
          "height": 226
        }
      },
      "source": [
        "kiva.show(5)"
      ],
      "execution_count": null,
      "outputs": [
        {
          "output_type": "stream",
          "text": [
            "+--------------------+---+-----------+----------+--------------------+----+--------------------+----------+-----------+------+-------------+-----------+-------------+-----------+--------------------+------------+--------+----------+--------------------+--------------------+--------------------+--------------+------------+--------------------+--------------------+------------------+----------+----+--------+---------+\n",
            "|            Location|ISO|    country|    region|        world_region| MPI|                 geo|       lat|        lon|    id|funded_amount|loan_amount|     activity|     sector|                 use|country_code|currency|partner_id|         posted_time|      disbursed_time|         funded_time|term_in_months|lender_count|                tags|    borrower_genders|repayment_interval|      date|year|   month|      day|\n",
            "+--------------------+---+-----------+----------+--------------------+----+--------------------+----------+-----------+------+-------------+-----------+-------------+-----------+--------------------+------------+--------+----------+--------------------+--------------------+--------------------+--------------+------------+--------------------+--------------------+------------------+----------+----+--------+---------+\n",
            "|Ahuachapan, El Sa...|SLV|El Salvador|Ahuachapan|Latin America and...|0.03|(13.8216148, -89....|13.8216148|-89.9253233|670484|       1300.0|     1300.0|  Agriculture|Agriculture|to pay for the la...|          SV|     USD|     333.0|2014-02-15 21:03:...|2014-01-16 08:00:...|2014-02-21 20:41:...|          14.0|        29.0|                null|female, female, f...|            bullet|2014-02-15|2014|February| Saturday|\n",
            "|Ahuachapan, El Sa...|SLV|El Salvador|Ahuachapan|Latin America and...|0.03|(13.8216148, -89....|13.8216148|-89.9253233|675795|       1800.0|     3000.0|    Livestock|Agriculture|        to buy cows.|          SV|     USD|     333.0|2014-02-24 17:53:...|2014-02-06 08:00:...|                null|          14.0|        53.0|#Animals, #Parent...|    male, male, male|            bullet|2014-02-24|2014|February|   Monday|\n",
            "|Ahuachapan, El Sa...|SLV|El Salvador|Ahuachapan|Latin America and...|0.03|(13.8216148, -89....|13.8216148|-89.9253233|686887|       1900.0|     1900.0|  Agriculture|Agriculture|to buy agricultur...|          SV|     USD|     333.0|2014-03-20 22:43:...|2014-02-20 08:00:...|2014-04-24 12:40:...|          14.0|        31.0|#Hidden Gem, #Sup...|  male, male, female|            bullet|2014-03-20|2014|   March| Thursday|\n",
            "|Ahuachapan, El Sa...|SLV|El Salvador|Ahuachapan|Latin America and...|0.03|(13.8216148, -89....|13.8216148|-89.9253233|706942|       1925.0|     2200.0|  Agriculture|Agriculture|to buy agricultur...|          SV|     USD|     333.0|2014-05-07 14:48:...|2014-04-10 07:00:...|                null|          14.0|        54.0|volunteer_pick, v...|    male, male, male|            bullet|2014-05-07|2014|     May|Wednesday|\n",
            "|Ahuachapan, El Sa...|SLV|El Salvador|Ahuachapan|Latin America and...|0.03|(13.8216148, -89....|13.8216148|-89.9253233|716964|       1275.0|     1500.0|Farm Supplies|Agriculture|to buy agricultur...|          SV|     USD|     333.0|2014-05-27 20:54:...|2014-05-15 07:00:...|                null|          14.0|         7.0|volunteer_pick, v...|    male, male, male|            bullet|2014-05-27|2014|     May|  Tuesday|\n",
            "+--------------------+---+-----------+----------+--------------------+----+--------------------+----------+-----------+------+-------------+-----------+-------------+-----------+--------------------+------------+--------+----------+--------------------+--------------------+--------------------+--------------+------------+--------------------+--------------------+------------------+----------+----+--------+---------+\n",
            "only showing top 5 rows\n",
            "\n"
          ],
          "name": "stdout"
        }
      ]
    },
    {
      "cell_type": "markdown",
      "metadata": {
        "id": "d5_HnZ8y_JD4"
      },
      "source": [
        "# Selecting in a DataFrame"
      ]
    },
    {
      "cell_type": "code",
      "metadata": {
        "id": "_7raUZ8k8jaf"
      },
      "source": [
        "kiva_select = kiva.select('region','activity','sector',\n",
        "                          'loan_amount','funded_amount')"
      ],
      "execution_count": null,
      "outputs": []
    },
    {
      "cell_type": "code",
      "metadata": {
        "id": "mOTSpeul-2WE",
        "outputId": "6bebaa35-bdd7-4308-b126-1dcde5cb0def",
        "colab": {
          "base_uri": "https://localhost:8080/",
          "height": 154
        }
      },
      "source": [
        "kiva_select.show(2)"
      ],
      "execution_count": null,
      "outputs": [
        {
          "output_type": "stream",
          "text": [
            "+----------+-----------+-----------+-----------+-------------+\n",
            "|    region|   activity|     sector|loan_amount|funded_amount|\n",
            "+----------+-----------+-----------+-----------+-------------+\n",
            "|Ahuachapan|Agriculture|Agriculture|     1300.0|       1300.0|\n",
            "|Ahuachapan|  Livestock|Agriculture|     3000.0|       1800.0|\n",
            "+----------+-----------+-----------+-----------+-------------+\n",
            "only showing top 2 rows\n",
            "\n"
          ],
          "name": "stdout"
        }
      ]
    },
    {
      "cell_type": "markdown",
      "metadata": {
        "id": "qOekbsMW_Dj4"
      },
      "source": [
        "## **Filtering a DataFrame**"
      ]
    },
    {
      "cell_type": "code",
      "metadata": {
        "id": "PDYW25qs-5Bw",
        "outputId": "eeb4c455-b7a5-4ecb-b657-d0d499db2b0a",
        "colab": {
          "base_uri": "https://localhost:8080/",
          "height": 463
        }
      },
      "source": [
        "kiva_select.filter((kiva_select.loan_amount > 100) \n",
        "              & (kiva_select.activity == 'Livestock')).show()"
      ],
      "execution_count": null,
      "outputs": [
        {
          "output_type": "stream",
          "text": [
            "+----------+---------+-----------+-----------+-------------+\n",
            "|    region| activity|     sector|loan_amount|funded_amount|\n",
            "+----------+---------+-----------+-----------+-------------+\n",
            "|Ahuachapan|Livestock|Agriculture|     3000.0|       1800.0|\n",
            "|San Miguel|Livestock|Agriculture|     1600.0|       1600.0|\n",
            "|San Miguel|Livestock|Agriculture|     1000.0|       1000.0|\n",
            "|San Miguel|Livestock|Agriculture|      800.0|        800.0|\n",
            "|San Miguel|Livestock|Agriculture|      500.0|        500.0|\n",
            "|San Miguel|Livestock|Agriculture|     1500.0|       1500.0|\n",
            "|San Miguel|Livestock|Agriculture|      700.0|        700.0|\n",
            "|San Miguel|Livestock|Agriculture|     1000.0|       1000.0|\n",
            "|San Miguel|Livestock|Agriculture|     1000.0|       1000.0|\n",
            "|San Miguel|Livestock|Agriculture|      500.0|        500.0|\n",
            "|San Miguel|Livestock|Agriculture|      650.0|        650.0|\n",
            "|San Miguel|Livestock|Agriculture|      800.0|        800.0|\n",
            "|San Miguel|Livestock|Agriculture|      600.0|        600.0|\n",
            "|San Miguel|Livestock|Agriculture|      600.0|        600.0|\n",
            "|San Miguel|Livestock|Agriculture|     1400.0|       1400.0|\n",
            "|San Miguel|Livestock|Agriculture|      500.0|        500.0|\n",
            "|San Miguel|Livestock|Agriculture|      650.0|        650.0|\n",
            "|San Miguel|Livestock|Agriculture|      600.0|        600.0|\n",
            "|San Miguel|Livestock|Agriculture|      800.0|        800.0|\n",
            "|San Miguel|Livestock|Agriculture|      200.0|        200.0|\n",
            "+----------+---------+-----------+-----------+-------------+\n",
            "only showing top 20 rows\n",
            "\n"
          ],
          "name": "stdout"
        }
      ]
    },
    {
      "cell_type": "code",
      "metadata": {
        "id": "mU0560wK_r0z"
      },
      "source": [
        "kiva_select.filter((kiva_select.loan_amount > 100) \n",
        "              & (kiva_select.activity == 'Livestock')).collect()"
      ],
      "execution_count": null,
      "outputs": []
    },
    {
      "cell_type": "markdown",
      "metadata": {
        "id": "SfQZTK_PAkNF"
      },
      "source": [
        "# Group By"
      ]
    },
    {
      "cell_type": "code",
      "metadata": {
        "id": "3PaJRPsb_7o5"
      },
      "source": [
        "from pyspark.sql import functions as F"
      ],
      "execution_count": null,
      "outputs": []
    },
    {
      "cell_type": "code",
      "metadata": {
        "id": "qJu--NMdBCj3",
        "outputId": "e5af7198-dc3b-45ba-ead0-98020d314b96",
        "colab": {
          "base_uri": "https://localhost:8080/",
          "height": 463
        }
      },
      "source": [
        "kiva_select.groupby(['sector','activity']).agg(\n",
        "    F.sum('funded_amount').alias('Total Funded Amount')\n",
        ").show()"
      ],
      "execution_count": null,
      "outputs": [
        {
          "output_type": "stream",
          "text": [
            "+-------------+--------------------+-------------------+\n",
            "|       sector|            activity|Total Funded Amount|\n",
            "+-------------+--------------------+-------------------+\n",
            "|         Food|Food Production/S...|           214125.0|\n",
            "|       Retail| Home Products Sales|             2500.0|\n",
            "|Manufacturing|          Metal Shop|            10150.0|\n",
            "|     Services|         Auto Repair|            12300.0|\n",
            "| Personal Use|   Personal Expenses|            17050.0|\n",
            "| Personal Use|         Home Energy|             5700.0|\n",
            "|         Food|       Cheese Making|             5800.0|\n",
            "|  Agriculture|             Flowers|             1400.0|\n",
            "|  Agriculture|               Dairy|            18575.0|\n",
            "|       Retail|    Electrical Goods|              650.0|\n",
            "|         Arts|              Crafts|             3200.0|\n",
            "| Construction|Construction Supp...|              400.0|\n",
            "|     Services|            Printing|             1200.0|\n",
            "|     Clothing|            Clothing|             9000.0|\n",
            "|         Food|             Fishing|             5300.0|\n",
            "|     Clothing|       Used Clothing|              600.0|\n",
            "|     Services|           Recycling|             1500.0|\n",
            "|         null|                null|               null|\n",
            "|         Food|                Food|            17375.0|\n",
            "|         Food|             Cereals|              800.0|\n",
            "+-------------+--------------------+-------------------+\n",
            "only showing top 20 rows\n",
            "\n"
          ],
          "name": "stdout"
        }
      ]
    },
    {
      "cell_type": "markdown",
      "metadata": {
        "id": "k5mGDRJZB9Db"
      },
      "source": [
        "## **Running SQL Queries**"
      ]
    },
    {
      "cell_type": "code",
      "metadata": {
        "id": "ocd8_wdLBcOh"
      },
      "source": [
        "from pyspark.sql import SQLContext"
      ],
      "execution_count": null,
      "outputs": []
    },
    {
      "cell_type": "code",
      "metadata": {
        "id": "od5JmmMBCZLb"
      },
      "source": [
        "sqlContext = SQLContext(sc)"
      ],
      "execution_count": null,
      "outputs": []
    },
    {
      "cell_type": "code",
      "metadata": {
        "id": "0q6P18EUCfkf"
      },
      "source": [
        "kiva_select.registerTempTable('kiva_table')"
      ],
      "execution_count": null,
      "outputs": []
    },
    {
      "cell_type": "code",
      "metadata": {
        "id": "cU0QzL-ZCqxM"
      },
      "source": [
        "kiva_sql = sqlContext.sql('SELECT * FROM kiva_table WHERE funded_amount>100 \\\n",
        "                           ORDER BY funded_amount DESC')"
      ],
      "execution_count": null,
      "outputs": []
    },
    {
      "cell_type": "code",
      "metadata": {
        "id": "kqNKnRCGDM9i",
        "outputId": "d5e4b1ca-7069-4492-f896-af9c14aa54e2",
        "colab": {
          "base_uri": "https://localhost:8080/",
          "height": 463
        }
      },
      "source": [
        "kiva_sql.show()"
      ],
      "execution_count": null,
      "outputs": [
        {
          "output_type": "stream",
          "text": [
            "+----------+--------------------+-----------+-----------+-------------+\n",
            "|    region|            activity|     sector|loan_amount|funded_amount|\n",
            "+----------+--------------------+-----------+-----------+-------------+\n",
            "|San Miguel|            Services|   Services|     1600.0|        975.0|\n",
            "|San Miguel|         Agriculture|Agriculture|      975.0|        975.0|\n",
            "|San Miguel|              Retail|     Retail|     1600.0|        975.0|\n",
            "|San Miguel|Personal Housing ...|    Housing|     1500.0|        975.0|\n",
            "|San Miguel| Home Products Sales|     Retail|     1025.0|        975.0|\n",
            "|San Miguel|           Livestock|Agriculture|     1200.0|        975.0|\n",
            "|San Miguel|         Agriculture|Agriculture|      950.0|        950.0|\n",
            "|San Miguel|         Agriculture|Agriculture|      950.0|        950.0|\n",
            "|San Miguel|         Auto Repair|   Services|     1500.0|        950.0|\n",
            "|San Miguel|           Tailoring|   Services|      950.0|        950.0|\n",
            "|San Miguel|              Cattle|Agriculture|      950.0|        950.0|\n",
            "|San Miguel|           Livestock|Agriculture|      950.0|        950.0|\n",
            "|San Miguel|         Agriculture|Agriculture|     1400.0|        950.0|\n",
            "|San Miguel|      Clothing Sales|   Clothing|      950.0|        950.0|\n",
            "|San Miguel|              Cattle|Agriculture|      950.0|        950.0|\n",
            "|San Miguel|              Retail|     Retail|      950.0|        950.0|\n",
            "|San Miguel|                Pigs|Agriculture|      950.0|        950.0|\n",
            "|San Miguel|           Livestock|Agriculture|     1300.0|        925.0|\n",
            "|San Miguel|           Livestock|Agriculture|     1350.0|        925.0|\n",
            "|San Miguel|         Agriculture|Agriculture|     1500.0|        925.0|\n",
            "+----------+--------------------+-----------+-----------+-------------+\n",
            "only showing top 20 rows\n",
            "\n"
          ],
          "name": "stdout"
        }
      ]
    },
    {
      "cell_type": "markdown",
      "metadata": {
        "id": "ILZz8vdZbCBP"
      },
      "source": [
        "## **Happy Learning**"
      ]
    }
  ]
}